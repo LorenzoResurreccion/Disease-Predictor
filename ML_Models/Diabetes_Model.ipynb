{
  "nbformat": 4,
  "nbformat_minor": 0,
  "metadata": {
    "colab": {
      "provenance": []
    },
    "kernelspec": {
      "name": "python3",
      "display_name": "Python 3"
    },
    "language_info": {
      "name": "python"
    }
  },
  "cells": [
    {
      "cell_type": "markdown",
      "source": [
        "# I. Import necessary libraries"
      ],
      "metadata": {
        "id": "6mMCcAQ0hvvE"
      }
    },
    {
      "cell_type": "code",
      "source": [
        "#import needed libraries\n",
        "import numpy as np\n",
        "import pandas as pd\n",
        "import matplotlib.pyplot as plt\n",
        "\n",
        "from sklearn.model_selection import train_test_split\n",
        "from sklearn.preprocessing import MinMaxScaler\n",
        "from sklearn.metrics import accuracy_score\n",
        "from sklearn.model_selection import GridSearchCV #for cross validation\n",
        "\n",
        "#models used\n",
        "from sklearn.linear_model import LogisticRegression\n",
        "from sklearn.naive_bayes import GaussianNB\n",
        "from sklearn import svm\n",
        "from sklearn.neighbors import KNeighborsClassifier\n",
        "from sklearn.tree import DecisionTreeClassifier\n",
        "from sklearn.ensemble import RandomForestClassifier\n",
        "import xgboost as xgb\n",
        "from sklearn.ensemble import StackingClassifier\n",
        "#neural network\n",
        "from keras.models import Sequential\n",
        "from keras.layers import Dense"
      ],
      "metadata": {
        "id": "oIKC74huinZ7"
      },
      "execution_count": 1,
      "outputs": []
    },
    {
      "cell_type": "code",
      "execution_count": 2,
      "metadata": {
        "colab": {
          "base_uri": "https://localhost:8080/",
          "height": 226
        },
        "id": "z3n_lcBFhrg6",
        "outputId": "5e2b40f5-081d-4311-cb80-5d5cb96a115d"
      },
      "outputs": [
        {
          "output_type": "execute_result",
          "data": {
            "text/plain": [
              "    Age  Sex  HighChol  CholCheck   BMI  Smoker  HeartDiseaseorAttack  \\\n",
              "0   4.0  1.0       0.0        1.0  26.0     0.0                   0.0   \n",
              "1  12.0  1.0       1.0        1.0  26.0     1.0                   0.0   \n",
              "2  13.0  1.0       0.0        1.0  26.0     0.0                   0.0   \n",
              "3  11.0  1.0       1.0        1.0  28.0     1.0                   0.0   \n",
              "4   8.0  0.0       0.0        1.0  29.0     1.0                   0.0   \n",
              "\n",
              "   PhysActivity  Fruits  Veggies  HvyAlcoholConsump  GenHlth  MentHlth  \\\n",
              "0           1.0     0.0      1.0                0.0      3.0       5.0   \n",
              "1           0.0     1.0      0.0                0.0      3.0       0.0   \n",
              "2           1.0     1.0      1.0                0.0      1.0       0.0   \n",
              "3           1.0     1.0      1.0                0.0      3.0       0.0   \n",
              "4           1.0     1.0      1.0                0.0      2.0       0.0   \n",
              "\n",
              "   PhysHlth  DiffWalk  Stroke  HighBP  Diabetes  \n",
              "0      30.0       0.0     0.0     1.0       0.0  \n",
              "1       0.0       0.0     1.0     1.0       0.0  \n",
              "2      10.0       0.0     0.0     0.0       0.0  \n",
              "3       3.0       0.0     0.0     1.0       0.0  \n",
              "4       0.0       0.0     0.0     0.0       0.0  "
            ],
            "text/html": [
              "\n",
              "  <div id=\"df-2f343371-56ea-493c-9c73-0b7282eb9e4e\" class=\"colab-df-container\">\n",
              "    <div>\n",
              "<style scoped>\n",
              "    .dataframe tbody tr th:only-of-type {\n",
              "        vertical-align: middle;\n",
              "    }\n",
              "\n",
              "    .dataframe tbody tr th {\n",
              "        vertical-align: top;\n",
              "    }\n",
              "\n",
              "    .dataframe thead th {\n",
              "        text-align: right;\n",
              "    }\n",
              "</style>\n",
              "<table border=\"1\" class=\"dataframe\">\n",
              "  <thead>\n",
              "    <tr style=\"text-align: right;\">\n",
              "      <th></th>\n",
              "      <th>Age</th>\n",
              "      <th>Sex</th>\n",
              "      <th>HighChol</th>\n",
              "      <th>CholCheck</th>\n",
              "      <th>BMI</th>\n",
              "      <th>Smoker</th>\n",
              "      <th>HeartDiseaseorAttack</th>\n",
              "      <th>PhysActivity</th>\n",
              "      <th>Fruits</th>\n",
              "      <th>Veggies</th>\n",
              "      <th>HvyAlcoholConsump</th>\n",
              "      <th>GenHlth</th>\n",
              "      <th>MentHlth</th>\n",
              "      <th>PhysHlth</th>\n",
              "      <th>DiffWalk</th>\n",
              "      <th>Stroke</th>\n",
              "      <th>HighBP</th>\n",
              "      <th>Diabetes</th>\n",
              "    </tr>\n",
              "  </thead>\n",
              "  <tbody>\n",
              "    <tr>\n",
              "      <th>0</th>\n",
              "      <td>4.0</td>\n",
              "      <td>1.0</td>\n",
              "      <td>0.0</td>\n",
              "      <td>1.0</td>\n",
              "      <td>26.0</td>\n",
              "      <td>0.0</td>\n",
              "      <td>0.0</td>\n",
              "      <td>1.0</td>\n",
              "      <td>0.0</td>\n",
              "      <td>1.0</td>\n",
              "      <td>0.0</td>\n",
              "      <td>3.0</td>\n",
              "      <td>5.0</td>\n",
              "      <td>30.0</td>\n",
              "      <td>0.0</td>\n",
              "      <td>0.0</td>\n",
              "      <td>1.0</td>\n",
              "      <td>0.0</td>\n",
              "    </tr>\n",
              "    <tr>\n",
              "      <th>1</th>\n",
              "      <td>12.0</td>\n",
              "      <td>1.0</td>\n",
              "      <td>1.0</td>\n",
              "      <td>1.0</td>\n",
              "      <td>26.0</td>\n",
              "      <td>1.0</td>\n",
              "      <td>0.0</td>\n",
              "      <td>0.0</td>\n",
              "      <td>1.0</td>\n",
              "      <td>0.0</td>\n",
              "      <td>0.0</td>\n",
              "      <td>3.0</td>\n",
              "      <td>0.0</td>\n",
              "      <td>0.0</td>\n",
              "      <td>0.0</td>\n",
              "      <td>1.0</td>\n",
              "      <td>1.0</td>\n",
              "      <td>0.0</td>\n",
              "    </tr>\n",
              "    <tr>\n",
              "      <th>2</th>\n",
              "      <td>13.0</td>\n",
              "      <td>1.0</td>\n",
              "      <td>0.0</td>\n",
              "      <td>1.0</td>\n",
              "      <td>26.0</td>\n",
              "      <td>0.0</td>\n",
              "      <td>0.0</td>\n",
              "      <td>1.0</td>\n",
              "      <td>1.0</td>\n",
              "      <td>1.0</td>\n",
              "      <td>0.0</td>\n",
              "      <td>1.0</td>\n",
              "      <td>0.0</td>\n",
              "      <td>10.0</td>\n",
              "      <td>0.0</td>\n",
              "      <td>0.0</td>\n",
              "      <td>0.0</td>\n",
              "      <td>0.0</td>\n",
              "    </tr>\n",
              "    <tr>\n",
              "      <th>3</th>\n",
              "      <td>11.0</td>\n",
              "      <td>1.0</td>\n",
              "      <td>1.0</td>\n",
              "      <td>1.0</td>\n",
              "      <td>28.0</td>\n",
              "      <td>1.0</td>\n",
              "      <td>0.0</td>\n",
              "      <td>1.0</td>\n",
              "      <td>1.0</td>\n",
              "      <td>1.0</td>\n",
              "      <td>0.0</td>\n",
              "      <td>3.0</td>\n",
              "      <td>0.0</td>\n",
              "      <td>3.0</td>\n",
              "      <td>0.0</td>\n",
              "      <td>0.0</td>\n",
              "      <td>1.0</td>\n",
              "      <td>0.0</td>\n",
              "    </tr>\n",
              "    <tr>\n",
              "      <th>4</th>\n",
              "      <td>8.0</td>\n",
              "      <td>0.0</td>\n",
              "      <td>0.0</td>\n",
              "      <td>1.0</td>\n",
              "      <td>29.0</td>\n",
              "      <td>1.0</td>\n",
              "      <td>0.0</td>\n",
              "      <td>1.0</td>\n",
              "      <td>1.0</td>\n",
              "      <td>1.0</td>\n",
              "      <td>0.0</td>\n",
              "      <td>2.0</td>\n",
              "      <td>0.0</td>\n",
              "      <td>0.0</td>\n",
              "      <td>0.0</td>\n",
              "      <td>0.0</td>\n",
              "      <td>0.0</td>\n",
              "      <td>0.0</td>\n",
              "    </tr>\n",
              "  </tbody>\n",
              "</table>\n",
              "</div>\n",
              "    <div class=\"colab-df-buttons\">\n",
              "\n",
              "  <div class=\"colab-df-container\">\n",
              "    <button class=\"colab-df-convert\" onclick=\"convertToInteractive('df-2f343371-56ea-493c-9c73-0b7282eb9e4e')\"\n",
              "            title=\"Convert this dataframe to an interactive table.\"\n",
              "            style=\"display:none;\">\n",
              "\n",
              "  <svg xmlns=\"http://www.w3.org/2000/svg\" height=\"24px\" viewBox=\"0 -960 960 960\">\n",
              "    <path d=\"M120-120v-720h720v720H120Zm60-500h600v-160H180v160Zm220 220h160v-160H400v160Zm0 220h160v-160H400v160ZM180-400h160v-160H180v160Zm440 0h160v-160H620v160ZM180-180h160v-160H180v160Zm440 0h160v-160H620v160Z\"/>\n",
              "  </svg>\n",
              "    </button>\n",
              "\n",
              "  <style>\n",
              "    .colab-df-container {\n",
              "      display:flex;\n",
              "      gap: 12px;\n",
              "    }\n",
              "\n",
              "    .colab-df-convert {\n",
              "      background-color: #E8F0FE;\n",
              "      border: none;\n",
              "      border-radius: 50%;\n",
              "      cursor: pointer;\n",
              "      display: none;\n",
              "      fill: #1967D2;\n",
              "      height: 32px;\n",
              "      padding: 0 0 0 0;\n",
              "      width: 32px;\n",
              "    }\n",
              "\n",
              "    .colab-df-convert:hover {\n",
              "      background-color: #E2EBFA;\n",
              "      box-shadow: 0px 1px 2px rgba(60, 64, 67, 0.3), 0px 1px 3px 1px rgba(60, 64, 67, 0.15);\n",
              "      fill: #174EA6;\n",
              "    }\n",
              "\n",
              "    .colab-df-buttons div {\n",
              "      margin-bottom: 4px;\n",
              "    }\n",
              "\n",
              "    [theme=dark] .colab-df-convert {\n",
              "      background-color: #3B4455;\n",
              "      fill: #D2E3FC;\n",
              "    }\n",
              "\n",
              "    [theme=dark] .colab-df-convert:hover {\n",
              "      background-color: #434B5C;\n",
              "      box-shadow: 0px 1px 3px 1px rgba(0, 0, 0, 0.15);\n",
              "      filter: drop-shadow(0px 1px 2px rgba(0, 0, 0, 0.3));\n",
              "      fill: #FFFFFF;\n",
              "    }\n",
              "  </style>\n",
              "\n",
              "    <script>\n",
              "      const buttonEl =\n",
              "        document.querySelector('#df-2f343371-56ea-493c-9c73-0b7282eb9e4e button.colab-df-convert');\n",
              "      buttonEl.style.display =\n",
              "        google.colab.kernel.accessAllowed ? 'block' : 'none';\n",
              "\n",
              "      async function convertToInteractive(key) {\n",
              "        const element = document.querySelector('#df-2f343371-56ea-493c-9c73-0b7282eb9e4e');\n",
              "        const dataTable =\n",
              "          await google.colab.kernel.invokeFunction('convertToInteractive',\n",
              "                                                    [key], {});\n",
              "        if (!dataTable) return;\n",
              "\n",
              "        const docLinkHtml = 'Like what you see? Visit the ' +\n",
              "          '<a target=\"_blank\" href=https://colab.research.google.com/notebooks/data_table.ipynb>data table notebook</a>'\n",
              "          + ' to learn more about interactive tables.';\n",
              "        element.innerHTML = '';\n",
              "        dataTable['output_type'] = 'display_data';\n",
              "        await google.colab.output.renderOutput(dataTable, element);\n",
              "        const docLink = document.createElement('div');\n",
              "        docLink.innerHTML = docLinkHtml;\n",
              "        element.appendChild(docLink);\n",
              "      }\n",
              "    </script>\n",
              "  </div>\n",
              "\n",
              "\n",
              "    <div id=\"df-92e2660c-5c58-458d-9402-6bb672e4b9a9\">\n",
              "      <button class=\"colab-df-quickchart\" onclick=\"quickchart('df-92e2660c-5c58-458d-9402-6bb672e4b9a9')\"\n",
              "                title=\"Suggest charts\"\n",
              "                style=\"display:none;\">\n",
              "\n",
              "<svg xmlns=\"http://www.w3.org/2000/svg\" height=\"24px\"viewBox=\"0 0 24 24\"\n",
              "     width=\"24px\">\n",
              "    <g>\n",
              "        <path d=\"M19 3H5c-1.1 0-2 .9-2 2v14c0 1.1.9 2 2 2h14c1.1 0 2-.9 2-2V5c0-1.1-.9-2-2-2zM9 17H7v-7h2v7zm4 0h-2V7h2v10zm4 0h-2v-4h2v4z\"/>\n",
              "    </g>\n",
              "</svg>\n",
              "      </button>\n",
              "\n",
              "<style>\n",
              "  .colab-df-quickchart {\n",
              "      --bg-color: #E8F0FE;\n",
              "      --fill-color: #1967D2;\n",
              "      --hover-bg-color: #E2EBFA;\n",
              "      --hover-fill-color: #174EA6;\n",
              "      --disabled-fill-color: #AAA;\n",
              "      --disabled-bg-color: #DDD;\n",
              "  }\n",
              "\n",
              "  [theme=dark] .colab-df-quickchart {\n",
              "      --bg-color: #3B4455;\n",
              "      --fill-color: #D2E3FC;\n",
              "      --hover-bg-color: #434B5C;\n",
              "      --hover-fill-color: #FFFFFF;\n",
              "      --disabled-bg-color: #3B4455;\n",
              "      --disabled-fill-color: #666;\n",
              "  }\n",
              "\n",
              "  .colab-df-quickchart {\n",
              "    background-color: var(--bg-color);\n",
              "    border: none;\n",
              "    border-radius: 50%;\n",
              "    cursor: pointer;\n",
              "    display: none;\n",
              "    fill: var(--fill-color);\n",
              "    height: 32px;\n",
              "    padding: 0;\n",
              "    width: 32px;\n",
              "  }\n",
              "\n",
              "  .colab-df-quickchart:hover {\n",
              "    background-color: var(--hover-bg-color);\n",
              "    box-shadow: 0 1px 2px rgba(60, 64, 67, 0.3), 0 1px 3px 1px rgba(60, 64, 67, 0.15);\n",
              "    fill: var(--button-hover-fill-color);\n",
              "  }\n",
              "\n",
              "  .colab-df-quickchart-complete:disabled,\n",
              "  .colab-df-quickchart-complete:disabled:hover {\n",
              "    background-color: var(--disabled-bg-color);\n",
              "    fill: var(--disabled-fill-color);\n",
              "    box-shadow: none;\n",
              "  }\n",
              "\n",
              "  .colab-df-spinner {\n",
              "    border: 2px solid var(--fill-color);\n",
              "    border-color: transparent;\n",
              "    border-bottom-color: var(--fill-color);\n",
              "    animation:\n",
              "      spin 1s steps(1) infinite;\n",
              "  }\n",
              "\n",
              "  @keyframes spin {\n",
              "    0% {\n",
              "      border-color: transparent;\n",
              "      border-bottom-color: var(--fill-color);\n",
              "      border-left-color: var(--fill-color);\n",
              "    }\n",
              "    20% {\n",
              "      border-color: transparent;\n",
              "      border-left-color: var(--fill-color);\n",
              "      border-top-color: var(--fill-color);\n",
              "    }\n",
              "    30% {\n",
              "      border-color: transparent;\n",
              "      border-left-color: var(--fill-color);\n",
              "      border-top-color: var(--fill-color);\n",
              "      border-right-color: var(--fill-color);\n",
              "    }\n",
              "    40% {\n",
              "      border-color: transparent;\n",
              "      border-right-color: var(--fill-color);\n",
              "      border-top-color: var(--fill-color);\n",
              "    }\n",
              "    60% {\n",
              "      border-color: transparent;\n",
              "      border-right-color: var(--fill-color);\n",
              "    }\n",
              "    80% {\n",
              "      border-color: transparent;\n",
              "      border-right-color: var(--fill-color);\n",
              "      border-bottom-color: var(--fill-color);\n",
              "    }\n",
              "    90% {\n",
              "      border-color: transparent;\n",
              "      border-bottom-color: var(--fill-color);\n",
              "    }\n",
              "  }\n",
              "</style>\n",
              "\n",
              "      <script>\n",
              "        async function quickchart(key) {\n",
              "          const quickchartButtonEl =\n",
              "            document.querySelector('#' + key + ' button');\n",
              "          quickchartButtonEl.disabled = true;  // To prevent multiple clicks.\n",
              "          quickchartButtonEl.classList.add('colab-df-spinner');\n",
              "          try {\n",
              "            const charts = await google.colab.kernel.invokeFunction(\n",
              "                'suggestCharts', [key], {});\n",
              "          } catch (error) {\n",
              "            console.error('Error during call to suggestCharts:', error);\n",
              "          }\n",
              "          quickchartButtonEl.classList.remove('colab-df-spinner');\n",
              "          quickchartButtonEl.classList.add('colab-df-quickchart-complete');\n",
              "        }\n",
              "        (() => {\n",
              "          let quickchartButtonEl =\n",
              "            document.querySelector('#df-92e2660c-5c58-458d-9402-6bb672e4b9a9 button');\n",
              "          quickchartButtonEl.style.display =\n",
              "            google.colab.kernel.accessAllowed ? 'block' : 'none';\n",
              "        })();\n",
              "      </script>\n",
              "    </div>\n",
              "\n",
              "    </div>\n",
              "  </div>\n"
            ],
            "application/vnd.google.colaboratory.intrinsic+json": {
              "type": "dataframe",
              "variable_name": "df",
              "summary": "{\n  \"name\": \"df\",\n  \"rows\": 70692,\n  \"fields\": [\n    {\n      \"column\": \"Age\",\n      \"properties\": {\n        \"dtype\": \"number\",\n        \"std\": 2.8521531099515958,\n        \"min\": 1.0,\n        \"max\": 13.0,\n        \"num_unique_values\": 13,\n        \"samples\": [\n          5.0,\n          10.0,\n          4.0\n        ],\n        \"semantic_type\": \"\",\n        \"description\": \"\"\n      }\n    },\n    {\n      \"column\": \"Sex\",\n      \"properties\": {\n        \"dtype\": \"number\",\n        \"std\": 0.49815079394603295,\n        \"min\": 0.0,\n        \"max\": 1.0,\n        \"num_unique_values\": 2,\n        \"samples\": [\n          0.0,\n          1.0\n        ],\n        \"semantic_type\": \"\",\n        \"description\": \"\"\n      }\n    },\n    {\n      \"column\": \"HighChol\",\n      \"properties\": {\n        \"dtype\": \"number\",\n        \"std\": 0.49934244802639416,\n        \"min\": 0.0,\n        \"max\": 1.0,\n        \"num_unique_values\": 2,\n        \"samples\": [\n          1.0,\n          0.0\n        ],\n        \"semantic_type\": \"\",\n        \"description\": \"\"\n      }\n    },\n    {\n      \"column\": \"CholCheck\",\n      \"properties\": {\n        \"dtype\": \"number\",\n        \"std\": 0.15533624280418143,\n        \"min\": 0.0,\n        \"max\": 1.0,\n        \"num_unique_values\": 2,\n        \"samples\": [\n          0.0,\n          1.0\n        ],\n        \"semantic_type\": \"\",\n        \"description\": \"\"\n      }\n    },\n    {\n      \"column\": \"BMI\",\n      \"properties\": {\n        \"dtype\": \"number\",\n        \"std\": 7.113953851576949,\n        \"min\": 12.0,\n        \"max\": 98.0,\n        \"num_unique_values\": 80,\n        \"samples\": [\n          69.0,\n          26.0\n        ],\n        \"semantic_type\": \"\",\n        \"description\": \"\"\n      }\n    },\n    {\n      \"column\": \"Smoker\",\n      \"properties\": {\n        \"dtype\": \"number\",\n        \"std\": 0.4993917341109147,\n        \"min\": 0.0,\n        \"max\": 1.0,\n        \"num_unique_values\": 2,\n        \"samples\": [\n          1.0,\n          0.0\n        ],\n        \"semantic_type\": \"\",\n        \"description\": \"\"\n      }\n    },\n    {\n      \"column\": \"HeartDiseaseorAttack\",\n      \"properties\": {\n        \"dtype\": \"number\",\n        \"std\": 0.35491427136185877,\n        \"min\": 0.0,\n        \"max\": 1.0,\n        \"num_unique_values\": 2,\n        \"samples\": [\n          1.0,\n          0.0\n        ],\n        \"semantic_type\": \"\",\n        \"description\": \"\"\n      }\n    },\n    {\n      \"column\": \"PhysActivity\",\n      \"properties\": {\n        \"dtype\": \"number\",\n        \"std\": 0.4569239063510019,\n        \"min\": 0.0,\n        \"max\": 1.0,\n        \"num_unique_values\": 2,\n        \"samples\": [\n          0.0,\n          1.0\n        ],\n        \"semantic_type\": \"\",\n        \"description\": \"\"\n      }\n    },\n    {\n      \"column\": \"Fruits\",\n      \"properties\": {\n        \"dtype\": \"number\",\n        \"std\": 0.4873451303658224,\n        \"min\": 0.0,\n        \"max\": 1.0,\n        \"num_unique_values\": 2,\n        \"samples\": [\n          1.0,\n          0.0\n        ],\n        \"semantic_type\": \"\",\n        \"description\": \"\"\n      }\n    },\n    {\n      \"column\": \"Veggies\",\n      \"properties\": {\n        \"dtype\": \"number\",\n        \"std\": 0.408181367327075,\n        \"min\": 0.0,\n        \"max\": 1.0,\n        \"num_unique_values\": 2,\n        \"samples\": [\n          0.0,\n          1.0\n        ],\n        \"semantic_type\": \"\",\n        \"description\": \"\"\n      }\n    },\n    {\n      \"column\": \"HvyAlcoholConsump\",\n      \"properties\": {\n        \"dtype\": \"number\",\n        \"std\": 0.20222776421865302,\n        \"min\": 0.0,\n        \"max\": 1.0,\n        \"num_unique_values\": 2,\n        \"samples\": [\n          1.0,\n          0.0\n        ],\n        \"semantic_type\": \"\",\n        \"description\": \"\"\n      }\n    },\n    {\n      \"column\": \"GenHlth\",\n      \"properties\": {\n        \"dtype\": \"number\",\n        \"std\": 1.113564517039522,\n        \"min\": 1.0,\n        \"max\": 5.0,\n        \"num_unique_values\": 5,\n        \"samples\": [\n          1.0,\n          5.0\n        ],\n        \"semantic_type\": \"\",\n        \"description\": \"\"\n      }\n    },\n    {\n      \"column\": \"MentHlth\",\n      \"properties\": {\n        \"dtype\": \"number\",\n        \"std\": 8.155626553605506,\n        \"min\": 0.0,\n        \"max\": 30.0,\n        \"num_unique_values\": 31,\n        \"samples\": [\n          24.0,\n          29.0\n        ],\n        \"semantic_type\": \"\",\n        \"description\": \"\"\n      }\n    },\n    {\n      \"column\": \"PhysHlth\",\n      \"properties\": {\n        \"dtype\": \"number\",\n        \"std\": 10.062260531164076,\n        \"min\": 0.0,\n        \"max\": 30.0,\n        \"num_unique_values\": 31,\n        \"samples\": [\n          16.0,\n          8.0\n        ],\n        \"semantic_type\": \"\",\n        \"description\": \"\"\n      }\n    },\n    {\n      \"column\": \"DiffWalk\",\n      \"properties\": {\n        \"dtype\": \"number\",\n        \"std\": 0.43458059612316746,\n        \"min\": 0.0,\n        \"max\": 1.0,\n        \"num_unique_values\": 2,\n        \"samples\": [\n          1.0,\n          0.0\n        ],\n        \"semantic_type\": \"\",\n        \"description\": \"\"\n      }\n    },\n    {\n      \"column\": \"Stroke\",\n      \"properties\": {\n        \"dtype\": \"number\",\n        \"std\": 0.24146777536763647,\n        \"min\": 0.0,\n        \"max\": 1.0,\n        \"num_unique_values\": 2,\n        \"samples\": [\n          1.0,\n          0.0\n        ],\n        \"semantic_type\": \"\",\n        \"description\": \"\"\n      }\n    },\n    {\n      \"column\": \"HighBP\",\n      \"properties\": {\n        \"dtype\": \"number\",\n        \"std\": 0.4959601931599789,\n        \"min\": 0.0,\n        \"max\": 1.0,\n        \"num_unique_values\": 2,\n        \"samples\": [\n          0.0,\n          1.0\n        ],\n        \"semantic_type\": \"\",\n        \"description\": \"\"\n      }\n    },\n    {\n      \"column\": \"Diabetes\",\n      \"properties\": {\n        \"dtype\": \"number\",\n        \"std\": 0.5000035365055789,\n        \"min\": 0.0,\n        \"max\": 1.0,\n        \"num_unique_values\": 2,\n        \"samples\": [\n          1.0,\n          0.0\n        ],\n        \"semantic_type\": \"\",\n        \"description\": \"\"\n      }\n    }\n  ]\n}"
            }
          },
          "metadata": {},
          "execution_count": 2
        }
      ],
      "source": [
        "df = pd.read_csv('./diabetes_data.csv')\n",
        "df.head()"
      ]
    },
    {
      "cell_type": "code",
      "source": [
        "df.shape"
      ],
      "metadata": {
        "colab": {
          "base_uri": "https://localhost:8080/"
        },
        "id": "BDeMmIuFxaYK",
        "outputId": "fb4e29f7-e161-49df-abde-ef51894a0f6c"
      },
      "execution_count": 3,
      "outputs": [
        {
          "output_type": "execute_result",
          "data": {
            "text/plain": [
              "(70692, 18)"
            ]
          },
          "metadata": {},
          "execution_count": 3
        }
      ]
    },
    {
      "cell_type": "markdown",
      "source": [
        "# II. Examine Data set\n",
        "\n"
      ],
      "metadata": {
        "id": "KRz4mjy12-OG"
      }
    },
    {
      "cell_type": "code",
      "source": [
        "df.shape"
      ],
      "metadata": {
        "colab": {
          "base_uri": "https://localhost:8080/"
        },
        "id": "sLi4oJmaoheD",
        "outputId": "977adb38-cf20-4dbd-b59f-093af9ee8a97"
      },
      "execution_count": 4,
      "outputs": [
        {
          "output_type": "execute_result",
          "data": {
            "text/plain": [
              "(70692, 18)"
            ]
          },
          "metadata": {},
          "execution_count": 4
        }
      ]
    },
    {
      "cell_type": "code",
      "source": [
        "df.describe()"
      ],
      "metadata": {
        "colab": {
          "base_uri": "https://localhost:8080/",
          "height": 320
        },
        "id": "Ac6monWQ3K6X",
        "outputId": "9b424af2-d78d-4667-dc89-05af0073968b"
      },
      "execution_count": 5,
      "outputs": [
        {
          "output_type": "execute_result",
          "data": {
            "text/plain": [
              "                Age           Sex      HighChol     CholCheck           BMI  \\\n",
              "count  70692.000000  70692.000000  70692.000000  70692.000000  70692.000000   \n",
              "mean       8.584055      0.456997      0.525703      0.975259     29.856985   \n",
              "std        2.852153      0.498151      0.499342      0.155336      7.113954   \n",
              "min        1.000000      0.000000      0.000000      0.000000     12.000000   \n",
              "25%        7.000000      0.000000      0.000000      1.000000     25.000000   \n",
              "50%        9.000000      0.000000      1.000000      1.000000     29.000000   \n",
              "75%       11.000000      1.000000      1.000000      1.000000     33.000000   \n",
              "max       13.000000      1.000000      1.000000      1.000000     98.000000   \n",
              "\n",
              "             Smoker  HeartDiseaseorAttack  PhysActivity        Fruits  \\\n",
              "count  70692.000000          70692.000000  70692.000000  70692.000000   \n",
              "mean       0.475273              0.147810      0.703036      0.611795   \n",
              "std        0.499392              0.354914      0.456924      0.487345   \n",
              "min        0.000000              0.000000      0.000000      0.000000   \n",
              "25%        0.000000              0.000000      0.000000      0.000000   \n",
              "50%        0.000000              0.000000      1.000000      1.000000   \n",
              "75%        1.000000              0.000000      1.000000      1.000000   \n",
              "max        1.000000              1.000000      1.000000      1.000000   \n",
              "\n",
              "            Veggies  HvyAlcoholConsump       GenHlth      MentHlth  \\\n",
              "count  70692.000000       70692.000000  70692.000000  70692.000000   \n",
              "mean       0.788774           0.042721      2.837082      3.752037   \n",
              "std        0.408181           0.202228      1.113565      8.155627   \n",
              "min        0.000000           0.000000      1.000000      0.000000   \n",
              "25%        1.000000           0.000000      2.000000      0.000000   \n",
              "50%        1.000000           0.000000      3.000000      0.000000   \n",
              "75%        1.000000           0.000000      4.000000      2.000000   \n",
              "max        1.000000           1.000000      5.000000     30.000000   \n",
              "\n",
              "           PhysHlth      DiffWalk        Stroke        HighBP      Diabetes  \n",
              "count  70692.000000  70692.000000  70692.000000  70692.000000  70692.000000  \n",
              "mean       5.810417      0.252730      0.062171      0.563458      0.500000  \n",
              "std       10.062261      0.434581      0.241468      0.495960      0.500004  \n",
              "min        0.000000      0.000000      0.000000      0.000000      0.000000  \n",
              "25%        0.000000      0.000000      0.000000      0.000000      0.000000  \n",
              "50%        0.000000      0.000000      0.000000      1.000000      0.500000  \n",
              "75%        6.000000      1.000000      0.000000      1.000000      1.000000  \n",
              "max       30.000000      1.000000      1.000000      1.000000      1.000000  "
            ],
            "text/html": [
              "\n",
              "  <div id=\"df-abb354a0-7c4e-45ed-92f5-e141b322a5d5\" class=\"colab-df-container\">\n",
              "    <div>\n",
              "<style scoped>\n",
              "    .dataframe tbody tr th:only-of-type {\n",
              "        vertical-align: middle;\n",
              "    }\n",
              "\n",
              "    .dataframe tbody tr th {\n",
              "        vertical-align: top;\n",
              "    }\n",
              "\n",
              "    .dataframe thead th {\n",
              "        text-align: right;\n",
              "    }\n",
              "</style>\n",
              "<table border=\"1\" class=\"dataframe\">\n",
              "  <thead>\n",
              "    <tr style=\"text-align: right;\">\n",
              "      <th></th>\n",
              "      <th>Age</th>\n",
              "      <th>Sex</th>\n",
              "      <th>HighChol</th>\n",
              "      <th>CholCheck</th>\n",
              "      <th>BMI</th>\n",
              "      <th>Smoker</th>\n",
              "      <th>HeartDiseaseorAttack</th>\n",
              "      <th>PhysActivity</th>\n",
              "      <th>Fruits</th>\n",
              "      <th>Veggies</th>\n",
              "      <th>HvyAlcoholConsump</th>\n",
              "      <th>GenHlth</th>\n",
              "      <th>MentHlth</th>\n",
              "      <th>PhysHlth</th>\n",
              "      <th>DiffWalk</th>\n",
              "      <th>Stroke</th>\n",
              "      <th>HighBP</th>\n",
              "      <th>Diabetes</th>\n",
              "    </tr>\n",
              "  </thead>\n",
              "  <tbody>\n",
              "    <tr>\n",
              "      <th>count</th>\n",
              "      <td>70692.000000</td>\n",
              "      <td>70692.000000</td>\n",
              "      <td>70692.000000</td>\n",
              "      <td>70692.000000</td>\n",
              "      <td>70692.000000</td>\n",
              "      <td>70692.000000</td>\n",
              "      <td>70692.000000</td>\n",
              "      <td>70692.000000</td>\n",
              "      <td>70692.000000</td>\n",
              "      <td>70692.000000</td>\n",
              "      <td>70692.000000</td>\n",
              "      <td>70692.000000</td>\n",
              "      <td>70692.000000</td>\n",
              "      <td>70692.000000</td>\n",
              "      <td>70692.000000</td>\n",
              "      <td>70692.000000</td>\n",
              "      <td>70692.000000</td>\n",
              "      <td>70692.000000</td>\n",
              "    </tr>\n",
              "    <tr>\n",
              "      <th>mean</th>\n",
              "      <td>8.584055</td>\n",
              "      <td>0.456997</td>\n",
              "      <td>0.525703</td>\n",
              "      <td>0.975259</td>\n",
              "      <td>29.856985</td>\n",
              "      <td>0.475273</td>\n",
              "      <td>0.147810</td>\n",
              "      <td>0.703036</td>\n",
              "      <td>0.611795</td>\n",
              "      <td>0.788774</td>\n",
              "      <td>0.042721</td>\n",
              "      <td>2.837082</td>\n",
              "      <td>3.752037</td>\n",
              "      <td>5.810417</td>\n",
              "      <td>0.252730</td>\n",
              "      <td>0.062171</td>\n",
              "      <td>0.563458</td>\n",
              "      <td>0.500000</td>\n",
              "    </tr>\n",
              "    <tr>\n",
              "      <th>std</th>\n",
              "      <td>2.852153</td>\n",
              "      <td>0.498151</td>\n",
              "      <td>0.499342</td>\n",
              "      <td>0.155336</td>\n",
              "      <td>7.113954</td>\n",
              "      <td>0.499392</td>\n",
              "      <td>0.354914</td>\n",
              "      <td>0.456924</td>\n",
              "      <td>0.487345</td>\n",
              "      <td>0.408181</td>\n",
              "      <td>0.202228</td>\n",
              "      <td>1.113565</td>\n",
              "      <td>8.155627</td>\n",
              "      <td>10.062261</td>\n",
              "      <td>0.434581</td>\n",
              "      <td>0.241468</td>\n",
              "      <td>0.495960</td>\n",
              "      <td>0.500004</td>\n",
              "    </tr>\n",
              "    <tr>\n",
              "      <th>min</th>\n",
              "      <td>1.000000</td>\n",
              "      <td>0.000000</td>\n",
              "      <td>0.000000</td>\n",
              "      <td>0.000000</td>\n",
              "      <td>12.000000</td>\n",
              "      <td>0.000000</td>\n",
              "      <td>0.000000</td>\n",
              "      <td>0.000000</td>\n",
              "      <td>0.000000</td>\n",
              "      <td>0.000000</td>\n",
              "      <td>0.000000</td>\n",
              "      <td>1.000000</td>\n",
              "      <td>0.000000</td>\n",
              "      <td>0.000000</td>\n",
              "      <td>0.000000</td>\n",
              "      <td>0.000000</td>\n",
              "      <td>0.000000</td>\n",
              "      <td>0.000000</td>\n",
              "    </tr>\n",
              "    <tr>\n",
              "      <th>25%</th>\n",
              "      <td>7.000000</td>\n",
              "      <td>0.000000</td>\n",
              "      <td>0.000000</td>\n",
              "      <td>1.000000</td>\n",
              "      <td>25.000000</td>\n",
              "      <td>0.000000</td>\n",
              "      <td>0.000000</td>\n",
              "      <td>0.000000</td>\n",
              "      <td>0.000000</td>\n",
              "      <td>1.000000</td>\n",
              "      <td>0.000000</td>\n",
              "      <td>2.000000</td>\n",
              "      <td>0.000000</td>\n",
              "      <td>0.000000</td>\n",
              "      <td>0.000000</td>\n",
              "      <td>0.000000</td>\n",
              "      <td>0.000000</td>\n",
              "      <td>0.000000</td>\n",
              "    </tr>\n",
              "    <tr>\n",
              "      <th>50%</th>\n",
              "      <td>9.000000</td>\n",
              "      <td>0.000000</td>\n",
              "      <td>1.000000</td>\n",
              "      <td>1.000000</td>\n",
              "      <td>29.000000</td>\n",
              "      <td>0.000000</td>\n",
              "      <td>0.000000</td>\n",
              "      <td>1.000000</td>\n",
              "      <td>1.000000</td>\n",
              "      <td>1.000000</td>\n",
              "      <td>0.000000</td>\n",
              "      <td>3.000000</td>\n",
              "      <td>0.000000</td>\n",
              "      <td>0.000000</td>\n",
              "      <td>0.000000</td>\n",
              "      <td>0.000000</td>\n",
              "      <td>1.000000</td>\n",
              "      <td>0.500000</td>\n",
              "    </tr>\n",
              "    <tr>\n",
              "      <th>75%</th>\n",
              "      <td>11.000000</td>\n",
              "      <td>1.000000</td>\n",
              "      <td>1.000000</td>\n",
              "      <td>1.000000</td>\n",
              "      <td>33.000000</td>\n",
              "      <td>1.000000</td>\n",
              "      <td>0.000000</td>\n",
              "      <td>1.000000</td>\n",
              "      <td>1.000000</td>\n",
              "      <td>1.000000</td>\n",
              "      <td>0.000000</td>\n",
              "      <td>4.000000</td>\n",
              "      <td>2.000000</td>\n",
              "      <td>6.000000</td>\n",
              "      <td>1.000000</td>\n",
              "      <td>0.000000</td>\n",
              "      <td>1.000000</td>\n",
              "      <td>1.000000</td>\n",
              "    </tr>\n",
              "    <tr>\n",
              "      <th>max</th>\n",
              "      <td>13.000000</td>\n",
              "      <td>1.000000</td>\n",
              "      <td>1.000000</td>\n",
              "      <td>1.000000</td>\n",
              "      <td>98.000000</td>\n",
              "      <td>1.000000</td>\n",
              "      <td>1.000000</td>\n",
              "      <td>1.000000</td>\n",
              "      <td>1.000000</td>\n",
              "      <td>1.000000</td>\n",
              "      <td>1.000000</td>\n",
              "      <td>5.000000</td>\n",
              "      <td>30.000000</td>\n",
              "      <td>30.000000</td>\n",
              "      <td>1.000000</td>\n",
              "      <td>1.000000</td>\n",
              "      <td>1.000000</td>\n",
              "      <td>1.000000</td>\n",
              "    </tr>\n",
              "  </tbody>\n",
              "</table>\n",
              "</div>\n",
              "    <div class=\"colab-df-buttons\">\n",
              "\n",
              "  <div class=\"colab-df-container\">\n",
              "    <button class=\"colab-df-convert\" onclick=\"convertToInteractive('df-abb354a0-7c4e-45ed-92f5-e141b322a5d5')\"\n",
              "            title=\"Convert this dataframe to an interactive table.\"\n",
              "            style=\"display:none;\">\n",
              "\n",
              "  <svg xmlns=\"http://www.w3.org/2000/svg\" height=\"24px\" viewBox=\"0 -960 960 960\">\n",
              "    <path d=\"M120-120v-720h720v720H120Zm60-500h600v-160H180v160Zm220 220h160v-160H400v160Zm0 220h160v-160H400v160ZM180-400h160v-160H180v160Zm440 0h160v-160H620v160ZM180-180h160v-160H180v160Zm440 0h160v-160H620v160Z\"/>\n",
              "  </svg>\n",
              "    </button>\n",
              "\n",
              "  <style>\n",
              "    .colab-df-container {\n",
              "      display:flex;\n",
              "      gap: 12px;\n",
              "    }\n",
              "\n",
              "    .colab-df-convert {\n",
              "      background-color: #E8F0FE;\n",
              "      border: none;\n",
              "      border-radius: 50%;\n",
              "      cursor: pointer;\n",
              "      display: none;\n",
              "      fill: #1967D2;\n",
              "      height: 32px;\n",
              "      padding: 0 0 0 0;\n",
              "      width: 32px;\n",
              "    }\n",
              "\n",
              "    .colab-df-convert:hover {\n",
              "      background-color: #E2EBFA;\n",
              "      box-shadow: 0px 1px 2px rgba(60, 64, 67, 0.3), 0px 1px 3px 1px rgba(60, 64, 67, 0.15);\n",
              "      fill: #174EA6;\n",
              "    }\n",
              "\n",
              "    .colab-df-buttons div {\n",
              "      margin-bottom: 4px;\n",
              "    }\n",
              "\n",
              "    [theme=dark] .colab-df-convert {\n",
              "      background-color: #3B4455;\n",
              "      fill: #D2E3FC;\n",
              "    }\n",
              "\n",
              "    [theme=dark] .colab-df-convert:hover {\n",
              "      background-color: #434B5C;\n",
              "      box-shadow: 0px 1px 3px 1px rgba(0, 0, 0, 0.15);\n",
              "      filter: drop-shadow(0px 1px 2px rgba(0, 0, 0, 0.3));\n",
              "      fill: #FFFFFF;\n",
              "    }\n",
              "  </style>\n",
              "\n",
              "    <script>\n",
              "      const buttonEl =\n",
              "        document.querySelector('#df-abb354a0-7c4e-45ed-92f5-e141b322a5d5 button.colab-df-convert');\n",
              "      buttonEl.style.display =\n",
              "        google.colab.kernel.accessAllowed ? 'block' : 'none';\n",
              "\n",
              "      async function convertToInteractive(key) {\n",
              "        const element = document.querySelector('#df-abb354a0-7c4e-45ed-92f5-e141b322a5d5');\n",
              "        const dataTable =\n",
              "          await google.colab.kernel.invokeFunction('convertToInteractive',\n",
              "                                                    [key], {});\n",
              "        if (!dataTable) return;\n",
              "\n",
              "        const docLinkHtml = 'Like what you see? Visit the ' +\n",
              "          '<a target=\"_blank\" href=https://colab.research.google.com/notebooks/data_table.ipynb>data table notebook</a>'\n",
              "          + ' to learn more about interactive tables.';\n",
              "        element.innerHTML = '';\n",
              "        dataTable['output_type'] = 'display_data';\n",
              "        await google.colab.output.renderOutput(dataTable, element);\n",
              "        const docLink = document.createElement('div');\n",
              "        docLink.innerHTML = docLinkHtml;\n",
              "        element.appendChild(docLink);\n",
              "      }\n",
              "    </script>\n",
              "  </div>\n",
              "\n",
              "\n",
              "    <div id=\"df-5d257f79-bc5c-467d-aa12-d8a1764261a9\">\n",
              "      <button class=\"colab-df-quickchart\" onclick=\"quickchart('df-5d257f79-bc5c-467d-aa12-d8a1764261a9')\"\n",
              "                title=\"Suggest charts\"\n",
              "                style=\"display:none;\">\n",
              "\n",
              "<svg xmlns=\"http://www.w3.org/2000/svg\" height=\"24px\"viewBox=\"0 0 24 24\"\n",
              "     width=\"24px\">\n",
              "    <g>\n",
              "        <path d=\"M19 3H5c-1.1 0-2 .9-2 2v14c0 1.1.9 2 2 2h14c1.1 0 2-.9 2-2V5c0-1.1-.9-2-2-2zM9 17H7v-7h2v7zm4 0h-2V7h2v10zm4 0h-2v-4h2v4z\"/>\n",
              "    </g>\n",
              "</svg>\n",
              "      </button>\n",
              "\n",
              "<style>\n",
              "  .colab-df-quickchart {\n",
              "      --bg-color: #E8F0FE;\n",
              "      --fill-color: #1967D2;\n",
              "      --hover-bg-color: #E2EBFA;\n",
              "      --hover-fill-color: #174EA6;\n",
              "      --disabled-fill-color: #AAA;\n",
              "      --disabled-bg-color: #DDD;\n",
              "  }\n",
              "\n",
              "  [theme=dark] .colab-df-quickchart {\n",
              "      --bg-color: #3B4455;\n",
              "      --fill-color: #D2E3FC;\n",
              "      --hover-bg-color: #434B5C;\n",
              "      --hover-fill-color: #FFFFFF;\n",
              "      --disabled-bg-color: #3B4455;\n",
              "      --disabled-fill-color: #666;\n",
              "  }\n",
              "\n",
              "  .colab-df-quickchart {\n",
              "    background-color: var(--bg-color);\n",
              "    border: none;\n",
              "    border-radius: 50%;\n",
              "    cursor: pointer;\n",
              "    display: none;\n",
              "    fill: var(--fill-color);\n",
              "    height: 32px;\n",
              "    padding: 0;\n",
              "    width: 32px;\n",
              "  }\n",
              "\n",
              "  .colab-df-quickchart:hover {\n",
              "    background-color: var(--hover-bg-color);\n",
              "    box-shadow: 0 1px 2px rgba(60, 64, 67, 0.3), 0 1px 3px 1px rgba(60, 64, 67, 0.15);\n",
              "    fill: var(--button-hover-fill-color);\n",
              "  }\n",
              "\n",
              "  .colab-df-quickchart-complete:disabled,\n",
              "  .colab-df-quickchart-complete:disabled:hover {\n",
              "    background-color: var(--disabled-bg-color);\n",
              "    fill: var(--disabled-fill-color);\n",
              "    box-shadow: none;\n",
              "  }\n",
              "\n",
              "  .colab-df-spinner {\n",
              "    border: 2px solid var(--fill-color);\n",
              "    border-color: transparent;\n",
              "    border-bottom-color: var(--fill-color);\n",
              "    animation:\n",
              "      spin 1s steps(1) infinite;\n",
              "  }\n",
              "\n",
              "  @keyframes spin {\n",
              "    0% {\n",
              "      border-color: transparent;\n",
              "      border-bottom-color: var(--fill-color);\n",
              "      border-left-color: var(--fill-color);\n",
              "    }\n",
              "    20% {\n",
              "      border-color: transparent;\n",
              "      border-left-color: var(--fill-color);\n",
              "      border-top-color: var(--fill-color);\n",
              "    }\n",
              "    30% {\n",
              "      border-color: transparent;\n",
              "      border-left-color: var(--fill-color);\n",
              "      border-top-color: var(--fill-color);\n",
              "      border-right-color: var(--fill-color);\n",
              "    }\n",
              "    40% {\n",
              "      border-color: transparent;\n",
              "      border-right-color: var(--fill-color);\n",
              "      border-top-color: var(--fill-color);\n",
              "    }\n",
              "    60% {\n",
              "      border-color: transparent;\n",
              "      border-right-color: var(--fill-color);\n",
              "    }\n",
              "    80% {\n",
              "      border-color: transparent;\n",
              "      border-right-color: var(--fill-color);\n",
              "      border-bottom-color: var(--fill-color);\n",
              "    }\n",
              "    90% {\n",
              "      border-color: transparent;\n",
              "      border-bottom-color: var(--fill-color);\n",
              "    }\n",
              "  }\n",
              "</style>\n",
              "\n",
              "      <script>\n",
              "        async function quickchart(key) {\n",
              "          const quickchartButtonEl =\n",
              "            document.querySelector('#' + key + ' button');\n",
              "          quickchartButtonEl.disabled = true;  // To prevent multiple clicks.\n",
              "          quickchartButtonEl.classList.add('colab-df-spinner');\n",
              "          try {\n",
              "            const charts = await google.colab.kernel.invokeFunction(\n",
              "                'suggestCharts', [key], {});\n",
              "          } catch (error) {\n",
              "            console.error('Error during call to suggestCharts:', error);\n",
              "          }\n",
              "          quickchartButtonEl.classList.remove('colab-df-spinner');\n",
              "          quickchartButtonEl.classList.add('colab-df-quickchart-complete');\n",
              "        }\n",
              "        (() => {\n",
              "          let quickchartButtonEl =\n",
              "            document.querySelector('#df-5d257f79-bc5c-467d-aa12-d8a1764261a9 button');\n",
              "          quickchartButtonEl.style.display =\n",
              "            google.colab.kernel.accessAllowed ? 'block' : 'none';\n",
              "        })();\n",
              "      </script>\n",
              "    </div>\n",
              "\n",
              "    </div>\n",
              "  </div>\n"
            ],
            "application/vnd.google.colaboratory.intrinsic+json": {
              "type": "dataframe",
              "summary": "{\n  \"name\": \"df\",\n  \"rows\": 8,\n  \"fields\": [\n    {\n      \"column\": \"Age\",\n      \"properties\": {\n        \"dtype\": \"number\",\n        \"std\": 24990.748173858185,\n        \"min\": 1.0,\n        \"max\": 70692.0,\n        \"num_unique_values\": 8,\n        \"samples\": [\n          8.584054772817291,\n          9.0,\n          70692.0\n        ],\n        \"semantic_type\": \"\",\n        \"description\": \"\"\n      }\n    },\n    {\n      \"column\": \"Sex\",\n      \"properties\": {\n        \"dtype\": \"number\",\n        \"std\": 24993.247033795826,\n        \"min\": 0.0,\n        \"max\": 70692.0,\n        \"num_unique_values\": 5,\n        \"samples\": [\n          0.4569965484071748,\n          1.0,\n          0.49815079394603295\n        ],\n        \"semantic_type\": \"\",\n        \"description\": \"\"\n      }\n    },\n    {\n      \"column\": \"HighChol\",\n      \"properties\": {\n        \"dtype\": \"number\",\n        \"std\": 24993.19299578387,\n        \"min\": 0.0,\n        \"max\": 70692.0,\n        \"num_unique_values\": 5,\n        \"samples\": [\n          0.5257030498500538,\n          1.0,\n          0.49934244802639416\n        ],\n        \"semantic_type\": \"\",\n        \"description\": \"\"\n      }\n    },\n    {\n      \"column\": \"CholCheck\",\n      \"properties\": {\n        \"dtype\": \"number\",\n        \"std\": 24993.13715710622,\n        \"min\": 0.0,\n        \"max\": 70692.0,\n        \"num_unique_values\": 5,\n        \"samples\": [\n          0.975258869461891,\n          1.0,\n          0.15533624280418143\n        ],\n        \"semantic_type\": \"\",\n        \"description\": \"\"\n      }\n    },\n    {\n      \"column\": \"BMI\",\n      \"properties\": {\n        \"dtype\": \"number\",\n        \"std\": 24981.594481427568,\n        \"min\": 7.113953851576949,\n        \"max\": 70692.0,\n        \"num_unique_values\": 8,\n        \"samples\": [\n          29.856985231709388,\n          29.0,\n          70692.0\n        ],\n        \"semantic_type\": \"\",\n        \"description\": \"\"\n      }\n    },\n    {\n      \"column\": \"Smoker\",\n      \"properties\": {\n        \"dtype\": \"number\",\n        \"std\": 24993.246048022887,\n        \"min\": 0.0,\n        \"max\": 70692.0,\n        \"num_unique_values\": 5,\n        \"samples\": [\n          0.4752730153341255,\n          1.0,\n          0.4993917341109147\n        ],\n        \"semantic_type\": \"\",\n        \"description\": \"\"\n      }\n    },\n    {\n      \"column\": \"HeartDiseaseorAttack\",\n      \"properties\": {\n        \"dtype\": \"number\",\n        \"std\": 24993.32039112971,\n        \"min\": 0.0,\n        \"max\": 70692.0,\n        \"num_unique_values\": 5,\n        \"samples\": [\n          0.1478102189781022,\n          1.0,\n          0.35491427136185877\n        ],\n        \"semantic_type\": \"\",\n        \"description\": \"\"\n      }\n    },\n    {\n      \"column\": \"PhysActivity\",\n      \"properties\": {\n        \"dtype\": \"number\",\n        \"std\": 24993.186181648114,\n        \"min\": 0.0,\n        \"max\": 70692.0,\n        \"num_unique_values\": 5,\n        \"samples\": [\n          0.7030357041815198,\n          1.0,\n          0.4569239063510019\n        ],\n        \"semantic_type\": \"\",\n        \"description\": \"\"\n      }\n    },\n    {\n      \"column\": \"Fruits\",\n      \"properties\": {\n        \"dtype\": \"number\",\n        \"std\": 24993.189253448745,\n        \"min\": 0.0,\n        \"max\": 70692.0,\n        \"num_unique_values\": 5,\n        \"samples\": [\n          0.611794828269111,\n          1.0,\n          0.4873451303658224\n        ],\n        \"semantic_type\": \"\",\n        \"description\": \"\"\n      }\n    },\n    {\n      \"column\": \"Veggies\",\n      \"properties\": {\n        \"dtype\": \"number\",\n        \"std\": 24993.133804602727,\n        \"min\": 0.0,\n        \"max\": 70692.0,\n        \"num_unique_values\": 5,\n        \"samples\": [\n          0.788773835794715,\n          1.0,\n          0.408181367327075\n        ],\n        \"semantic_type\": \"\",\n        \"description\": \"\"\n      }\n    },\n    {\n      \"column\": \"HvyAlcoholConsump\",\n      \"properties\": {\n        \"dtype\": \"number\",\n        \"std\": 24993.333410782358,\n        \"min\": 0.0,\n        \"max\": 70692.0,\n        \"num_unique_values\": 5,\n        \"samples\": [\n          0.04272053414813557,\n          1.0,\n          0.20222776421865302\n        ],\n        \"semantic_type\": \"\",\n        \"description\": \"\"\n      }\n    },\n    {\n      \"column\": \"GenHlth\",\n      \"properties\": {\n        \"dtype\": \"number\",\n        \"std\": 24992.43917274204,\n        \"min\": 1.0,\n        \"max\": 70692.0,\n        \"num_unique_values\": 8,\n        \"samples\": [\n          2.837081989475471,\n          3.0,\n          70692.0\n        ],\n        \"semantic_type\": \"\",\n        \"description\": \"\"\n      }\n    },\n    {\n      \"column\": \"MentHlth\",\n      \"properties\": {\n        \"dtype\": \"number\",\n        \"std\": 24991.18064286045,\n        \"min\": 0.0,\n        \"max\": 70692.0,\n        \"num_unique_values\": 6,\n        \"samples\": [\n          70692.0,\n          3.7520370056017653,\n          30.0\n        ],\n        \"semantic_type\": \"\",\n        \"description\": \"\"\n      }\n    },\n    {\n      \"column\": \"PhysHlth\",\n      \"properties\": {\n        \"dtype\": \"number\",\n        \"std\": 24990.7782844359,\n        \"min\": 0.0,\n        \"max\": 70692.0,\n        \"num_unique_values\": 6,\n        \"samples\": [\n          70692.0,\n          5.810417020313473,\n          30.0\n        ],\n        \"semantic_type\": \"\",\n        \"description\": \"\"\n      }\n    },\n    {\n      \"column\": \"DiffWalk\",\n      \"properties\": {\n        \"dtype\": \"number\",\n        \"std\": 24993.26056161984,\n        \"min\": 0.0,\n        \"max\": 70692.0,\n        \"num_unique_values\": 5,\n        \"samples\": [\n          0.25273015334125504,\n          1.0,\n          0.43458059612316746\n        ],\n        \"semantic_type\": \"\",\n        \"description\": \"\"\n      }\n    },\n    {\n      \"column\": \"Stroke\",\n      \"properties\": {\n        \"dtype\": \"number\",\n        \"std\": 24993.33044645466,\n        \"min\": 0.0,\n        \"max\": 70692.0,\n        \"num_unique_values\": 5,\n        \"samples\": [\n          0.0621711084705483,\n          1.0,\n          0.24146777536763647\n        ],\n        \"semantic_type\": \"\",\n        \"description\": \"\"\n      }\n    },\n    {\n      \"column\": \"HighBP\",\n      \"properties\": {\n        \"dtype\": \"number\",\n        \"std\": 24993.1912596757,\n        \"min\": 0.0,\n        \"max\": 70692.0,\n        \"num_unique_values\": 5,\n        \"samples\": [\n          0.5634583828438862,\n          1.0,\n          0.4959601931599789\n        ],\n        \"semantic_type\": \"\",\n        \"description\": \"\"\n      }\n    },\n    {\n      \"column\": \"Diabetes\",\n      \"properties\": {\n        \"dtype\": \"number\",\n        \"std\": 24993.21951380371,\n        \"min\": 0.0,\n        \"max\": 70692.0,\n        \"num_unique_values\": 5,\n        \"samples\": [\n          0.5,\n          1.0,\n          0.5000035365055789\n        ],\n        \"semantic_type\": \"\",\n        \"description\": \"\"\n      }\n    }\n  ]\n}"
            }
          },
          "metadata": {},
          "execution_count": 5
        }
      ]
    },
    {
      "cell_type": "code",
      "source": [
        "#check and if missing values need to clean dataset\n",
        "df.info()"
      ],
      "metadata": {
        "colab": {
          "base_uri": "https://localhost:8080/"
        },
        "id": "_9ZW_nJm3K2B",
        "outputId": "a770749e-8b01-4218-f026-6ac33f24bf2f"
      },
      "execution_count": 5,
      "outputs": [
        {
          "output_type": "stream",
          "name": "stdout",
          "text": [
            "<class 'pandas.core.frame.DataFrame'>\n",
            "RangeIndex: 70692 entries, 0 to 70691\n",
            "Data columns (total 18 columns):\n",
            " #   Column                Non-Null Count  Dtype  \n",
            "---  ------                --------------  -----  \n",
            " 0   Age                   70692 non-null  float64\n",
            " 1   Sex                   70692 non-null  float64\n",
            " 2   HighChol              70692 non-null  float64\n",
            " 3   CholCheck             70692 non-null  float64\n",
            " 4   BMI                   70692 non-null  float64\n",
            " 5   Smoker                70692 non-null  float64\n",
            " 6   HeartDiseaseorAttack  70692 non-null  float64\n",
            " 7   PhysActivity          70692 non-null  float64\n",
            " 8   Fruits                70692 non-null  float64\n",
            " 9   Veggies               70692 non-null  float64\n",
            " 10  HvyAlcoholConsump     70692 non-null  float64\n",
            " 11  GenHlth               70692 non-null  float64\n",
            " 12  MentHlth              70692 non-null  float64\n",
            " 13  PhysHlth              70692 non-null  float64\n",
            " 14  DiffWalk              70692 non-null  float64\n",
            " 15  Stroke                70692 non-null  float64\n",
            " 16  HighBP                70692 non-null  float64\n",
            " 17  Diabetes              70692 non-null  float64\n",
            "dtypes: float64(18)\n",
            "memory usage: 9.7 MB\n"
          ]
        }
      ]
    },
    {
      "cell_type": "code",
      "source": [
        "#break down column info\n",
        "info = [\"13-level age category (AGE 5YR intervals) 1 = 18-24 9 = 60-64 13 = 80 or older\",\n",
        "        \"1: male, 0: female\",\n",
        "        \"0 = no high cholesterol 1 = high cholesterol\",\n",
        "        \"0 = no cholesterol check in 5 years 1 = yes cholesterol check in 5 years\",\n",
        "        \"Body Mass Index\",\n",
        "        \"Smoked at least 100 cigarettes in entire life? 0 = no 1 = yes\",\n",
        "        \"coronary heart disease (CHD) or myocardial infarction (MI) 0 = no 1 = yes\",\n",
        "        \"physical activity in past 30 days - not including job 0 = no 1 = yes\",\n",
        "        \"Consume Fruit 1 or more times per day 0 = no 1 = yes\",\n",
        "        \"Consume Vegetables 1 or more times per day 0 = no 1 = yes\",\n",
        "        \"(adult men >=14 drinks per week and adult women>=7 drinks per week) 0 = no 1 = yes\",\n",
        "        \"persnal health health rating: scale 1-5 1 = excellent 2 = very good 3 = good 4 = fair 5 = poor\",\n",
        "        \"days of poor mental health scale 1-30 days\",\n",
        "        \"physical illness or injury days in past 30 days scale 1-30\",\n",
        "        \"Serious difficulty walking or climbing stairs? 0 = no 1 = yes\",\n",
        "        \"you ever had a stroke. 0 = no, 1 = yes\",\n",
        "        \"0 = no high, BP 1 = high BP\",\n",
        "        \"0 = no diabetes, 1 = diabetes\"]\n",
        "\n",
        "for i in range(len(info)):\n",
        "    print(df.columns[i]+\":\\t\\t\\t\"+info[i])"
      ],
      "metadata": {
        "colab": {
          "base_uri": "https://localhost:8080/"
        },
        "id": "b62IYxST3Kwr",
        "outputId": "0efcfd24-e394-4ea0-badb-986ae93e8bf0"
      },
      "execution_count": 6,
      "outputs": [
        {
          "output_type": "stream",
          "name": "stdout",
          "text": [
            "Age:\t\t\t13-level age category (AGE 5YR intervals) 1 = 18-24 9 = 60-64 13 = 80 or older\n",
            "Sex:\t\t\t1: male, 0: female\n",
            "HighChol:\t\t\t0 = no high cholesterol 1 = high cholesterol\n",
            "CholCheck:\t\t\t0 = no cholesterol check in 5 years 1 = yes cholesterol check in 5 years\n",
            "BMI:\t\t\tBody Mass Index\n",
            "Smoker:\t\t\tSmoked at least 100 cigarettes in entire life? 0 = no 1 = yes\n",
            "HeartDiseaseorAttack:\t\t\tcoronary heart disease (CHD) or myocardial infarction (MI) 0 = no 1 = yes\n",
            "PhysActivity:\t\t\tphysical activity in past 30 days - not including job 0 = no 1 = yes\n",
            "Fruits:\t\t\tConsume Fruit 1 or more times per day 0 = no 1 = yes\n",
            "Veggies:\t\t\tConsume Vegetables 1 or more times per day 0 = no 1 = yes\n",
            "HvyAlcoholConsump:\t\t\t(adult men >=14 drinks per week and adult women>=7 drinks per week) 0 = no 1 = yes\n",
            "GenHlth:\t\t\tpersnal health health rating: scale 1-5 1 = excellent 2 = very good 3 = good 4 = fair 5 = poor\n",
            "MentHlth:\t\t\tdays of poor mental health scale 1-30 days\n",
            "PhysHlth:\t\t\tphysical illness or injury days in past 30 days scale 1-30\n",
            "DiffWalk:\t\t\tSerious difficulty walking or climbing stairs? 0 = no 1 = yes\n",
            "Stroke:\t\t\tyou ever had a stroke. 0 = no, 1 = yes\n",
            "HighBP:\t\t\t0 = no high, BP 1 = high BP\n",
            "Diabetes:\t\t\t0 = no diabetes, 1 = diabetes\n"
          ]
        }
      ]
    },
    {
      "cell_type": "markdown",
      "source": [
        "codebook for age breakdwn: https://www.cdc.gov/brfss/annual_data/annual_2015.html"
      ],
      "metadata": {
        "id": "FXHGLIQcLIjX"
      }
    },
    {
      "cell_type": "code",
      "source": [
        "#examine target column\n",
        "df[\"Diabetes\"].unique()"
      ],
      "metadata": {
        "colab": {
          "base_uri": "https://localhost:8080/"
        },
        "id": "3_cOnGGP3Kqo",
        "outputId": "50b26842-8ab9-430f-d7f8-d4b4f3ecba3a"
      },
      "execution_count": 7,
      "outputs": [
        {
          "output_type": "execute_result",
          "data": {
            "text/plain": [
              "array([0., 1.])"
            ]
          },
          "metadata": {},
          "execution_count": 7
        }
      ]
    },
    {
      "cell_type": "markdown",
      "source": [
        "0 and 1 indicates classification where 1 = diabetes, 0 = healthy"
      ],
      "metadata": {
        "id": "XaxMvubU41Np"
      }
    },
    {
      "cell_type": "markdown",
      "source": [
        "Check correlations between column and target"
      ],
      "metadata": {
        "id": "VtiAlxsm5GuY"
      }
    },
    {
      "cell_type": "code",
      "source": [
        "print(df.corr()[\"Diabetes\"].abs().sort_values(ascending=False))"
      ],
      "metadata": {
        "colab": {
          "base_uri": "https://localhost:8080/"
        },
        "id": "KZXCXoGX5GMn",
        "outputId": "0f4fc54a-90c2-4a03-f368-1147cafb8a98"
      },
      "execution_count": 8,
      "outputs": [
        {
          "output_type": "stream",
          "name": "stdout",
          "text": [
            "Diabetes                1.000000\n",
            "GenHlth                 0.407612\n",
            "HighBP                  0.381516\n",
            "BMI                     0.293373\n",
            "HighChol                0.289213\n",
            "Age                     0.278738\n",
            "DiffWalk                0.272646\n",
            "PhysHlth                0.213081\n",
            "HeartDiseaseorAttack    0.211523\n",
            "PhysActivity            0.158666\n",
            "Stroke                  0.125427\n",
            "CholCheck               0.115382\n",
            "HvyAlcoholConsump       0.094853\n",
            "MentHlth                0.087029\n",
            "Smoker                  0.085999\n",
            "Veggies                 0.079293\n",
            "Fruits                  0.054077\n",
            "Sex                     0.044413\n",
            "Name: Diabetes, dtype: float64\n"
          ]
        }
      ]
    },
    {
      "cell_type": "markdown",
      "source": [
        "We can see the weakest correlatins with: sex, fruits, veggies, smoker, mental health, and heavy alcohol consumption"
      ],
      "metadata": {
        "id": "qmTZFFot-wJ7"
      }
    },
    {
      "cell_type": "markdown",
      "source": [
        "# III. Exploratory Data Analysis\n",
        "\n"
      ],
      "metadata": {
        "id": "zee1VDvf7Bb7"
      }
    },
    {
      "cell_type": "markdown",
      "source": [
        "Analyze Diabetes column"
      ],
      "metadata": {
        "id": "w8Za8OEe8NXQ"
      }
    },
    {
      "cell_type": "code",
      "source": [
        "total = len(df)\n",
        "disease = len(df[df['Diabetes'] == 1])\n",
        "healthy = len(df[df['Diabetes'] == 0])\n",
        "\n",
        "plt.bar(['0','1'],[healthy, disease])\n",
        "plt.xlabel('Diabetes')\n",
        "plt.ylabel('People')\n",
        "plt.show()\n",
        "\n",
        "disease = round((disease/total)*100, 2)\n",
        "healthy = round((healthy/total)*100, 2)\n",
        "print('pecent of patients with heart issues: ', disease)\n",
        "print('pecent of patients without heart issues: ', healthy)"
      ],
      "metadata": {
        "colab": {
          "base_uri": "https://localhost:8080/",
          "height": 485
        },
        "id": "8wXJsi6i7BCc",
        "outputId": "13237fea-6703-4d04-edb8-9ee25808547b"
      },
      "execution_count": 9,
      "outputs": [
        {
          "output_type": "display_data",
          "data": {
            "text/plain": [
              "<Figure size 640x480 with 1 Axes>"
            ],
            "image/png": "[encoded data removed]"
          },
          "metadata": {}
        },
        {
          "output_type": "stream",
          "name": "stdout",
          "text": [
            "pecent of patients with heart issues:  50.0\n",
            "pecent of patients without heart issues:  50.0\n"
          ]
        }
      ]
    },
    {
      "cell_type": "markdown",
      "source": [
        "1. Sex"
      ],
      "metadata": {
        "id": "5d3WxbK6_t4N"
      }
    },
    {
      "cell_type": "code",
      "source": [
        "num_male = len(df[(df['Sex']==1)])\n",
        "num_female = len(df[(df['Sex']==0)])\n",
        "print(num_male, num_female)"
      ],
      "metadata": {
        "colab": {
          "base_uri": "https://localhost:8080/"
        },
        "id": "Dr9n_Pwf2dIv",
        "outputId": "c0fe381a-f303-45d8-fa45-996b45105e1e"
      },
      "execution_count": 10,
      "outputs": [
        {
          "output_type": "stream",
          "name": "stdout",
          "text": [
            "32306 38386\n"
          ]
        }
      ]
    },
    {
      "cell_type": "code",
      "source": [
        "#fairly even amount of data"
      ],
      "metadata": {
        "id": "KL8wb6rm2nqT"
      },
      "execution_count": 11,
      "outputs": []
    },
    {
      "cell_type": "code",
      "source": [
        "male_dis = len(df[(df['Sex']==1) & (df['Diabetes']== 1)]) / len(df[df['Sex'] == 1]) * 100\n",
        "female_dis = len(df[(df['Sex']==0) & (df['Diabetes']== 1)]) / len(df[df['Sex']==0]) * 100\n",
        "\n",
        "plt.bar(['male', 'female'], [male_dis, female_dis])\n",
        "plt.show()\n",
        "print('percent of males with diabetes:', round(male_dis,2))\n",
        "print('percent of females with diabetes:', round(female_dis,2))"
      ],
      "metadata": {
        "colab": {
          "base_uri": "https://localhost:8080/",
          "height": 466
        },
        "id": "GFB2UcDJ58Gk",
        "outputId": "026c6ffd-68c8-4815-c061-711e02c91ef9"
      },
      "execution_count": 13,
      "outputs": [
        {
          "output_type": "display_data",
          "data": {
            "text/plain": [
              "<Figure size 640x480 with 1 Axes>"
            ],
            "image/png": "[encoded data removed]"
          },
          "metadata": {}
        },
        {
          "output_type": "stream",
          "name": "stdout",
          "text": [
            "percent of males with diabetes: 52.42\n",
            "percent of females with diabetes: 47.96\n"
          ]
        }
      ]
    },
    {
      "cell_type": "code",
      "source": [
        "# we see that males are slightly more likely to have diabetes\n",
        "# but the percentaages are fairly similar"
      ],
      "metadata": {
        "id": "OlGgt-SYDLPs"
      },
      "execution_count": 12,
      "outputs": []
    },
    {
      "cell_type": "markdown",
      "source": [
        "2. Gen Health (1-5)"
      ],
      "metadata": {
        "id": "r1-KZXGVDIJB"
      }
    },
    {
      "cell_type": "code",
      "source": [
        "GenHlth = [0,0,0,0,0]\n",
        "GenHlth_categories = ['Excellent', 'Very Good', 'Good', 'Fair', 'Poor']\n",
        "for i in range(5):\n",
        "  GenHlth[i] = len(df[(df['GenHlth'] == i+1) & (df['Diabetes'] == 1)]) / len(df[df['GenHlth']==i+1]) * 100\n",
        "\n",
        "\n",
        "plt.bar(GenHlth_categories, GenHlth)\n",
        "plt.show()\n",
        "\n",
        "for i in range(5):\n",
        "  print(f\"pecent of people who reported level {GenHlth_categories[i]} general health: {round(GenHlth[i],2)}\")\n"
      ],
      "metadata": {
        "colab": {
          "base_uri": "https://localhost:8080/",
          "height": 519
        },
        "id": "NkyQuAlm4w5P",
        "outputId": "63b19e62-c4b6-4a84-9335-88a08884a27b"
      },
      "execution_count": 14,
      "outputs": [
        {
          "output_type": "display_data",
          "data": {
            "text/plain": [
              "<Figure size 640x480 with 1 Axes>"
            ],
            "image/png": "[encoded data removed]"
          },
          "metadata": {}
        },
        {
          "output_type": "stream",
          "name": "stdout",
          "text": [
            "pecent of people who reported level Excellent general health: 13.76\n",
            "pecent of people who reported level Very Good general health: 32.11\n",
            "pecent of people who reported level Good general health: 57.44\n",
            "pecent of people who reported level Fair general health: 73.59\n",
            "pecent of people who reported level Poor general health: 78.82\n"
          ]
        }
      ]
    },
    {
      "cell_type": "code",
      "source": [
        "# we see a general trend of those with higher general health scores\n",
        "# had much higher rates of diabetes seen"
      ],
      "metadata": {
        "id": "brjDDw8XmWxH"
      },
      "execution_count": 15,
      "outputs": []
    },
    {
      "cell_type": "markdown",
      "source": [
        "3. High Blood Pressure"
      ],
      "metadata": {
        "id": "aGb2Rsremi7E"
      }
    },
    {
      "cell_type": "code",
      "source": [
        "HighBP = [0,0]\n",
        "HighBP_categories = ['No High BP', 'High BP']\n",
        "\n",
        "for i in range(2):\n",
        "  HighBP[i] = len(df[(df['HighBP']== i) & (df['Diabetes']) == 1]) / len(df[df['HighBP'] == i]) * 100\n",
        "\n",
        "plt.bar(HighBP_categories, HighBP)\n",
        "plt.show()\n",
        "\n",
        "for i in range(2):\n",
        "  print(f\"pecent of people who had {HighBP_categories[i]} with diabetes: {round(HighBP[i],2)}\")\n",
        "\n"
      ],
      "metadata": {
        "colab": {
          "base_uri": "https://localhost:8080/",
          "height": 471
        },
        "id": "vG-LoG4x4w2p",
        "outputId": "99b19f75-033b-48f6-d243-5256f0a321d3"
      },
      "execution_count": 16,
      "outputs": [
        {
          "output_type": "display_data",
          "data": {
            "text/plain": [
              "<Figure size 640x480 with 1 Axes>"
            ],
            "image/png": "[encoded data removed]"
          },
          "metadata": {}
        },
        {
          "output_type": "stream",
          "name": "stdout",
          "text": [
            "pecent of people who had No High BP with diabetes: 28.33\n",
            "pecent of people who had High BP with diabetes: 66.79\n"
          ]
        }
      ]
    },
    {
      "cell_type": "code",
      "source": [
        "# we see that those with high cholesterol generally also had higher\n",
        "# rates of diabetes"
      ],
      "metadata": {
        "id": "uh95dA41p3XX"
      },
      "execution_count": 17,
      "outputs": []
    },
    {
      "cell_type": "markdown",
      "source": [
        "4. Body Mass Index"
      ],
      "metadata": {
        "id": "gsGtgD7CqD2b"
      }
    },
    {
      "cell_type": "code",
      "source": [
        "df['BMI'].describe()"
      ],
      "metadata": {
        "colab": {
          "base_uri": "https://localhost:8080/",
          "height": 335
        },
        "id": "jXDdQHR1RoyH",
        "outputId": "911199d6-027f-42c1-bd0f-ccbc52306777"
      },
      "execution_count": 18,
      "outputs": [
        {
          "output_type": "execute_result",
          "data": {
            "text/plain": [
              "count    70692.000000\n",
              "mean        29.856985\n",
              "std          7.113954\n",
              "min         12.000000\n",
              "25%         25.000000\n",
              "50%         29.000000\n",
              "75%         33.000000\n",
              "max         98.000000\n",
              "Name: BMI, dtype: float64"
            ],
            "text/html": [
              "<div>\n",
              "<style scoped>\n",
              "    .dataframe tbody tr th:only-of-type {\n",
              "        vertical-align: middle;\n",
              "    }\n",
              "\n",
              "    .dataframe tbody tr th {\n",
              "        vertical-align: top;\n",
              "    }\n",
              "\n",
              "    .dataframe thead th {\n",
              "        text-align: right;\n",
              "    }\n",
              "</style>\n",
              "<table border=\"1\" class=\"dataframe\">\n",
              "  <thead>\n",
              "    <tr style=\"text-align: right;\">\n",
              "      <th></th>\n",
              "      <th>BMI</th>\n",
              "    </tr>\n",
              "  </thead>\n",
              "  <tbody>\n",
              "    <tr>\n",
              "      <th>count</th>\n",
              "      <td>70692.000000</td>\n",
              "    </tr>\n",
              "    <tr>\n",
              "      <th>mean</th>\n",
              "      <td>29.856985</td>\n",
              "    </tr>\n",
              "    <tr>\n",
              "      <th>std</th>\n",
              "      <td>7.113954</td>\n",
              "    </tr>\n",
              "    <tr>\n",
              "      <th>min</th>\n",
              "      <td>12.000000</td>\n",
              "    </tr>\n",
              "    <tr>\n",
              "      <th>25%</th>\n",
              "      <td>25.000000</td>\n",
              "    </tr>\n",
              "    <tr>\n",
              "      <th>50%</th>\n",
              "      <td>29.000000</td>\n",
              "    </tr>\n",
              "    <tr>\n",
              "      <th>75%</th>\n",
              "      <td>33.000000</td>\n",
              "    </tr>\n",
              "    <tr>\n",
              "      <th>max</th>\n",
              "      <td>98.000000</td>\n",
              "    </tr>\n",
              "  </tbody>\n",
              "</table>\n",
              "</div><br><label><b>dtype:</b> float64</label>"
            ]
          },
          "metadata": {},
          "execution_count": 18
        }
      ]
    },
    {
      "cell_type": "code",
      "source": [
        "BMI = [0,1,2,3]\n",
        "BMI_quart = ['under 25', '26 to 29', '30 to 33', 'over 33']\n",
        "\n",
        "#split BMI into qurtiles\n",
        "BMI[0] = len(df[(df['BMI'] <= 25) & (df['Diabetes']) == 1]) / len(df[df['BMI'] <= 25]) * 100\n",
        "BMI[1] = len(df[(df['BMI'] > 25)& (df['BMI'] <=29 ) & (df['Diabetes']) == 1]) / len(df[(df['BMI'] > 25)& (df['BMI'] <=29 )]) * 100\n",
        "BMI[2] = len(df[(df['BMI'] > 29)& (df['BMI'] <33 ) & (df['Diabetes']) == 1]) / len(df[(df['BMI'] > 29)& (df['BMI'] <=33 )]) * 100\n",
        "BMI[3] = len(df[(df['BMI'] > 33) & (df['Diabetes']) == 1]) / len(df[df['BMI'] > 33]) * 100\n",
        "\n",
        "\n",
        "\n",
        "plt.bar(BMI_quart, BMI)\n",
        "plt.show()\n",
        "\n",
        "for i in range(4):\n",
        "  print(f\"pecent of people who have BMI {BMI_quart[i]}: {round(BMI[i],2)}%\")\n",
        "\n"
      ],
      "metadata": {
        "colab": {
          "base_uri": "https://localhost:8080/",
          "height": 501
        },
        "id": "kEwurtOcqzrb",
        "outputId": "2bb69af2-ae7f-4d4e-dc02-50cd136db0b1"
      },
      "execution_count": 19,
      "outputs": [
        {
          "output_type": "display_data",
          "data": {
            "text/plain": [
              "<Figure size 640x480 with 1 Axes>"
            ],
            "image/png": "[encoded data removed]"
          },
          "metadata": {}
        },
        {
          "output_type": "stream",
          "name": "stdout",
          "text": [
            "pecent of people who have BMI under 25: 28.98%\n",
            "pecent of people who have BMI 26 to 29: 45.97%\n",
            "pecent of people who have BMI 30 to 33: 44.47%\n",
            "pecent of people who have BMI over 33: 71.6%\n"
          ]
        }
      ]
    },
    {
      "cell_type": "code",
      "source": [
        "# we see a general increase in diabetes as BMI increases with the two middle\n",
        "# quaartiles having comparable rates of diabetes"
      ],
      "metadata": {
        "id": "6VSUswIa4NBD"
      },
      "execution_count": 20,
      "outputs": []
    },
    {
      "cell_type": "markdown",
      "source": [
        "5. High Cholesterol"
      ],
      "metadata": {
        "id": "23MPPlRk4VGU"
      }
    },
    {
      "cell_type": "code",
      "source": [
        "HighChol = [0,1]\n",
        "HighChol_categories = ['No High Chol', 'High Chol']\n",
        "\n",
        "for i in range(2):\n",
        "  HighChol[i] = len(df[(df['HighChol']== i) & (df['Diabetes']) == 1]) / len(df[df['HighChol'] == i]) * 100\n",
        "\n",
        "plt.bar(HighChol_categories, HighChol)\n",
        "plt.show()\n",
        "\n",
        "for i in range(2):\n",
        "  print(f\"pecent of people who had {HighChol_categories[i]} and diabetes: {round(HighChol[i],2)}%\")"
      ],
      "metadata": {
        "colab": {
          "base_uri": "https://localhost:8080/",
          "height": 466
        },
        "id": "Lv_NqqmF6iZD",
        "outputId": "03d82789-4818-43f0-905c-dad1da5189e0",
        "collapsed": true
      },
      "execution_count": 21,
      "outputs": [
        {
          "output_type": "display_data",
          "data": {
            "text/plain": [
              "<Figure size 640x480 with 1 Axes>"
            ],
            "image/png": "[encoded data removed]"
          },
          "metadata": {}
        },
        {
          "output_type": "stream",
          "name": "stdout",
          "text": [
            "pecent of people who had No High Chol and diabetes: 34.78%\n",
            "pecent of people who had High Chol and diabetes: 63.74%\n"
          ]
        }
      ]
    },
    {
      "cell_type": "code",
      "source": [
        "# those with higher chol had significantly higher rates of diabetes"
      ],
      "metadata": {
        "id": "J2cVg2EW7YBN"
      },
      "execution_count": 22,
      "outputs": []
    },
    {
      "cell_type": "markdown",
      "source": [
        "6. Age"
      ],
      "metadata": {
        "id": "mrYWPWq86KaP"
      }
    },
    {
      "cell_type": "code",
      "source": [
        "Age = [1, 2, 3, 4, 5, 6, 7, 8, 9, 10, 11, 12, 13]\n",
        "Age_class = ['1', '2', '3', '4', '5', '6', '7', '8', '9', '10', '11', '12', '13']\n",
        "for i in range(13):\n",
        "  Age[i] = len(df[(df['Age']== i+1) & (df['Diabetes']) == 1]) / len(df[df['Age'] == i+1]) * 100\n",
        "\n",
        "plt.bar(Age_class, Age)\n",
        "plt.show()\n",
        "\n",
        "for i in range(13):\n",
        "  print(f\"pecent of people in the age classifcation of {i+1} with diabetes: {round(Age[i],2)}%\")\n"
      ],
      "metadata": {
        "colab": {
          "base_uri": "https://localhost:8080/",
          "height": 662
        },
        "id": "GNgaLPxb4wy5",
        "outputId": "0977a6c0-d734-4975-9c92-54349065c086"
      },
      "execution_count": 23,
      "outputs": [
        {
          "output_type": "display_data",
          "data": {
            "text/plain": [
              "<Figure size 640x480 with 1 Axes>"
            ],
            "image/png": "[encoded data removed]"
          },
          "metadata": {}
        },
        {
          "output_type": "stream",
          "name": "stdout",
          "text": [
            "pecent of people in the age classifcation of 1 with diabetes: 7.97%\n",
            "pecent of people in the age classifcation of 2 with diabetes: 10.03%\n",
            "pecent of people in the age classifcation of 3 with diabetes: 15.32%\n",
            "pecent of people in the age classifcation of 4 with diabetes: 22.41%\n",
            "pecent of people in the age classifcation of 5 with diabetes: 29.86%\n",
            "pecent of people in the age classifcation of 6 with diabetes: 37.48%\n",
            "pecent of people in the age classifcation of 7 with diabetes: 44.94%\n",
            "pecent of people in the age classifcation of 8 with diabetes: 49.55%\n",
            "pecent of people in the age classifcation of 9 with diabetes: 56.7%\n",
            "pecent of people in the age classifcation of 10 with diabetes: 60.41%\n",
            "pecent of people in the age classifcation of 11 with diabetes: 63.91%\n",
            "pecent of people in the age classifcation of 12 with diabetes: 63.09%\n",
            "pecent of people in the age classifcation of 13 with diabetes: 59.14%\n"
          ]
        }
      ]
    },
    {
      "cell_type": "code",
      "source": [
        "# general increase in diabetes rates as age range increase\n",
        "# then decrease again after age class 11"
      ],
      "metadata": {
        "id": "NqNPb0SGAjKc"
      },
      "execution_count": 24,
      "outputs": []
    },
    {
      "cell_type": "markdown",
      "source": [
        "7. Physical Activity\n"
      ],
      "metadata": {
        "id": "lE3_Crw2zvw2"
      }
    },
    {
      "cell_type": "code",
      "source": [
        "\n",
        "PhysAct = [0,1]\n",
        "PhysAct_categories = ['No Phys Act', 'Phys Act']\n",
        "\n",
        "for i in range(2):\n",
        "  PhysAct[i] = len(df[(df['PhysActivity']== i) & (df['Diabetes']) == 1]) / len(df[df['PhysActivity'] == i]) * 100\n",
        "\n",
        "plt.bar(PhysAct_categories, PhysAct)\n",
        "plt.show()\n",
        "\n",
        "for i in range(2):\n",
        "  print(f\"pecent of people who had {PhysAct_categories[i]} and diabetes: {round(PhysAct[i],2)}%\")\n",
        "\n"
      ],
      "metadata": {
        "colab": {
          "base_uri": "https://localhost:8080/",
          "height": 466
        },
        "id": "LiV4t38K0EIW",
        "outputId": "ab09a122-35ce-4991-c516-80dcc551537f"
      },
      "execution_count": 25,
      "outputs": [
        {
          "output_type": "display_data",
          "data": {
            "text/plain": [
              "<Figure size 640x480 with 1 Axes>"
            ],
            "image/png": "[encoded data removed]"
          },
          "metadata": {}
        },
        {
          "output_type": "stream",
          "name": "stdout",
          "text": [
            "pecent of people who had No Phys Act and diabetes: 62.21%\n",
            "pecent of people who had Phys Act and diabetes: 44.84%\n"
          ]
        }
      ]
    },
    {
      "cell_type": "code",
      "source": [
        "#we see higher rates in those who didn't perform any physical activity in the past 30 days"
      ],
      "metadata": {
        "id": "nnfJa1Fc1aNB"
      },
      "execution_count": 26,
      "outputs": []
    },
    {
      "cell_type": "markdown",
      "source": [
        "8. Heart Disease or Attack"
      ],
      "metadata": {
        "id": "tXv86otf19IX"
      }
    },
    {
      "cell_type": "code",
      "source": [
        "#HeartDiseaseorAttack\n",
        "\n",
        "HDA = [0,1]\n",
        "HDA_cat = ['no heart disease/attack', 'heart disease/attack']\n",
        "\n",
        "for i in range(2):\n",
        "  HDA[i] = len(df[(df['HeartDiseaseorAttack']== i) & (df['Diabetes']) == 1]) / len(df[df['HeartDiseaseorAttack'] == i]) * 100\n",
        "\n",
        "plt.bar(HDA_cat, HDA)\n",
        "plt.show()\n",
        "\n",
        "for i in range(2):\n",
        "  print(f\"pecent of people who had {HDA_cat[i]} and diabetes: {round(HDA[i],2)}%\")"
      ],
      "metadata": {
        "colab": {
          "base_uri": "https://localhost:8080/",
          "height": 466
        },
        "id": "F3taATyT2ALk",
        "outputId": "b7a1eaf9-bb8e-4acc-927d-7731ae02c8ac"
      },
      "execution_count": 27,
      "outputs": [
        {
          "output_type": "display_data",
          "data": {
            "text/plain": [
              "<Figure size 640x480 with 1 Axes>"
            ],
            "image/png": "[encoded data removed]"
          },
          "metadata": {}
        },
        {
          "output_type": "stream",
          "name": "stdout",
          "text": [
            "pecent of people who had no heart disease/attack and diabetes: 45.6%\n",
            "pecent of people who had heart disease/attack and diabetes: 75.39%\n"
          ]
        }
      ]
    },
    {
      "cell_type": "code",
      "source": [
        "# no heart disease/attack had lower rates of diabetes\n",
        "# curious if people had diabetes that contributed to heart problems or vice versa"
      ],
      "metadata": {
        "id": "a_WGK_hT3MdF"
      },
      "execution_count": 28,
      "outputs": []
    },
    {
      "cell_type": "code",
      "source": [
        "# Compiling the various graphs\n",
        "fig, axes = plt.subplots(2, 4, figsize=(20, 16))\n",
        "axes = axes.flatten()\n",
        "\n",
        "axes[0].bar(['male', 'female'],[male_dis, female_dis], color='silver')\n",
        "axes[0].set_title('Diabetes rates by sex')\n",
        "\n",
        "axes[1].bar(GenHlth_categories, GenHlth, color='lightsalmon')\n",
        "axes[1].set_title('Diabetes rates by general health')\n",
        "\n",
        "axes[2].bar(HighBP_categories, HighBP, color='gold')\n",
        "axes[2].set_title('Diabetes rates by High BP')\n",
        "\n",
        "axes[3].bar(BMI_quart, BMI, color='lightgreen')\n",
        "axes[3].set_title('Diabetes rates by BMI range')\n",
        "\n",
        "axes[4].bar(['High Chol', 'No High Chol'], HighChol, color='lightcoral')\n",
        "axes[4].set_title('Diabetes rates by High Chol')\n",
        "\n",
        "axes[5].bar(Age_class, Age, color='lightskyblue')\n",
        "axes[5].set_title('Diabetes rates by age class')\n",
        "\n",
        "axes[6].bar(PhysAct_categories, PhysAct, color='mediumslateblue')\n",
        "axes[6].set_title('Diabetes rates compared to physical activity')\n",
        "\n",
        "axes[7].bar(HDA_cat, HDA, color='lightpink')\n",
        "axes[7].set_title('Diabetes rates by heart disease/attack')"
      ],
      "metadata": {
        "colab": {
          "base_uri": "https://localhost:8080/",
          "height": 783
        },
        "id": "6NVa-wtowhDu",
        "outputId": "d27a6ae8-64dc-4546-8896-fa82f6a02397"
      },
      "execution_count": 29,
      "outputs": [
        {
          "output_type": "execute_result",
          "data": {
            "text/plain": [
              "Text(0.5, 1.0, 'Diabetes rates by heart disease/attack')"
            ]
          },
          "metadata": {},
          "execution_count": 29
        },
        {
          "output_type": "display_data",
          "data": {
            "text/plain": [
              "<Figure size 2000x1600 with 8 Axes>"
            ],
            "image/png": "[encoded data removed]"
          },
          "metadata": {}
        }
      ]
    },
    {
      "cell_type": "markdown",
      "source": [
        "# IV Train-Test Split"
      ],
      "metadata": {
        "id": "qeDQZVsZAvV7"
      }
    },
    {
      "cell_type": "code",
      "source": [
        "features = df.drop(\"Diabetes\",axis=1)\n",
        "target = df[\"Diabetes\"]"
      ],
      "metadata": {
        "id": "UErGUatR5uBf"
      },
      "execution_count": 30,
      "outputs": []
    },
    {
      "cell_type": "code",
      "source": [
        "# split the data into training and test data\n",
        "X_train,X_test,Y_train,Y_test = train_test_split(features,target,test_size=0.30,random_state=0)"
      ],
      "metadata": {
        "id": "hGYt5IXA4wjh"
      },
      "execution_count": 31,
      "outputs": []
    },
    {
      "cell_type": "code",
      "source": [
        "print(X_train.shape)\n",
        "print(X_test.shape)\n",
        "print(Y_train.shape)\n",
        "print(Y_test.shape)"
      ],
      "metadata": {
        "colab": {
          "base_uri": "https://localhost:8080/"
        },
        "id": "5AaFi3Id4whH",
        "outputId": "b1e81edd-866c-469e-9cf2-7ef5ca513fbf"
      },
      "execution_count": 32,
      "outputs": [
        {
          "output_type": "stream",
          "name": "stdout",
          "text": [
            "(49484, 17)\n",
            "(21208, 17)\n",
            "(49484,)\n",
            "(21208,)\n"
          ]
        }
      ]
    },
    {
      "cell_type": "markdown",
      "source": [
        "# V. Model Fitting"
      ],
      "metadata": {
        "id": "tgM7C28Q8l9S"
      }
    },
    {
      "cell_type": "markdown",
      "source": [
        "1. Logistic Regression"
      ],
      "metadata": {
        "id": "AEcVZpuE8p27"
      }
    },
    {
      "cell_type": "code",
      "source": [
        "lr = LogisticRegression()\n",
        "\n",
        "lr.fit(X_train,Y_train)\n",
        "\n",
        "lr_pred = lr.predict(X_test)"
      ],
      "metadata": {
        "colab": {
          "base_uri": "https://localhost:8080/"
        },
        "id": "Hg32TUC9_W_g",
        "outputId": "ad89dfef-1315-4ceb-f361-7930c02d53d2"
      },
      "execution_count": 33,
      "outputs": [
        {
          "output_type": "stream",
          "name": "stderr",
          "text": [
            "/usr/local/lib/python3.12/dist-packages/sklearn/linear_model/_logistic.py:465: ConvergenceWarning: lbfgs failed to converge (status=1):\n",
            "STOP: TOTAL NO. OF ITERATIONS REACHED LIMIT.\n",
            "\n",
            "Increase the number of iterations (max_iter) or scale the data as shown in:\n",
            "    https://scikit-learn.org/stable/modules/preprocessing.html\n",
            "Please also refer to the documentation for alternative solver options:\n",
            "    https://scikit-learn.org/stable/modules/linear_model.html#logistic-regression\n",
            "  n_iter_i = _check_optimize_result(\n"
          ]
        }
      ]
    },
    {
      "cell_type": "code",
      "source": [
        "#calculate and compare score\n",
        "lr_acc = round(accuracy_score(lr_pred,Y_test)*100,2)\n",
        "\n",
        "print(f\"The accuracy score achieved using Logistic Regression is: {lr_acc} %\")"
      ],
      "metadata": {
        "colab": {
          "base_uri": "https://localhost:8080/"
        },
        "id": "ZvmIcj3JABN1",
        "outputId": "ae394d99-4711-4e59-a9a4-9343f532138a"
      },
      "execution_count": 34,
      "outputs": [
        {
          "output_type": "stream",
          "name": "stdout",
          "text": [
            "The accuracy score achieved using Logistic Regression is: 74.54 %\n"
          ]
        }
      ]
    },
    {
      "cell_type": "markdown",
      "source": [
        "2. KNN"
      ],
      "metadata": {
        "id": "P4C5edIv8uq5"
      }
    },
    {
      "cell_type": "code",
      "source": [
        "# we must determine the amount of neigbors to use\n",
        "param_grid = {\n",
        "        'n_neighbors': list(range(1, 16)),  # Explore k from 1 to 15\n",
        "        'weights': ['uniform', 'distance'],\n",
        "        'metric': ['euclidean', 'manhattan']\n",
        "    }\n",
        "\n",
        "knn = KNeighborsClassifier()\n",
        "\n",
        "#using 5 fold cross validation\n",
        "grid_search = GridSearchCV(knn, param_grid, cv=5, scoring='accuracy')"
      ],
      "metadata": {
        "id": "FlxQEF8jBmux"
      },
      "execution_count": 35,
      "outputs": []
    },
    {
      "cell_type": "code",
      "source": [
        "#fit data\n",
        "# attempted too use full 17 features but fitting took over 13 min with no results\n",
        "# so going to test with reduced features\n",
        "# included: GenHlt, HighBP, BMI, HighChol, Age, DiffWalk, PhysHlth, HeartDiseaseorAttack\n",
        "#       PhysActivity, Stroke, CholCheck\n",
        "knn_X_train = X_train[['GenHlth', 'HighBP', 'BMI', 'HighChol', 'Age',\n",
        "                       'DiffWalk', 'PhysHlth', 'HeartDiseaseorAttack',\n",
        "                       'PhysActivity', 'Stroke', 'CholCheck']]\n",
        "knn_X_test = X_test[['GenHlth', 'HighBP', 'BMI', 'HighChol', 'Age',\n",
        "                       'DiffWalk', 'PhysHlth', 'HeartDiseaseorAttack',\n",
        "                       'PhysActivity', 'Stroke', 'CholCheck']]\n",
        "\n",
        "grid_search.fit(knn_X_train, Y_train)"
      ],
      "metadata": {
        "colab": {
          "base_uri": "https://localhost:8080/",
          "height": 166
        },
        "id": "YTSvH5WnEOwz",
        "outputId": "423957c2-9538-4d9b-a118-3a18c81380e8"
      },
      "execution_count": 41,
      "outputs": [
        {
          "output_type": "execute_result",
          "data": {
            "text/plain": [
              "GridSearchCV(cv=5, estimator=KNeighborsClassifier(),\n",
              "             param_grid={'metric': ['euclidean', 'manhattan'],\n",
              "                         'n_neighbors': [1, 2, 3, 4, 5, 6, 7, 8, 9, 10, 11, 12,\n",
              "                                         13, 14, 15],\n",
              "                         'weights': ['uniform', 'distance']},\n",
              "             scoring='accuracy')"
            ],
            "text/html": [
              "<style>#sk-container-id-1 {\n",
              "  /* Definition of color scheme common for light and dark mode */\n",
              "  --sklearn-color-text: #000;\n",
              "  --sklearn-color-text-muted: #666;\n",
              "  --sklearn-color-line: gray;\n",
              "  /* Definition of color scheme for unfitted estimators */\n",
              "  --sklearn-color-unfitted-level-0: #fff5e6;\n",
              "  --sklearn-color-unfitted-level-1: #f6e4d2;\n",
              "  --sklearn-color-unfitted-level-2: #ffe0b3;\n",
              "  --sklearn-color-unfitted-level-3: chocolate;\n",
              "  /* Definition of color scheme for fitted estimators */\n",
              "  --sklearn-color-fitted-level-0: #f0f8ff;\n",
              "  --sklearn-color-fitted-level-1: #d4ebff;\n",
              "  --sklearn-color-fitted-level-2: #b3dbfd;\n",
              "  --sklearn-color-fitted-level-3: cornflowerblue;\n",
              "\n",
              "  /* Specific color for light theme */\n",
              "  --sklearn-color-text-on-default-background: var(--sg-text-color, var(--theme-code-foreground, var(--jp-content-font-color1, black)));\n",
              "  --sklearn-color-background: var(--sg-background-color, var(--theme-background, var(--jp-layout-color0, white)));\n",
              "  --sklearn-color-border-box: var(--sg-text-color, var(--theme-code-foreground, var(--jp-content-font-color1, black)));\n",
              "  --sklearn-color-icon: #696969;\n",
              "\n",
              "  @media (prefers-color-scheme: dark) {\n",
              "    /* Redefinition of color scheme for dark theme */\n",
              "    --sklearn-color-text-on-default-background: var(--sg-text-color, var(--theme-code-foreground, var(--jp-content-font-color1, white)));\n",
              "    --sklearn-color-background: var(--sg-background-color, var(--theme-background, var(--jp-layout-color0, #111)));\n",
              "    --sklearn-color-border-box: var(--sg-text-color, var(--theme-code-foreground, var(--jp-content-font-color1, white)));\n",
              "    --sklearn-color-icon: #878787;\n",
              "  }\n",
              "}\n",
              "\n",
              "#sk-container-id-1 {\n",
              "  color: var(--sklearn-color-text);\n",
              "}\n",
              "\n",
              "#sk-container-id-1 pre {\n",
              "  padding: 0;\n",
              "}\n",
              "\n",
              "#sk-container-id-1 input.sk-hidden--visually {\n",
              "  border: 0;\n",
              "  clip: rect(1px 1px 1px 1px);\n",
              "  clip: rect(1px, 1px, 1px, 1px);\n",
              "  height: 1px;\n",
              "  margin: -1px;\n",
              "  overflow: hidden;\n",
              "  padding: 0;\n",
              "  position: absolute;\n",
              "  width: 1px;\n",
              "}\n",
              "\n",
              "#sk-container-id-1 div.sk-dashed-wrapped {\n",
              "  border: 1px dashed var(--sklearn-color-line);\n",
              "  margin: 0 0.4em 0.5em 0.4em;\n",
              "  box-sizing: border-box;\n",
              "  padding-bottom: 0.4em;\n",
              "  background-color: var(--sklearn-color-background);\n",
              "}\n",
              "\n",
              "#sk-container-id-1 div.sk-container {\n",
              "  /* jupyter's `normalize.less` sets `[hidden] { display: none; }`\n",
              "     but bootstrap.min.css set `[hidden] { display: none !important; }`\n",
              "     so we also need the `!important` here to be able to override the\n",
              "     default hidden behavior on the sphinx rendered scikit-learn.org.\n",
              "     See: https://github.com/scikit-learn/scikit-learn/issues/21755 */\n",
              "  display: inline-block !important;\n",
              "  position: relative;\n",
              "}\n",
              "\n",
              "#sk-container-id-1 div.sk-text-repr-fallback {\n",
              "  display: none;\n",
              "}\n",
              "\n",
              "div.sk-parallel-item,\n",
              "div.sk-serial,\n",
              "div.sk-item {\n",
              "  /* draw centered vertical line to link estimators */\n",
              "  background-image: linear-gradient(var(--sklearn-color-text-on-default-background), var(--sklearn-color-text-on-default-background));\n",
              "  background-size: 2px 100%;\n",
              "  background-repeat: no-repeat;\n",
              "  background-position: center center;\n",
              "}\n",
              "\n",
              "/* Parallel-specific style estimator block */\n",
              "\n",
              "#sk-container-id-1 div.sk-parallel-item::after {\n",
              "  content: \"\";\n",
              "  width: 100%;\n",
              "  border-bottom: 2px solid var(--sklearn-color-text-on-default-background);\n",
              "  flex-grow: 1;\n",
              "}\n",
              "\n",
              "#sk-container-id-1 div.sk-parallel {\n",
              "  display: flex;\n",
              "  align-items: stretch;\n",
              "  justify-content: center;\n",
              "  background-color: var(--sklearn-color-background);\n",
              "  position: relative;\n",
              "}\n",
              "\n",
              "#sk-container-id-1 div.sk-parallel-item {\n",
              "  display: flex;\n",
              "  flex-direction: column;\n",
              "}\n",
              "\n",
              "#sk-container-id-1 div.sk-parallel-item:first-child::after {\n",
              "  align-self: flex-end;\n",
              "  width: 50%;\n",
              "}\n",
              "\n",
              "#sk-container-id-1 div.sk-parallel-item:last-child::after {\n",
              "  align-self: flex-start;\n",
              "  width: 50%;\n",
              "}\n",
              "\n",
              "#sk-container-id-1 div.sk-parallel-item:only-child::after {\n",
              "  width: 0;\n",
              "}\n",
              "\n",
              "/* Serial-specific style estimator block */\n",
              "\n",
              "#sk-container-id-1 div.sk-serial {\n",
              "  display: flex;\n",
              "  flex-direction: column;\n",
              "  align-items: center;\n",
              "  background-color: var(--sklearn-color-background);\n",
              "  padding-right: 1em;\n",
              "  padding-left: 1em;\n",
              "}\n",
              "\n",
              "\n",
              "/* Toggleable style: style used for estimator/Pipeline/ColumnTransformer box that is\n",
              "clickable and can be expanded/collapsed.\n",
              "- Pipeline and ColumnTransformer use this feature and define the default style\n",
              "- Estimators will overwrite some part of the style using the `sk-estimator` class\n",
              "*/\n",
              "\n",
              "/* Pipeline and ColumnTransformer style (default) */\n",
              "\n",
              "#sk-container-id-1 div.sk-toggleable {\n",
              "  /* Default theme specific background. It is overwritten whether we have a\n",
              "  specific estimator or a Pipeline/ColumnTransformer */\n",
              "  background-color: var(--sklearn-color-background);\n",
              "}\n",
              "\n",
              "/* Toggleable label */\n",
              "#sk-container-id-1 label.sk-toggleable__label {\n",
              "  cursor: pointer;\n",
              "  display: flex;\n",
              "  width: 100%;\n",
              "  margin-bottom: 0;\n",
              "  padding: 0.5em;\n",
              "  box-sizing: border-box;\n",
              "  text-align: center;\n",
              "  align-items: start;\n",
              "  justify-content: space-between;\n",
              "  gap: 0.5em;\n",
              "}\n",
              "\n",
              "#sk-container-id-1 label.sk-toggleable__label .caption {\n",
              "  font-size: 0.6rem;\n",
              "  font-weight: lighter;\n",
              "  color: var(--sklearn-color-text-muted);\n",
              "}\n",
              "\n",
              "#sk-container-id-1 label.sk-toggleable__label-arrow:before {\n",
              "  /* Arrow on the left of the label */\n",
              "  content: \"▸\";\n",
              "  float: left;\n",
              "  margin-right: 0.25em;\n",
              "  color: var(--sklearn-color-icon);\n",
              "}\n",
              "\n",
              "#sk-container-id-1 label.sk-toggleable__label-arrow:hover:before {\n",
              "  color: var(--sklearn-color-text);\n",
              "}\n",
              "\n",
              "/* Toggleable content - dropdown */\n",
              "\n",
              "#sk-container-id-1 div.sk-toggleable__content {\n",
              "  max-height: 0;\n",
              "  max-width: 0;\n",
              "  overflow: hidden;\n",
              "  text-align: left;\n",
              "  /* unfitted */\n",
              "  background-color: var(--sklearn-color-unfitted-level-0);\n",
              "}\n",
              "\n",
              "#sk-container-id-1 div.sk-toggleable__content.fitted {\n",
              "  /* fitted */\n",
              "  background-color: var(--sklearn-color-fitted-level-0);\n",
              "}\n",
              "\n",
              "#sk-container-id-1 div.sk-toggleable__content pre {\n",
              "  margin: 0.2em;\n",
              "  border-radius: 0.25em;\n",
              "  color: var(--sklearn-color-text);\n",
              "  /* unfitted */\n",
              "  background-color: var(--sklearn-color-unfitted-level-0);\n",
              "}\n",
              "\n",
              "#sk-container-id-1 div.sk-toggleable__content.fitted pre {\n",
              "  /* unfitted */\n",
              "  background-color: var(--sklearn-color-fitted-level-0);\n",
              "}\n",
              "\n",
              "#sk-container-id-1 input.sk-toggleable__control:checked~div.sk-toggleable__content {\n",
              "  /* Expand drop-down */\n",
              "  max-height: 200px;\n",
              "  max-width: 100%;\n",
              "  overflow: auto;\n",
              "}\n",
              "\n",
              "#sk-container-id-1 input.sk-toggleable__control:checked~label.sk-toggleable__label-arrow:before {\n",
              "  content: \"▾\";\n",
              "}\n",
              "\n",
              "/* Pipeline/ColumnTransformer-specific style */\n",
              "\n",
              "#sk-container-id-1 div.sk-label input.sk-toggleable__control:checked~label.sk-toggleable__label {\n",
              "  color: var(--sklearn-color-text);\n",
              "  background-color: var(--sklearn-color-unfitted-level-2);\n",
              "}\n",
              "\n",
              "#sk-container-id-1 div.sk-label.fitted input.sk-toggleable__control:checked~label.sk-toggleable__label {\n",
              "  background-color: var(--sklearn-color-fitted-level-2);\n",
              "}\n",
              "\n",
              "/* Estimator-specific style */\n",
              "\n",
              "/* Colorize estimator box */\n",
              "#sk-container-id-1 div.sk-estimator input.sk-toggleable__control:checked~label.sk-toggleable__label {\n",
              "  /* unfitted */\n",
              "  background-color: var(--sklearn-color-unfitted-level-2);\n",
              "}\n",
              "\n",
              "#sk-container-id-1 div.sk-estimator.fitted input.sk-toggleable__control:checked~label.sk-toggleable__label {\n",
              "  /* fitted */\n",
              "  background-color: var(--sklearn-color-fitted-level-2);\n",
              "}\n",
              "\n",
              "#sk-container-id-1 div.sk-label label.sk-toggleable__label,\n",
              "#sk-container-id-1 div.sk-label label {\n",
              "  /* The background is the default theme color */\n",
              "  color: var(--sklearn-color-text-on-default-background);\n",
              "}\n",
              "\n",
              "/* On hover, darken the color of the background */\n",
              "#sk-container-id-1 div.sk-label:hover label.sk-toggleable__label {\n",
              "  color: var(--sklearn-color-text);\n",
              "  background-color: var(--sklearn-color-unfitted-level-2);\n",
              "}\n",
              "\n",
              "/* Label box, darken color on hover, fitted */\n",
              "#sk-container-id-1 div.sk-label.fitted:hover label.sk-toggleable__label.fitted {\n",
              "  color: var(--sklearn-color-text);\n",
              "  background-color: var(--sklearn-color-fitted-level-2);\n",
              "}\n",
              "\n",
              "/* Estimator label */\n",
              "\n",
              "#sk-container-id-1 div.sk-label label {\n",
              "  font-family: monospace;\n",
              "  font-weight: bold;\n",
              "  display: inline-block;\n",
              "  line-height: 1.2em;\n",
              "}\n",
              "\n",
              "#sk-container-id-1 div.sk-label-container {\n",
              "  text-align: center;\n",
              "}\n",
              "\n",
              "/* Estimator-specific */\n",
              "#sk-container-id-1 div.sk-estimator {\n",
              "  font-family: monospace;\n",
              "  border: 1px dotted var(--sklearn-color-border-box);\n",
              "  border-radius: 0.25em;\n",
              "  box-sizing: border-box;\n",
              "  margin-bottom: 0.5em;\n",
              "  /* unfitted */\n",
              "  background-color: var(--sklearn-color-unfitted-level-0);\n",
              "}\n",
              "\n",
              "#sk-container-id-1 div.sk-estimator.fitted {\n",
              "  /* fitted */\n",
              "  background-color: var(--sklearn-color-fitted-level-0);\n",
              "}\n",
              "\n",
              "/* on hover */\n",
              "#sk-container-id-1 div.sk-estimator:hover {\n",
              "  /* unfitted */\n",
              "  background-color: var(--sklearn-color-unfitted-level-2);\n",
              "}\n",
              "\n",
              "#sk-container-id-1 div.sk-estimator.fitted:hover {\n",
              "  /* fitted */\n",
              "  background-color: var(--sklearn-color-fitted-level-2);\n",
              "}\n",
              "\n",
              "/* Specification for estimator info (e.g. \"i\" and \"?\") */\n",
              "\n",
              "/* Common style for \"i\" and \"?\" */\n",
              "\n",
              ".sk-estimator-doc-link,\n",
              "a:link.sk-estimator-doc-link,\n",
              "a:visited.sk-estimator-doc-link {\n",
              "  float: right;\n",
              "  font-size: smaller;\n",
              "  line-height: 1em;\n",
              "  font-family: monospace;\n",
              "  background-color: var(--sklearn-color-background);\n",
              "  border-radius: 1em;\n",
              "  height: 1em;\n",
              "  width: 1em;\n",
              "  text-decoration: none !important;\n",
              "  margin-left: 0.5em;\n",
              "  text-align: center;\n",
              "  /* unfitted */\n",
              "  border: var(--sklearn-color-unfitted-level-1) 1pt solid;\n",
              "  color: var(--sklearn-color-unfitted-level-1);\n",
              "}\n",
              "\n",
              ".sk-estimator-doc-link.fitted,\n",
              "a:link.sk-estimator-doc-link.fitted,\n",
              "a:visited.sk-estimator-doc-link.fitted {\n",
              "  /* fitted */\n",
              "  border: var(--sklearn-color-fitted-level-1) 1pt solid;\n",
              "  color: var(--sklearn-color-fitted-level-1);\n",
              "}\n",
              "\n",
              "/* On hover */\n",
              "div.sk-estimator:hover .sk-estimator-doc-link:hover,\n",
              ".sk-estimator-doc-link:hover,\n",
              "div.sk-label-container:hover .sk-estimator-doc-link:hover,\n",
              ".sk-estimator-doc-link:hover {\n",
              "  /* unfitted */\n",
              "  background-color: var(--sklearn-color-unfitted-level-3);\n",
              "  color: var(--sklearn-color-background);\n",
              "  text-decoration: none;\n",
              "}\n",
              "\n",
              "div.sk-estimator.fitted:hover .sk-estimator-doc-link.fitted:hover,\n",
              ".sk-estimator-doc-link.fitted:hover,\n",
              "div.sk-label-container:hover .sk-estimator-doc-link.fitted:hover,\n",
              ".sk-estimator-doc-link.fitted:hover {\n",
              "  /* fitted */\n",
              "  background-color: var(--sklearn-color-fitted-level-3);\n",
              "  color: var(--sklearn-color-background);\n",
              "  text-decoration: none;\n",
              "}\n",
              "\n",
              "/* Span, style for the box shown on hovering the info icon */\n",
              ".sk-estimator-doc-link span {\n",
              "  display: none;\n",
              "  z-index: 9999;\n",
              "  position: relative;\n",
              "  font-weight: normal;\n",
              "  right: .2ex;\n",
              "  padding: .5ex;\n",
              "  margin: .5ex;\n",
              "  width: min-content;\n",
              "  min-width: 20ex;\n",
              "  max-width: 50ex;\n",
              "  color: var(--sklearn-color-text);\n",
              "  box-shadow: 2pt 2pt 4pt #999;\n",
              "  /* unfitted */\n",
              "  background: var(--sklearn-color-unfitted-level-0);\n",
              "  border: .5pt solid var(--sklearn-color-unfitted-level-3);\n",
              "}\n",
              "\n",
              ".sk-estimator-doc-link.fitted span {\n",
              "  /* fitted */\n",
              "  background: var(--sklearn-color-fitted-level-0);\n",
              "  border: var(--sklearn-color-fitted-level-3);\n",
              "}\n",
              "\n",
              ".sk-estimator-doc-link:hover span {\n",
              "  display: block;\n",
              "}\n",
              "\n",
              "/* \"?\"-specific style due to the `<a>` HTML tag */\n",
              "\n",
              "#sk-container-id-1 a.estimator_doc_link {\n",
              "  float: right;\n",
              "  font-size: 1rem;\n",
              "  line-height: 1em;\n",
              "  font-family: monospace;\n",
              "  background-color: var(--sklearn-color-background);\n",
              "  border-radius: 1rem;\n",
              "  height: 1rem;\n",
              "  width: 1rem;\n",
              "  text-decoration: none;\n",
              "  /* unfitted */\n",
              "  color: var(--sklearn-color-unfitted-level-1);\n",
              "  border: var(--sklearn-color-unfitted-level-1) 1pt solid;\n",
              "}\n",
              "\n",
              "#sk-container-id-1 a.estimator_doc_link.fitted {\n",
              "  /* fitted */\n",
              "  border: var(--sklearn-color-fitted-level-1) 1pt solid;\n",
              "  color: var(--sklearn-color-fitted-level-1);\n",
              "}\n",
              "\n",
              "/* On hover */\n",
              "#sk-container-id-1 a.estimator_doc_link:hover {\n",
              "  /* unfitted */\n",
              "  background-color: var(--sklearn-color-unfitted-level-3);\n",
              "  color: var(--sklearn-color-background);\n",
              "  text-decoration: none;\n",
              "}\n",
              "\n",
              "#sk-container-id-1 a.estimator_doc_link.fitted:hover {\n",
              "  /* fitted */\n",
              "  background-color: var(--sklearn-color-fitted-level-3);\n",
              "}\n",
              "</style><div id=\"sk-container-id-1\" class=\"sk-top-container\"><div class=\"sk-text-repr-fallback\"><pre>GridSearchCV(cv=5, estimator=KNeighborsClassifier(),\n",
              "             param_grid={&#x27;metric&#x27;: [&#x27;euclidean&#x27;, &#x27;manhattan&#x27;],\n",
              "                         &#x27;n_neighbors&#x27;: [1, 2, 3, 4, 5, 6, 7, 8, 9, 10, 11, 12,\n",
              "                                         13, 14, 15],\n",
              "                         &#x27;weights&#x27;: [&#x27;uniform&#x27;, &#x27;distance&#x27;]},\n",
              "             scoring=&#x27;accuracy&#x27;)</pre><b>In a Jupyter environment, please rerun this cell to show the HTML representation or trust the notebook. <br />On GitHub, the HTML representation is unable to render, please try loading this page with nbviewer.org.</b></div><div class=\"sk-container\" hidden><div class=\"sk-item sk-dashed-wrapped\"><div class=\"sk-label-container\"><div class=\"sk-label fitted sk-toggleable\"><input class=\"sk-toggleable__control sk-hidden--visually\" id=\"sk-estimator-id-1\" type=\"checkbox\" ><label for=\"sk-estimator-id-1\" class=\"sk-toggleable__label fitted sk-toggleable__label-arrow\"><div><div>GridSearchCV</div></div><div><a class=\"sk-estimator-doc-link fitted\" rel=\"noreferrer\" target=\"_blank\" href=\"https://scikit-learn.org/1.6/modules/generated/sklearn.model_selection.GridSearchCV.html\">?<span>Documentation for GridSearchCV</span></a><span class=\"sk-estimator-doc-link fitted\">i<span>Fitted</span></span></div></label><div class=\"sk-toggleable__content fitted\"><pre>GridSearchCV(cv=5, estimator=KNeighborsClassifier(),\n",
              "             param_grid={&#x27;metric&#x27;: [&#x27;euclidean&#x27;, &#x27;manhattan&#x27;],\n",
              "                         &#x27;n_neighbors&#x27;: [1, 2, 3, 4, 5, 6, 7, 8, 9, 10, 11, 12,\n",
              "                                         13, 14, 15],\n",
              "                         &#x27;weights&#x27;: [&#x27;uniform&#x27;, &#x27;distance&#x27;]},\n",
              "             scoring=&#x27;accuracy&#x27;)</pre></div> </div></div><div class=\"sk-parallel\"><div class=\"sk-parallel-item\"><div class=\"sk-item\"><div class=\"sk-label-container\"><div class=\"sk-label fitted sk-toggleable\"><input class=\"sk-toggleable__control sk-hidden--visually\" id=\"sk-estimator-id-2\" type=\"checkbox\" ><label for=\"sk-estimator-id-2\" class=\"sk-toggleable__label fitted sk-toggleable__label-arrow\"><div><div>best_estimator_: KNeighborsClassifier</div></div></label><div class=\"sk-toggleable__content fitted\"><pre>KNeighborsClassifier(metric=&#x27;manhattan&#x27;, n_neighbors=15)</pre></div> </div></div><div class=\"sk-serial\"><div class=\"sk-item\"><div class=\"sk-estimator fitted sk-toggleable\"><input class=\"sk-toggleable__control sk-hidden--visually\" id=\"sk-estimator-id-3\" type=\"checkbox\" ><label for=\"sk-estimator-id-3\" class=\"sk-toggleable__label fitted sk-toggleable__label-arrow\"><div><div>KNeighborsClassifier</div></div><div><a class=\"sk-estimator-doc-link fitted\" rel=\"noreferrer\" target=\"_blank\" href=\"https://scikit-learn.org/1.6/modules/generated/sklearn.neighbors.KNeighborsClassifier.html\">?<span>Documentation for KNeighborsClassifier</span></a></div></label><div class=\"sk-toggleable__content fitted\"><pre>KNeighborsClassifier(metric=&#x27;manhattan&#x27;, n_neighbors=15)</pre></div> </div></div></div></div></div></div></div></div></div>"
            ]
          },
          "metadata": {},
          "execution_count": 41
        }
      ]
    },
    {
      "cell_type": "code",
      "source": [
        "# retrieve models\n",
        "best_knn_model = grid_search.best_estimator_\n",
        "best_params = grid_search.best_params_\n",
        "best_score = grid_search.best_score_\n",
        "\n",
        "print(f\"Best parameters: {best_params}\")\n",
        "print(f\"Best cross-validation accuracy: {best_score:.4f}\")"
      ],
      "metadata": {
        "colab": {
          "base_uri": "https://localhost:8080/"
        },
        "id": "rwdje6XwETO6",
        "outputId": "0eff365b-c277-4251-bffc-ce0a183df27d"
      },
      "execution_count": 42,
      "outputs": [
        {
          "output_type": "stream",
          "name": "stdout",
          "text": [
            "Best parameters: {'metric': 'manhattan', 'n_neighbors': 15, 'weights': 'uniform'}\n",
            "Best cross-validation accuracy: 0.7318\n"
          ]
        }
      ]
    },
    {
      "cell_type": "code",
      "source": [
        "#predict and score\n",
        "knn_Y_pred=best_knn_model.predict(knn_X_test)\n",
        "\n",
        "knn_acc = round(accuracy_score(knn_Y_pred,Y_test)*100,2)\n",
        "\n",
        "print(f\"The accuracy score achieved using KNN is: {knn_acc} %\")"
      ],
      "metadata": {
        "colab": {
          "base_uri": "https://localhost:8080/"
        },
        "id": "eBmqhHFs8yxo",
        "outputId": "0e201e5e-5c65-49e0-e3e5-c33b713d5121"
      },
      "execution_count": 43,
      "outputs": [
        {
          "output_type": "stream",
          "name": "stdout",
          "text": [
            "The accuracy score achieved using KNN is: 72.91 %\n"
          ]
        }
      ]
    },
    {
      "cell_type": "code",
      "source": [
        "# we see similar accuracy as logistic regression"
      ],
      "metadata": {
        "id": "NDMT8aVLA0qX"
      },
      "execution_count": 44,
      "outputs": []
    },
    {
      "cell_type": "markdown",
      "source": [
        "3. XGBoost"
      ],
      "metadata": {
        "id": "Mx0_k1x987KB"
      }
    },
    {
      "cell_type": "code",
      "source": [
        "# doesn't need normalization, random state is set so results are consistent\n",
        "xgb_model = xgb.XGBClassifier(objective=\"binary:logistic\", random_state=42)\n",
        "xgb_model.fit(X_train, Y_train)\n",
        "\n",
        "xgb_Y_pred = xgb_model.predict(X_test)"
      ],
      "metadata": {
        "id": "ctbfC7ez866g"
      },
      "execution_count": 45,
      "outputs": []
    },
    {
      "cell_type": "code",
      "source": [
        "xgb_acc = round(accuracy_score(xgb_Y_pred,Y_test)*100,2)\n",
        "\n",
        "print(f\"The accuracy score achieved using XGBoost is: {xgb_acc} %\")"
      ],
      "metadata": {
        "colab": {
          "base_uri": "https://localhost:8080/"
        },
        "id": "PcGzTRMyq0Jv",
        "outputId": "e3455b16-7fa3-4492-917b-cbfc3d00f959"
      },
      "execution_count": 46,
      "outputs": [
        {
          "output_type": "stream",
          "name": "stdout",
          "text": [
            "The accuracy score achieved using XGBoost is: 74.94 %\n"
          ]
        }
      ]
    },
    {
      "cell_type": "code",
      "source": [
        "# still around. 75% acc for these first few models"
      ],
      "metadata": {
        "id": "TKJFHlx5rcV_"
      },
      "execution_count": 47,
      "outputs": []
    },
    {
      "cell_type": "markdown",
      "source": [
        "4. Decision Tree"
      ],
      "metadata": {
        "id": "CKBkbrqQ8yLA"
      }
    },
    {
      "cell_type": "code",
      "source": [
        "dt = DecisionTreeClassifier()\n",
        "dt.fit(X_train,Y_train)\n",
        "dt_Y_pred = dt.predict(X_test)"
      ],
      "metadata": {
        "id": "AyoRZiFD821m"
      },
      "execution_count": 48,
      "outputs": []
    },
    {
      "cell_type": "code",
      "source": [
        "dt_acc = round(accuracy_score(dt_Y_pred,Y_test)*100,2)\n",
        "\n",
        "print(f\"The accuracy score achieved using Decision Tree is: {dt_acc} %\")"
      ],
      "metadata": {
        "colab": {
          "base_uri": "https://localhost:8080/"
        },
        "id": "_Bc0bdFrsKUb",
        "outputId": "1a2055ea-d8f7-42a4-d7a6-6130b3a72257"
      },
      "execution_count": 49,
      "outputs": [
        {
          "output_type": "stream",
          "name": "stdout",
          "text": [
            "The accuracy score achieved using Decision Tree is: 65.94 %\n"
          ]
        }
      ]
    },
    {
      "cell_type": "code",
      "source": [
        "# We see much lower accuracy than the other models, could try to tune hyperparameters\n",
        "# with gridsearch again to see if better results can be found"
      ],
      "metadata": {
        "id": "hEh34bWBsY8Q"
      },
      "execution_count": 51,
      "outputs": []
    },
    {
      "cell_type": "markdown",
      "source": [
        "5. Random Forest"
      ],
      "metadata": {
        "id": "rjxiwt2g83KV"
      }
    },
    {
      "cell_type": "code",
      "source": [
        "rf = RandomForestClassifier()\n",
        "rf.fit(X_train,Y_train)\n",
        "rf_Y_pred = rf.predict(X_test)"
      ],
      "metadata": {
        "id": "xploE7Wi4weh"
      },
      "execution_count": 52,
      "outputs": []
    },
    {
      "cell_type": "code",
      "source": [
        "rf_acc = round(accuracy_score(rf_Y_pred,Y_test)*100,2)\n",
        "\n",
        "print(f\"The accuracy score achieved using Random Forest is: {rf_acc} %\")"
      ],
      "metadata": {
        "colab": {
          "base_uri": "https://localhost:8080/"
        },
        "id": "pRo5P2ERs5n-",
        "outputId": "556048dc-912a-464b-bc70-700f013b9679"
      },
      "execution_count": 53,
      "outputs": [
        {
          "output_type": "stream",
          "name": "stdout",
          "text": [
            "The accuracy score achieved using Random Forest is: 72.85 %\n"
          ]
        }
      ]
    },
    {
      "cell_type": "code",
      "source": [
        "# We see higher acc than jus a single decision tree but results that are still\n",
        "# only on par with the other models"
      ],
      "metadata": {
        "id": "H36MyTcAtC9S"
      },
      "execution_count": 54,
      "outputs": []
    },
    {
      "cell_type": "markdown",
      "source": [
        "6. SVM"
      ],
      "metadata": {
        "id": "sNEsbkaa9Oax"
      }
    },
    {
      "cell_type": "code",
      "source": [
        "sv = svm.SVC(kernel='linear')\n",
        "sv.fit(X_train, Y_train)\n",
        "svm_Y_pred = sv.predict(X_test)"
      ],
      "metadata": {
        "id": "TZrm4hletnuQ"
      },
      "execution_count": 55,
      "outputs": []
    },
    {
      "cell_type": "code",
      "source": [
        "svm_acc = round(accuracy_score(svm_Y_pred,Y_test)*100,2)\n",
        "\n",
        "print(f\"The accuracy score achieved using Linear SVM is: {svm_acc} %\")"
      ],
      "metadata": {
        "colab": {
          "base_uri": "https://localhost:8080/"
        },
        "id": "1XBvUldjuGVU",
        "outputId": "d591d6eb-6e39-47d6-97bc-0b60eb1bccee"
      },
      "execution_count": 56,
      "outputs": [
        {
          "output_type": "stream",
          "name": "stdout",
          "text": [
            "The accuracy score achieved using Linear SVM is: 75.05 %\n"
          ]
        }
      ]
    },
    {
      "cell_type": "code",
      "source": [
        "# similar to other models once again but significantly\n",
        "# longer time to fit model"
      ],
      "metadata": {
        "id": "SZzZOkq1wGl7"
      },
      "execution_count": 57,
      "outputs": []
    },
    {
      "cell_type": "markdown",
      "source": [
        "7. Naive Bayes"
      ],
      "metadata": {
        "id": "cQMwgS5o97Vf"
      }
    },
    {
      "cell_type": "code",
      "source": [
        "# probability based so no normalization needed\n",
        "nb = GaussianNB()\n",
        "nb.fit(X_train,Y_train)\n",
        "\n",
        "nb_Y_pred = nb.predict(X_test)"
      ],
      "metadata": {
        "id": "bmygbyCK96_a"
      },
      "execution_count": 58,
      "outputs": []
    },
    {
      "cell_type": "code",
      "source": [
        "nb_acc = round(accuracy_score(nb_Y_pred,Y_test)*100,2)\n",
        "\n",
        "print(f\"The accuracy score achieved using Naive Bayes is: {nb_acc} %\")"
      ],
      "metadata": {
        "colab": {
          "base_uri": "https://localhost:8080/"
        },
        "id": "6lRD8Odwx40P",
        "outputId": "62d8beba-7b7f-41bd-f60d-f7510557fa92"
      },
      "execution_count": 59,
      "outputs": [
        {
          "output_type": "stream",
          "name": "stdout",
          "text": [
            "The accuracy score achieved using Naive Bayes is: 72.64 %\n"
          ]
        }
      ]
    },
    {
      "cell_type": "markdown",
      "source": [
        "8. Stack (meta: xgboost, ensemble: KNN, RF, LR)"
      ],
      "metadata": {
        "id": "ko-ovpp899FX"
      }
    },
    {
      "cell_type": "code",
      "source": [
        "#chose arbitrarily but tried too make base models diverse and have xgboost as final decision maker\n",
        "\n",
        "# Define base models\n",
        "base_models = [\n",
        "    ('dt', DecisionTreeClassifier()),\n",
        "    ('knn', KNeighborsClassifier()),\n",
        "    ('LR', LogisticRegression())\n",
        "]\n",
        "\n",
        "# Define meta-model\n",
        "meta_model = xgb.XGBClassifier()"
      ],
      "metadata": {
        "id": "eZsrYFZy99j2"
      },
      "execution_count": 60,
      "outputs": []
    },
    {
      "cell_type": "code",
      "source": [
        "# Create and fit the StackingClassifier\n",
        "stacking_clf = StackingClassifier(estimators=base_models, final_estimator=meta_model, cv=5)\n",
        "stacking_clf.fit(X_train, Y_train)"
      ],
      "metadata": {
        "colab": {
          "base_uri": "https://localhost:8080/",
          "height": 1000
        },
        "id": "f-bSTM4f0xib",
        "outputId": "b241116d-726d-42ce-8a4d-9300c380fecf"
      },
      "execution_count": 112,
      "outputs": [
        {
          "output_type": "stream",
          "name": "stderr",
          "text": [
            "/usr/local/lib/python3.12/dist-packages/sklearn/linear_model/_logistic.py:465: ConvergenceWarning: lbfgs failed to converge (status=1):\n",
            "STOP: TOTAL NO. OF ITERATIONS REACHED LIMIT.\n",
            "\n",
            "Increase the number of iterations (max_iter) or scale the data as shown in:\n",
            "    https://scikit-learn.org/stable/modules/preprocessing.html\n",
            "Please also refer to the documentation for alternative solver options:\n",
            "    https://scikit-learn.org/stable/modules/linear_model.html#logistic-regression\n",
            "  n_iter_i = _check_optimize_result(\n",
            "/usr/local/lib/python3.12/dist-packages/sklearn/linear_model/_logistic.py:465: ConvergenceWarning: lbfgs failed to converge (status=1):\n",
            "STOP: TOTAL NO. OF ITERATIONS REACHED LIMIT.\n",
            "\n",
            "Increase the number of iterations (max_iter) or scale the data as shown in:\n",
            "    https://scikit-learn.org/stable/modules/preprocessing.html\n",
            "Please also refer to the documentation for alternative solver options:\n",
            "    https://scikit-learn.org/stable/modules/linear_model.html#logistic-regression\n",
            "  n_iter_i = _check_optimize_result(\n",
            "/usr/local/lib/python3.12/dist-packages/sklearn/linear_model/_logistic.py:465: ConvergenceWarning: lbfgs failed to converge (status=1):\n",
            "STOP: TOTAL NO. OF ITERATIONS REACHED LIMIT.\n",
            "\n",
            "Increase the number of iterations (max_iter) or scale the data as shown in:\n",
            "    https://scikit-learn.org/stable/modules/preprocessing.html\n",
            "Please also refer to the documentation for alternative solver options:\n",
            "    https://scikit-learn.org/stable/modules/linear_model.html#logistic-regression\n",
            "  n_iter_i = _check_optimize_result(\n",
            "/usr/local/lib/python3.12/dist-packages/sklearn/linear_model/_logistic.py:465: ConvergenceWarning: lbfgs failed to converge (status=1):\n",
            "STOP: TOTAL NO. OF ITERATIONS REACHED LIMIT.\n",
            "\n",
            "Increase the number of iterations (max_iter) or scale the data as shown in:\n",
            "    https://scikit-learn.org/stable/modules/preprocessing.html\n",
            "Please also refer to the documentation for alternative solver options:\n",
            "    https://scikit-learn.org/stable/modules/linear_model.html#logistic-regression\n",
            "  n_iter_i = _check_optimize_result(\n",
            "/usr/local/lib/python3.12/dist-packages/sklearn/linear_model/_logistic.py:465: ConvergenceWarning: lbfgs failed to converge (status=1):\n",
            "STOP: TOTAL NO. OF ITERATIONS REACHED LIMIT.\n",
            "\n",
            "Increase the number of iterations (max_iter) or scale the data as shown in:\n",
            "    https://scikit-learn.org/stable/modules/preprocessing.html\n",
            "Please also refer to the documentation for alternative solver options:\n",
            "    https://scikit-learn.org/stable/modules/linear_model.html#logistic-regression\n",
            "  n_iter_i = _check_optimize_result(\n",
            "/usr/local/lib/python3.12/dist-packages/sklearn/linear_model/_logistic.py:465: ConvergenceWarning: lbfgs failed to converge (status=1):\n",
            "STOP: TOTAL NO. OF ITERATIONS REACHED LIMIT.\n",
            "\n",
            "Increase the number of iterations (max_iter) or scale the data as shown in:\n",
            "    https://scikit-learn.org/stable/modules/preprocessing.html\n",
            "Please also refer to the documentation for alternative solver options:\n",
            "    https://scikit-learn.org/stable/modules/linear_model.html#logistic-regression\n",
            "  n_iter_i = _check_optimize_result(\n"
          ]
        },
        {
          "output_type": "execute_result",
          "data": {
            "text/plain": [
              "StackingClassifier(cv=5,\n",
              "                   estimators=[('dt', DecisionTreeClassifier()),\n",
              "                               ('knn', KNeighborsClassifier()),\n",
              "                               ('LR', LogisticRegression())],\n",
              "                   final_estimator=XGBClassifier(base_score=None, booster=None,\n",
              "                                                 callbacks=None,\n",
              "                                                 colsample_bylevel=None,\n",
              "                                                 colsample_bynode=None,\n",
              "                                                 colsample_bytree=None,\n",
              "                                                 device=None,\n",
              "                                                 early_stopping_rounds=None,\n",
              "                                                 enable_categorical=False,\n",
              "                                                 eval_metric=None,...\n",
              "                                                 feature_weights=None,\n",
              "                                                 gamma=None, grow_policy=None,\n",
              "                                                 importance_type=None,\n",
              "                                                 interaction_constraints=None,\n",
              "                                                 learning_rate=None,\n",
              "                                                 max_bin=None,\n",
              "                                                 max_cat_threshold=None,\n",
              "                                                 max_cat_to_onehot=None,\n",
              "                                                 max_delta_step=None,\n",
              "                                                 max_depth=None,\n",
              "                                                 max_leaves=None,\n",
              "                                                 min_child_weight=None,\n",
              "                                                 missing=nan,\n",
              "                                                 monotone_constraints=None,\n",
              "                                                 multi_strategy=None,\n",
              "                                                 n_estimators=None, n_jobs=None,\n",
              "                                                 num_parallel_tree=None, ...))"
            ],
            "text/html": [
              "<style>#sk-container-id-3 {\n",
              "  /* Definition of color scheme common for light and dark mode */\n",
              "  --sklearn-color-text: #000;\n",
              "  --sklearn-color-text-muted: #666;\n",
              "  --sklearn-color-line: gray;\n",
              "  /* Definition of color scheme for unfitted estimators */\n",
              "  --sklearn-color-unfitted-level-0: #fff5e6;\n",
              "  --sklearn-color-unfitted-level-1: #f6e4d2;\n",
              "  --sklearn-color-unfitted-level-2: #ffe0b3;\n",
              "  --sklearn-color-unfitted-level-3: chocolate;\n",
              "  /* Definition of color scheme for fitted estimators */\n",
              "  --sklearn-color-fitted-level-0: #f0f8ff;\n",
              "  --sklearn-color-fitted-level-1: #d4ebff;\n",
              "  --sklearn-color-fitted-level-2: #b3dbfd;\n",
              "  --sklearn-color-fitted-level-3: cornflowerblue;\n",
              "\n",
              "  /* Specific color for light theme */\n",
              "  --sklearn-color-text-on-default-background: var(--sg-text-color, var(--theme-code-foreground, var(--jp-content-font-color1, black)));\n",
              "  --sklearn-color-background: var(--sg-background-color, var(--theme-background, var(--jp-layout-color0, white)));\n",
              "  --sklearn-color-border-box: var(--sg-text-color, var(--theme-code-foreground, var(--jp-content-font-color1, black)));\n",
              "  --sklearn-color-icon: #696969;\n",
              "\n",
              "  @media (prefers-color-scheme: dark) {\n",
              "    /* Redefinition of color scheme for dark theme */\n",
              "    --sklearn-color-text-on-default-background: var(--sg-text-color, var(--theme-code-foreground, var(--jp-content-font-color1, white)));\n",
              "    --sklearn-color-background: var(--sg-background-color, var(--theme-background, var(--jp-layout-color0, #111)));\n",
              "    --sklearn-color-border-box: var(--sg-text-color, var(--theme-code-foreground, var(--jp-content-font-color1, white)));\n",
              "    --sklearn-color-icon: #878787;\n",
              "  }\n",
              "}\n",
              "\n",
              "#sk-container-id-3 {\n",
              "  color: var(--sklearn-color-text);\n",
              "}\n",
              "\n",
              "#sk-container-id-3 pre {\n",
              "  padding: 0;\n",
              "}\n",
              "\n",
              "#sk-container-id-3 input.sk-hidden--visually {\n",
              "  border: 0;\n",
              "  clip: rect(1px 1px 1px 1px);\n",
              "  clip: rect(1px, 1px, 1px, 1px);\n",
              "  height: 1px;\n",
              "  margin: -1px;\n",
              "  overflow: hidden;\n",
              "  padding: 0;\n",
              "  position: absolute;\n",
              "  width: 1px;\n",
              "}\n",
              "\n",
              "#sk-container-id-3 div.sk-dashed-wrapped {\n",
              "  border: 1px dashed var(--sklearn-color-line);\n",
              "  margin: 0 0.4em 0.5em 0.4em;\n",
              "  box-sizing: border-box;\n",
              "  padding-bottom: 0.4em;\n",
              "  background-color: var(--sklearn-color-background);\n",
              "}\n",
              "\n",
              "#sk-container-id-3 div.sk-container {\n",
              "  /* jupyter's `normalize.less` sets `[hidden] { display: none; }`\n",
              "     but bootstrap.min.css set `[hidden] { display: none !important; }`\n",
              "     so we also need the `!important` here to be able to override the\n",
              "     default hidden behavior on the sphinx rendered scikit-learn.org.\n",
              "     See: https://github.com/scikit-learn/scikit-learn/issues/21755 */\n",
              "  display: inline-block !important;\n",
              "  position: relative;\n",
              "}\n",
              "\n",
              "#sk-container-id-3 div.sk-text-repr-fallback {\n",
              "  display: none;\n",
              "}\n",
              "\n",
              "div.sk-parallel-item,\n",
              "div.sk-serial,\n",
              "div.sk-item {\n",
              "  /* draw centered vertical line to link estimators */\n",
              "  background-image: linear-gradient(var(--sklearn-color-text-on-default-background), var(--sklearn-color-text-on-default-background));\n",
              "  background-size: 2px 100%;\n",
              "  background-repeat: no-repeat;\n",
              "  background-position: center center;\n",
              "}\n",
              "\n",
              "/* Parallel-specific style estimator block */\n",
              "\n",
              "#sk-container-id-3 div.sk-parallel-item::after {\n",
              "  content: \"\";\n",
              "  width: 100%;\n",
              "  border-bottom: 2px solid var(--sklearn-color-text-on-default-background);\n",
              "  flex-grow: 1;\n",
              "}\n",
              "\n",
              "#sk-container-id-3 div.sk-parallel {\n",
              "  display: flex;\n",
              "  align-items: stretch;\n",
              "  justify-content: center;\n",
              "  background-color: var(--sklearn-color-background);\n",
              "  position: relative;\n",
              "}\n",
              "\n",
              "#sk-container-id-3 div.sk-parallel-item {\n",
              "  display: flex;\n",
              "  flex-direction: column;\n",
              "}\n",
              "\n",
              "#sk-container-id-3 div.sk-parallel-item:first-child::after {\n",
              "  align-self: flex-end;\n",
              "  width: 50%;\n",
              "}\n",
              "\n",
              "#sk-container-id-3 div.sk-parallel-item:last-child::after {\n",
              "  align-self: flex-start;\n",
              "  width: 50%;\n",
              "}\n",
              "\n",
              "#sk-container-id-3 div.sk-parallel-item:only-child::after {\n",
              "  width: 0;\n",
              "}\n",
              "\n",
              "/* Serial-specific style estimator block */\n",
              "\n",
              "#sk-container-id-3 div.sk-serial {\n",
              "  display: flex;\n",
              "  flex-direction: column;\n",
              "  align-items: center;\n",
              "  background-color: var(--sklearn-color-background);\n",
              "  padding-right: 1em;\n",
              "  padding-left: 1em;\n",
              "}\n",
              "\n",
              "\n",
              "/* Toggleable style: style used for estimator/Pipeline/ColumnTransformer box that is\n",
              "clickable and can be expanded/collapsed.\n",
              "- Pipeline and ColumnTransformer use this feature and define the default style\n",
              "- Estimators will overwrite some part of the style using the `sk-estimator` class\n",
              "*/\n",
              "\n",
              "/* Pipeline and ColumnTransformer style (default) */\n",
              "\n",
              "#sk-container-id-3 div.sk-toggleable {\n",
              "  /* Default theme specific background. It is overwritten whether we have a\n",
              "  specific estimator or a Pipeline/ColumnTransformer */\n",
              "  background-color: var(--sklearn-color-background);\n",
              "}\n",
              "\n",
              "/* Toggleable label */\n",
              "#sk-container-id-3 label.sk-toggleable__label {\n",
              "  cursor: pointer;\n",
              "  display: flex;\n",
              "  width: 100%;\n",
              "  margin-bottom: 0;\n",
              "  padding: 0.5em;\n",
              "  box-sizing: border-box;\n",
              "  text-align: center;\n",
              "  align-items: start;\n",
              "  justify-content: space-between;\n",
              "  gap: 0.5em;\n",
              "}\n",
              "\n",
              "#sk-container-id-3 label.sk-toggleable__label .caption {\n",
              "  font-size: 0.6rem;\n",
              "  font-weight: lighter;\n",
              "  color: var(--sklearn-color-text-muted);\n",
              "}\n",
              "\n",
              "#sk-container-id-3 label.sk-toggleable__label-arrow:before {\n",
              "  /* Arrow on the left of the label */\n",
              "  content: \"▸\";\n",
              "  float: left;\n",
              "  margin-right: 0.25em;\n",
              "  color: var(--sklearn-color-icon);\n",
              "}\n",
              "\n",
              "#sk-container-id-3 label.sk-toggleable__label-arrow:hover:before {\n",
              "  color: var(--sklearn-color-text);\n",
              "}\n",
              "\n",
              "/* Toggleable content - dropdown */\n",
              "\n",
              "#sk-container-id-3 div.sk-toggleable__content {\n",
              "  max-height: 0;\n",
              "  max-width: 0;\n",
              "  overflow: hidden;\n",
              "  text-align: left;\n",
              "  /* unfitted */\n",
              "  background-color: var(--sklearn-color-unfitted-level-0);\n",
              "}\n",
              "\n",
              "#sk-container-id-3 div.sk-toggleable__content.fitted {\n",
              "  /* fitted */\n",
              "  background-color: var(--sklearn-color-fitted-level-0);\n",
              "}\n",
              "\n",
              "#sk-container-id-3 div.sk-toggleable__content pre {\n",
              "  margin: 0.2em;\n",
              "  border-radius: 0.25em;\n",
              "  color: var(--sklearn-color-text);\n",
              "  /* unfitted */\n",
              "  background-color: var(--sklearn-color-unfitted-level-0);\n",
              "}\n",
              "\n",
              "#sk-container-id-3 div.sk-toggleable__content.fitted pre {\n",
              "  /* unfitted */\n",
              "  background-color: var(--sklearn-color-fitted-level-0);\n",
              "}\n",
              "\n",
              "#sk-container-id-3 input.sk-toggleable__control:checked~div.sk-toggleable__content {\n",
              "  /* Expand drop-down */\n",
              "  max-height: 200px;\n",
              "  max-width: 100%;\n",
              "  overflow: auto;\n",
              "}\n",
              "\n",
              "#sk-container-id-3 input.sk-toggleable__control:checked~label.sk-toggleable__label-arrow:before {\n",
              "  content: \"▾\";\n",
              "}\n",
              "\n",
              "/* Pipeline/ColumnTransformer-specific style */\n",
              "\n",
              "#sk-container-id-3 div.sk-label input.sk-toggleable__control:checked~label.sk-toggleable__label {\n",
              "  color: var(--sklearn-color-text);\n",
              "  background-color: var(--sklearn-color-unfitted-level-2);\n",
              "}\n",
              "\n",
              "#sk-container-id-3 div.sk-label.fitted input.sk-toggleable__control:checked~label.sk-toggleable__label {\n",
              "  background-color: var(--sklearn-color-fitted-level-2);\n",
              "}\n",
              "\n",
              "/* Estimator-specific style */\n",
              "\n",
              "/* Colorize estimator box */\n",
              "#sk-container-id-3 div.sk-estimator input.sk-toggleable__control:checked~label.sk-toggleable__label {\n",
              "  /* unfitted */\n",
              "  background-color: var(--sklearn-color-unfitted-level-2);\n",
              "}\n",
              "\n",
              "#sk-container-id-3 div.sk-estimator.fitted input.sk-toggleable__control:checked~label.sk-toggleable__label {\n",
              "  /* fitted */\n",
              "  background-color: var(--sklearn-color-fitted-level-2);\n",
              "}\n",
              "\n",
              "#sk-container-id-3 div.sk-label label.sk-toggleable__label,\n",
              "#sk-container-id-3 div.sk-label label {\n",
              "  /* The background is the default theme color */\n",
              "  color: var(--sklearn-color-text-on-default-background);\n",
              "}\n",
              "\n",
              "/* On hover, darken the color of the background */\n",
              "#sk-container-id-3 div.sk-label:hover label.sk-toggleable__label {\n",
              "  color: var(--sklearn-color-text);\n",
              "  background-color: var(--sklearn-color-unfitted-level-2);\n",
              "}\n",
              "\n",
              "/* Label box, darken color on hover, fitted */\n",
              "#sk-container-id-3 div.sk-label.fitted:hover label.sk-toggleable__label.fitted {\n",
              "  color: var(--sklearn-color-text);\n",
              "  background-color: var(--sklearn-color-fitted-level-2);\n",
              "}\n",
              "\n",
              "/* Estimator label */\n",
              "\n",
              "#sk-container-id-3 div.sk-label label {\n",
              "  font-family: monospace;\n",
              "  font-weight: bold;\n",
              "  display: inline-block;\n",
              "  line-height: 1.2em;\n",
              "}\n",
              "\n",
              "#sk-container-id-3 div.sk-label-container {\n",
              "  text-align: center;\n",
              "}\n",
              "\n",
              "/* Estimator-specific */\n",
              "#sk-container-id-3 div.sk-estimator {\n",
              "  font-family: monospace;\n",
              "  border: 1px dotted var(--sklearn-color-border-box);\n",
              "  border-radius: 0.25em;\n",
              "  box-sizing: border-box;\n",
              "  margin-bottom: 0.5em;\n",
              "  /* unfitted */\n",
              "  background-color: var(--sklearn-color-unfitted-level-0);\n",
              "}\n",
              "\n",
              "#sk-container-id-3 div.sk-estimator.fitted {\n",
              "  /* fitted */\n",
              "  background-color: var(--sklearn-color-fitted-level-0);\n",
              "}\n",
              "\n",
              "/* on hover */\n",
              "#sk-container-id-3 div.sk-estimator:hover {\n",
              "  /* unfitted */\n",
              "  background-color: var(--sklearn-color-unfitted-level-2);\n",
              "}\n",
              "\n",
              "#sk-container-id-3 div.sk-estimator.fitted:hover {\n",
              "  /* fitted */\n",
              "  background-color: var(--sklearn-color-fitted-level-2);\n",
              "}\n",
              "\n",
              "/* Specification for estimator info (e.g. \"i\" and \"?\") */\n",
              "\n",
              "/* Common style for \"i\" and \"?\" */\n",
              "\n",
              ".sk-estimator-doc-link,\n",
              "a:link.sk-estimator-doc-link,\n",
              "a:visited.sk-estimator-doc-link {\n",
              "  float: right;\n",
              "  font-size: smaller;\n",
              "  line-height: 1em;\n",
              "  font-family: monospace;\n",
              "  background-color: var(--sklearn-color-background);\n",
              "  border-radius: 1em;\n",
              "  height: 1em;\n",
              "  width: 1em;\n",
              "  text-decoration: none !important;\n",
              "  margin-left: 0.5em;\n",
              "  text-align: center;\n",
              "  /* unfitted */\n",
              "  border: var(--sklearn-color-unfitted-level-1) 1pt solid;\n",
              "  color: var(--sklearn-color-unfitted-level-1);\n",
              "}\n",
              "\n",
              ".sk-estimator-doc-link.fitted,\n",
              "a:link.sk-estimator-doc-link.fitted,\n",
              "a:visited.sk-estimator-doc-link.fitted {\n",
              "  /* fitted */\n",
              "  border: var(--sklearn-color-fitted-level-1) 1pt solid;\n",
              "  color: var(--sklearn-color-fitted-level-1);\n",
              "}\n",
              "\n",
              "/* On hover */\n",
              "div.sk-estimator:hover .sk-estimator-doc-link:hover,\n",
              ".sk-estimator-doc-link:hover,\n",
              "div.sk-label-container:hover .sk-estimator-doc-link:hover,\n",
              ".sk-estimator-doc-link:hover {\n",
              "  /* unfitted */\n",
              "  background-color: var(--sklearn-color-unfitted-level-3);\n",
              "  color: var(--sklearn-color-background);\n",
              "  text-decoration: none;\n",
              "}\n",
              "\n",
              "div.sk-estimator.fitted:hover .sk-estimator-doc-link.fitted:hover,\n",
              ".sk-estimator-doc-link.fitted:hover,\n",
              "div.sk-label-container:hover .sk-estimator-doc-link.fitted:hover,\n",
              ".sk-estimator-doc-link.fitted:hover {\n",
              "  /* fitted */\n",
              "  background-color: var(--sklearn-color-fitted-level-3);\n",
              "  color: var(--sklearn-color-background);\n",
              "  text-decoration: none;\n",
              "}\n",
              "\n",
              "/* Span, style for the box shown on hovering the info icon */\n",
              ".sk-estimator-doc-link span {\n",
              "  display: none;\n",
              "  z-index: 9999;\n",
              "  position: relative;\n",
              "  font-weight: normal;\n",
              "  right: .2ex;\n",
              "  padding: .5ex;\n",
              "  margin: .5ex;\n",
              "  width: min-content;\n",
              "  min-width: 20ex;\n",
              "  max-width: 50ex;\n",
              "  color: var(--sklearn-color-text);\n",
              "  box-shadow: 2pt 2pt 4pt #999;\n",
              "  /* unfitted */\n",
              "  background: var(--sklearn-color-unfitted-level-0);\n",
              "  border: .5pt solid var(--sklearn-color-unfitted-level-3);\n",
              "}\n",
              "\n",
              ".sk-estimator-doc-link.fitted span {\n",
              "  /* fitted */\n",
              "  background: var(--sklearn-color-fitted-level-0);\n",
              "  border: var(--sklearn-color-fitted-level-3);\n",
              "}\n",
              "\n",
              ".sk-estimator-doc-link:hover span {\n",
              "  display: block;\n",
              "}\n",
              "\n",
              "/* \"?\"-specific style due to the `<a>` HTML tag */\n",
              "\n",
              "#sk-container-id-3 a.estimator_doc_link {\n",
              "  float: right;\n",
              "  font-size: 1rem;\n",
              "  line-height: 1em;\n",
              "  font-family: monospace;\n",
              "  background-color: var(--sklearn-color-background);\n",
              "  border-radius: 1rem;\n",
              "  height: 1rem;\n",
              "  width: 1rem;\n",
              "  text-decoration: none;\n",
              "  /* unfitted */\n",
              "  color: var(--sklearn-color-unfitted-level-1);\n",
              "  border: var(--sklearn-color-unfitted-level-1) 1pt solid;\n",
              "}\n",
              "\n",
              "#sk-container-id-3 a.estimator_doc_link.fitted {\n",
              "  /* fitted */\n",
              "  border: var(--sklearn-color-fitted-level-1) 1pt solid;\n",
              "  color: var(--sklearn-color-fitted-level-1);\n",
              "}\n",
              "\n",
              "/* On hover */\n",
              "#sk-container-id-3 a.estimator_doc_link:hover {\n",
              "  /* unfitted */\n",
              "  background-color: var(--sklearn-color-unfitted-level-3);\n",
              "  color: var(--sklearn-color-background);\n",
              "  text-decoration: none;\n",
              "}\n",
              "\n",
              "#sk-container-id-3 a.estimator_doc_link.fitted:hover {\n",
              "  /* fitted */\n",
              "  background-color: var(--sklearn-color-fitted-level-3);\n",
              "}\n",
              "</style><div id=\"sk-container-id-3\" class=\"sk-top-container\"><div class=\"sk-text-repr-fallback\"><pre>StackingClassifier(cv=5,\n",
              "                   estimators=[(&#x27;dt&#x27;, DecisionTreeClassifier()),\n",
              "                               (&#x27;knn&#x27;, KNeighborsClassifier()),\n",
              "                               (&#x27;LR&#x27;, LogisticRegression())],\n",
              "                   final_estimator=XGBClassifier(base_score=None, booster=None,\n",
              "                                                 callbacks=None,\n",
              "                                                 colsample_bylevel=None,\n",
              "                                                 colsample_bynode=None,\n",
              "                                                 colsample_bytree=None,\n",
              "                                                 device=None,\n",
              "                                                 early_stopping_rounds=None,\n",
              "                                                 enable_categorical=False,\n",
              "                                                 eval_metric=None,...\n",
              "                                                 feature_weights=None,\n",
              "                                                 gamma=None, grow_policy=None,\n",
              "                                                 importance_type=None,\n",
              "                                                 interaction_constraints=None,\n",
              "                                                 learning_rate=None,\n",
              "                                                 max_bin=None,\n",
              "                                                 max_cat_threshold=None,\n",
              "                                                 max_cat_to_onehot=None,\n",
              "                                                 max_delta_step=None,\n",
              "                                                 max_depth=None,\n",
              "                                                 max_leaves=None,\n",
              "                                                 min_child_weight=None,\n",
              "                                                 missing=nan,\n",
              "                                                 monotone_constraints=None,\n",
              "                                                 multi_strategy=None,\n",
              "                                                 n_estimators=None, n_jobs=None,\n",
              "                                                 num_parallel_tree=None, ...))</pre><b>In a Jupyter environment, please rerun this cell to show the HTML representation or trust the notebook. <br />On GitHub, the HTML representation is unable to render, please try loading this page with nbviewer.org.</b></div><div class=\"sk-container\" hidden><div class=\"sk-item sk-dashed-wrapped\"><div class=\"sk-label-container\"><div class=\"sk-label fitted sk-toggleable\"><input class=\"sk-toggleable__control sk-hidden--visually\" id=\"sk-estimator-id-9\" type=\"checkbox\" ><label for=\"sk-estimator-id-9\" class=\"sk-toggleable__label fitted sk-toggleable__label-arrow\"><div><div>StackingClassifier</div></div><div><a class=\"sk-estimator-doc-link fitted\" rel=\"noreferrer\" target=\"_blank\" href=\"https://scikit-learn.org/1.6/modules/generated/sklearn.ensemble.StackingClassifier.html\">?<span>Documentation for StackingClassifier</span></a><span class=\"sk-estimator-doc-link fitted\">i<span>Fitted</span></span></div></label><div class=\"sk-toggleable__content fitted\"><pre>StackingClassifier(cv=5,\n",
              "                   estimators=[(&#x27;dt&#x27;, DecisionTreeClassifier()),\n",
              "                               (&#x27;knn&#x27;, KNeighborsClassifier()),\n",
              "                               (&#x27;LR&#x27;, LogisticRegression())],\n",
              "                   final_estimator=XGBClassifier(base_score=None, booster=None,\n",
              "                                                 callbacks=None,\n",
              "                                                 colsample_bylevel=None,\n",
              "                                                 colsample_bynode=None,\n",
              "                                                 colsample_bytree=None,\n",
              "                                                 device=None,\n",
              "                                                 early_stopping_rounds=None,\n",
              "                                                 enable_categorical=False,\n",
              "                                                 eval_metric=None,...\n",
              "                                                 feature_weights=None,\n",
              "                                                 gamma=None, grow_policy=None,\n",
              "                                                 importance_type=None,\n",
              "                                                 interaction_constraints=None,\n",
              "                                                 learning_rate=None,\n",
              "                                                 max_bin=None,\n",
              "                                                 max_cat_threshold=None,\n",
              "                                                 max_cat_to_onehot=None,\n",
              "                                                 max_delta_step=None,\n",
              "                                                 max_depth=None,\n",
              "                                                 max_leaves=None,\n",
              "                                                 min_child_weight=None,\n",
              "                                                 missing=nan,\n",
              "                                                 monotone_constraints=None,\n",
              "                                                 multi_strategy=None,\n",
              "                                                 n_estimators=None, n_jobs=None,\n",
              "                                                 num_parallel_tree=None, ...))</pre></div> </div></div><div class=\"sk-serial\"><div class=\"sk-item\"><div class=\"sk-parallel\"><div class=\"sk-parallel-item\"><div class=\"sk-item\"><div class=\"sk-label-container\"><div class=\"sk-label fitted sk-toggleable\"><label>dt</label></div></div><div class=\"sk-serial\"><div class=\"sk-item\"><div class=\"sk-estimator fitted sk-toggleable\"><input class=\"sk-toggleable__control sk-hidden--visually\" id=\"sk-estimator-id-10\" type=\"checkbox\" ><label for=\"sk-estimator-id-10\" class=\"sk-toggleable__label fitted sk-toggleable__label-arrow\"><div><div>DecisionTreeClassifier</div></div><div><a class=\"sk-estimator-doc-link fitted\" rel=\"noreferrer\" target=\"_blank\" href=\"https://scikit-learn.org/1.6/modules/generated/sklearn.tree.DecisionTreeClassifier.html\">?<span>Documentation for DecisionTreeClassifier</span></a></div></label><div class=\"sk-toggleable__content fitted\"><pre>DecisionTreeClassifier()</pre></div> </div></div></div></div></div><div class=\"sk-parallel-item\"><div class=\"sk-item\"><div class=\"sk-label-container\"><div class=\"sk-label fitted sk-toggleable\"><label>knn</label></div></div><div class=\"sk-serial\"><div class=\"sk-item\"><div class=\"sk-estimator fitted sk-toggleable\"><input class=\"sk-toggleable__control sk-hidden--visually\" id=\"sk-estimator-id-11\" type=\"checkbox\" ><label for=\"sk-estimator-id-11\" class=\"sk-toggleable__label fitted sk-toggleable__label-arrow\"><div><div>KNeighborsClassifier</div></div><div><a class=\"sk-estimator-doc-link fitted\" rel=\"noreferrer\" target=\"_blank\" href=\"https://scikit-learn.org/1.6/modules/generated/sklearn.neighbors.KNeighborsClassifier.html\">?<span>Documentation for KNeighborsClassifier</span></a></div></label><div class=\"sk-toggleable__content fitted\"><pre>KNeighborsClassifier()</pre></div> </div></div></div></div></div><div class=\"sk-parallel-item\"><div class=\"sk-item\"><div class=\"sk-label-container\"><div class=\"sk-label fitted sk-toggleable\"><label>LR</label></div></div><div class=\"sk-serial\"><div class=\"sk-item\"><div class=\"sk-estimator fitted sk-toggleable\"><input class=\"sk-toggleable__control sk-hidden--visually\" id=\"sk-estimator-id-12\" type=\"checkbox\" ><label for=\"sk-estimator-id-12\" class=\"sk-toggleable__label fitted sk-toggleable__label-arrow\"><div><div>LogisticRegression</div></div><div><a class=\"sk-estimator-doc-link fitted\" rel=\"noreferrer\" target=\"_blank\" href=\"https://scikit-learn.org/1.6/modules/generated/sklearn.linear_model.LogisticRegression.html\">?<span>Documentation for LogisticRegression</span></a></div></label><div class=\"sk-toggleable__content fitted\"><pre>LogisticRegression()</pre></div> </div></div></div></div></div></div></div><div class=\"sk-item\"><div class=\"sk-parallel\"><div class=\"sk-parallel-item\"><div class=\"sk-item\"><div class=\"sk-label-container\"><div class=\"sk-label fitted sk-toggleable\"><label>final_estimator</label></div></div><div class=\"sk-serial\"><div class=\"sk-item\"><div class=\"sk-estimator fitted sk-toggleable\"><input class=\"sk-toggleable__control sk-hidden--visually\" id=\"sk-estimator-id-13\" type=\"checkbox\" ><label for=\"sk-estimator-id-13\" class=\"sk-toggleable__label fitted sk-toggleable__label-arrow\"><div><div>XGBClassifier</div></div><div><a class=\"sk-estimator-doc-link fitted\" rel=\"noreferrer\" target=\"_blank\" href=\"https://xgboost.readthedocs.io/en/release_3.1.0/python/python_api.html#xgboost.XGBClassifier\">?<span>Documentation for XGBClassifier</span></a></div></label><div class=\"sk-toggleable__content fitted\"><pre>XGBClassifier(base_score=None, booster=None, callbacks=None,\n",
              "              colsample_bylevel=None, colsample_bynode=None,\n",
              "              colsample_bytree=None, device=None, early_stopping_rounds=None,\n",
              "              enable_categorical=False, eval_metric=None, feature_types=None,\n",
              "              feature_weights=None, gamma=None, grow_policy=None,\n",
              "              importance_type=None, interaction_constraints=None,\n",
              "              learning_rate=None, max_bin=None, max_cat_threshold=None,\n",
              "              max_cat_to_onehot=None, max_delta_step=None, max_depth=None,\n",
              "              max_leaves=None, min_child_weight=None, missing=nan,\n",
              "              monotone_constraints=None, multi_strategy=None, n_estimators=None,\n",
              "              n_jobs=None, num_parallel_tree=None, ...)</pre></div> </div></div></div></div></div></div></div></div></div></div></div>"
            ]
          },
          "metadata": {},
          "execution_count": 112
        }
      ]
    },
    {
      "cell_type": "code",
      "source": [
        "stack_Y_pred = stacking_clf.predict(X_test)\n",
        "stack_acc = round(accuracy_score(stack_Y_pred,Y_test)*100,2)\n",
        "\n",
        "print(f\"The accuracy score achieved using the Stack Ensemble is: {stack_acc} %\")"
      ],
      "metadata": {
        "colab": {
          "base_uri": "https://localhost:8080/"
        },
        "id": "GJRHGnp61lGc",
        "outputId": "ac6d3031-2b9a-4b80-ef5d-84f59e16384c"
      },
      "execution_count": 113,
      "outputs": [
        {
          "output_type": "stream",
          "name": "stdout",
          "text": [
            "The accuracy score achieved using the Stack Ensemble is: 73.93 %\n"
          ]
        }
      ]
    },
    {
      "cell_type": "code",
      "source": [
        "# we see that the stack performed similarly to other models"
      ],
      "metadata": {
        "id": "PSpK5-YM2iD2"
      },
      "execution_count": 114,
      "outputs": []
    },
    {
      "cell_type": "markdown",
      "source": [
        "9. Neural Network"
      ],
      "metadata": {
        "id": "86lHvw6T21LH"
      }
    },
    {
      "cell_type": "code",
      "source": [
        "model = Sequential()\n",
        "model.add(Dense(15,activation='relu',input_dim=17))\n",
        "model.add(Dense(units=1,activation='sigmoid'))\n",
        "\n",
        "model.compile(loss='binary_crossentropy',optimizer='adam',metrics=['accuracy'])"
      ],
      "metadata": {
        "colab": {
          "base_uri": "https://localhost:8080/"
        },
        "id": "17L5cnTx2z_I",
        "outputId": "292e8c7b-02a5-4f3c-951f-1254e17f83e8"
      },
      "execution_count": 88,
      "outputs": [
        {
          "output_type": "stream",
          "name": "stderr",
          "text": [
            "/usr/local/lib/python3.12/dist-packages/keras/src/layers/core/dense.py:93: UserWarning: Do not pass an `input_shape`/`input_dim` argument to a layer. When using Sequential models, prefer using an `Input(shape)` object as the first layer in the model instead.\n",
            "  super().__init__(activity_regularizer=activity_regularizer, **kwargs)\n"
          ]
        }
      ]
    },
    {
      "cell_type": "code",
      "source": [
        "X_train.shape"
      ],
      "metadata": {
        "colab": {
          "base_uri": "https://localhost:8080/"
        },
        "id": "1w5pUHxP5XL8",
        "outputId": "b8db3474-ea20-495c-e0ac-12d7f9ae9478"
      },
      "execution_count": 89,
      "outputs": [
        {
          "output_type": "execute_result",
          "data": {
            "text/plain": [
              "(49484, 17)"
            ]
          },
          "metadata": {},
          "execution_count": 89
        }
      ]
    },
    {
      "cell_type": "code",
      "source": [
        "model.fit(X_train,Y_train,epochs=300, batch_size=64)"
      ],
      "metadata": {
        "colab": {
          "base_uri": "https://localhost:8080/"
        },
        "id": "qYgKzqVj37rq",
        "outputId": "d23defcf-cca4-4877-95a7-7926904ead0c"
      },
      "execution_count": 99,
      "outputs": [
        {
          "output_type": "stream",
          "name": "stdout",
          "text": [
            "Epoch 1/300\n",
            "\u001b[1m774/774\u001b[0m \u001b[32m━━━━━━━━━━━━━━━━━━━━\u001b[0m\u001b[37m\u001b[0m \u001b[1m6s\u001b[0m 7ms/step - accuracy: 0.5471 - loss: 28.6570\n",
            "Epoch 2/300\n",
            "\u001b[1m774/774\u001b[0m \u001b[32m━━━━━━━━━━━━━━━━━━━━\u001b[0m\u001b[37m\u001b[0m \u001b[1m3s\u001b[0m 3ms/step - accuracy: 0.5950 - loss: 0.7396\n",
            "Epoch 3/300\n",
            "\u001b[1m774/774\u001b[0m \u001b[32m━━━━━━━━━━━━━━━━━━━━\u001b[0m\u001b[37m\u001b[0m \u001b[1m3s\u001b[0m 4ms/step - accuracy: 0.6076 - loss: 0.6850\n",
            "Epoch 4/300\n",
            "\u001b[1m774/774\u001b[0m \u001b[32m━━━━━━━━━━━━━━━━━━━━\u001b[0m\u001b[37m\u001b[0m \u001b[1m4s\u001b[0m 3ms/step - accuracy: 0.6223 - loss: 0.6641\n",
            "Epoch 5/300\n",
            "\u001b[1m774/774\u001b[0m \u001b[32m━━━━━━━━━━━━━━━━━━━━\u001b[0m\u001b[37m\u001b[0m \u001b[1m2s\u001b[0m 2ms/step - accuracy: 0.6447 - loss: 0.6501\n",
            "Epoch 6/300\n",
            "\u001b[1m774/774\u001b[0m \u001b[32m━━━━━━━━━━━━━━━━━━━━\u001b[0m\u001b[37m\u001b[0m \u001b[1m2s\u001b[0m 2ms/step - accuracy: 0.6608 - loss: 0.6325\n",
            "Epoch 7/300\n",
            "\u001b[1m774/774\u001b[0m \u001b[32m━━━━━━━━━━━━━━━━━━━━\u001b[0m\u001b[37m\u001b[0m \u001b[1m2s\u001b[0m 2ms/step - accuracy: 0.6772 - loss: 0.6163\n",
            "Epoch 8/300\n",
            "\u001b[1m774/774\u001b[0m \u001b[32m━━━━━━━━━━━━━━━━━━━━\u001b[0m\u001b[37m\u001b[0m \u001b[1m2s\u001b[0m 2ms/step - accuracy: 0.7004 - loss: 0.5940\n",
            "Epoch 9/300\n",
            "\u001b[1m774/774\u001b[0m \u001b[32m━━━━━━━━━━━━━━━━━━━━\u001b[0m\u001b[37m\u001b[0m \u001b[1m2s\u001b[0m 2ms/step - accuracy: 0.7134 - loss: 0.5723\n",
            "Epoch 10/300\n",
            "\u001b[1m774/774\u001b[0m \u001b[32m━━━━━━━━━━━━━━━━━━━━\u001b[0m\u001b[37m\u001b[0m \u001b[1m3s\u001b[0m 3ms/step - accuracy: 0.7240 - loss: 0.5522\n",
            "Epoch 11/300\n",
            "\u001b[1m774/774\u001b[0m \u001b[32m━━━━━━━━━━━━━━━━━━━━\u001b[0m\u001b[37m\u001b[0m \u001b[1m2s\u001b[0m 3ms/step - accuracy: 0.7290 - loss: 0.5431\n",
            "Epoch 12/300\n",
            "\u001b[1m774/774\u001b[0m \u001b[32m━━━━━━━━━━━━━━━━━━━━\u001b[0m\u001b[37m\u001b[0m \u001b[1m2s\u001b[0m 2ms/step - accuracy: 0.7327 - loss: 0.5361\n",
            "Epoch 13/300\n",
            "\u001b[1m774/774\u001b[0m \u001b[32m━━━━━━━━━━━━━━━━━━━━\u001b[0m\u001b[37m\u001b[0m \u001b[1m3s\u001b[0m 2ms/step - accuracy: 0.7356 - loss: 0.5299\n",
            "Epoch 14/300\n",
            "\u001b[1m774/774\u001b[0m \u001b[32m━━━━━━━━━━━━━━━━━━━━\u001b[0m\u001b[37m\u001b[0m \u001b[1m2s\u001b[0m 2ms/step - accuracy: 0.7382 - loss: 0.5256\n",
            "Epoch 15/300\n",
            "\u001b[1m774/774\u001b[0m \u001b[32m━━━━━━━━━━━━━━━━━━━━\u001b[0m\u001b[37m\u001b[0m \u001b[1m2s\u001b[0m 2ms/step - accuracy: 0.7391 - loss: 0.5260\n",
            "Epoch 16/300\n",
            "\u001b[1m774/774\u001b[0m \u001b[32m━━━━━━━━━━━━━━━━━━━━\u001b[0m\u001b[37m\u001b[0m \u001b[1m2s\u001b[0m 3ms/step - accuracy: 0.7412 - loss: 0.5217\n",
            "Epoch 17/300\n",
            "\u001b[1m774/774\u001b[0m \u001b[32m━━━━━━━━━━━━━━━━━━━━\u001b[0m\u001b[37m\u001b[0m \u001b[1m3s\u001b[0m 3ms/step - accuracy: 0.7382 - loss: 0.5276\n",
            "Epoch 18/300\n",
            "\u001b[1m774/774\u001b[0m \u001b[32m━━━━━━━━━━━━━━━━━━━━\u001b[0m\u001b[37m\u001b[0m \u001b[1m4s\u001b[0m 2ms/step - accuracy: 0.7366 - loss: 0.5252\n",
            "Epoch 19/300\n",
            "\u001b[1m774/774\u001b[0m \u001b[32m━━━━━━━━━━━━━━━━━━━━\u001b[0m\u001b[37m\u001b[0m \u001b[1m2s\u001b[0m 2ms/step - accuracy: 0.7405 - loss: 0.5208\n",
            "Epoch 20/300\n",
            "\u001b[1m774/774\u001b[0m \u001b[32m━━━━━━━━━━━━━━━━━━━━\u001b[0m\u001b[37m\u001b[0m \u001b[1m2s\u001b[0m 2ms/step - accuracy: 0.7449 - loss: 0.5154\n",
            "Epoch 21/300\n",
            "\u001b[1m774/774\u001b[0m \u001b[32m━━━━━━━━━━━━━━━━━━━━\u001b[0m\u001b[37m\u001b[0m \u001b[1m2s\u001b[0m 2ms/step - accuracy: 0.7438 - loss: 0.5179\n",
            "Epoch 22/300\n",
            "\u001b[1m774/774\u001b[0m \u001b[32m━━━━━━━━━━━━━━━━━━━━\u001b[0m\u001b[37m\u001b[0m \u001b[1m3s\u001b[0m 3ms/step - accuracy: 0.7454 - loss: 0.5133\n",
            "Epoch 23/300\n",
            "\u001b[1m774/774\u001b[0m \u001b[32m━━━━━━━━━━━━━━━━━━━━\u001b[0m\u001b[37m\u001b[0m \u001b[1m2s\u001b[0m 3ms/step - accuracy: 0.7405 - loss: 0.5193\n",
            "Epoch 24/300\n",
            "\u001b[1m774/774\u001b[0m \u001b[32m━━━━━━━━━━━━━━━━━━━━\u001b[0m\u001b[37m\u001b[0m \u001b[1m2s\u001b[0m 2ms/step - accuracy: 0.7445 - loss: 0.5141\n",
            "Epoch 25/300\n",
            "\u001b[1m774/774\u001b[0m \u001b[32m━━━━━━━━━━━━━━━━━━━━\u001b[0m\u001b[37m\u001b[0m \u001b[1m2s\u001b[0m 2ms/step - accuracy: 0.7472 - loss: 0.5129\n",
            "Epoch 26/300\n",
            "\u001b[1m774/774\u001b[0m \u001b[32m━━━━━━━━━━━━━━━━━━━━\u001b[0m\u001b[37m\u001b[0m \u001b[1m2s\u001b[0m 2ms/step - accuracy: 0.7466 - loss: 0.5135\n",
            "Epoch 27/300\n",
            "\u001b[1m774/774\u001b[0m \u001b[32m━━━━━━━━━━━━━━━━━━━━\u001b[0m\u001b[37m\u001b[0m \u001b[1m2s\u001b[0m 2ms/step - accuracy: 0.7414 - loss: 0.5182\n",
            "Epoch 28/300\n",
            "\u001b[1m774/774\u001b[0m \u001b[32m━━━━━━━━━━━━━━━━━━━━\u001b[0m\u001b[37m\u001b[0m \u001b[1m2s\u001b[0m 3ms/step - accuracy: 0.7439 - loss: 0.5164\n",
            "Epoch 29/300\n",
            "\u001b[1m774/774\u001b[0m \u001b[32m━━━━━━━━━━━━━━━━━━━━\u001b[0m\u001b[37m\u001b[0m \u001b[1m3s\u001b[0m 4ms/step - accuracy: 0.7435 - loss: 0.5138\n",
            "Epoch 30/300\n",
            "\u001b[1m774/774\u001b[0m \u001b[32m━━━━━━━━━━━━━━━━━━━━\u001b[0m\u001b[37m\u001b[0m \u001b[1m2s\u001b[0m 2ms/step - accuracy: 0.7495 - loss: 0.5110\n",
            "Epoch 31/300\n",
            "\u001b[1m774/774\u001b[0m \u001b[32m━━━━━━━━━━━━━━━━━━━━\u001b[0m\u001b[37m\u001b[0m \u001b[1m2s\u001b[0m 2ms/step - accuracy: 0.7437 - loss: 0.5151\n",
            "Epoch 32/300\n",
            "\u001b[1m774/774\u001b[0m \u001b[32m━━━━━━━━━━━━━━━━━━━━\u001b[0m\u001b[37m\u001b[0m \u001b[1m3s\u001b[0m 2ms/step - accuracy: 0.7467 - loss: 0.5137\n",
            "Epoch 33/300\n",
            "\u001b[1m774/774\u001b[0m \u001b[32m━━━━━━━━━━━━━━━━━━━━\u001b[0m\u001b[37m\u001b[0m \u001b[1m2s\u001b[0m 2ms/step - accuracy: 0.7454 - loss: 0.5140\n",
            "Epoch 34/300\n",
            "\u001b[1m774/774\u001b[0m \u001b[32m━━━━━━━━━━━━━━━━━━━━\u001b[0m\u001b[37m\u001b[0m \u001b[1m2s\u001b[0m 2ms/step - accuracy: 0.7466 - loss: 0.5140\n",
            "Epoch 35/300\n",
            "\u001b[1m774/774\u001b[0m \u001b[32m━━━━━━━━━━━━━━━━━━━━\u001b[0m\u001b[37m\u001b[0m \u001b[1m4s\u001b[0m 4ms/step - accuracy: 0.7452 - loss: 0.5114\n",
            "Epoch 36/300\n",
            "\u001b[1m774/774\u001b[0m \u001b[32m━━━━━━━━━━━━━━━━━━━━\u001b[0m\u001b[37m\u001b[0m \u001b[1m2s\u001b[0m 2ms/step - accuracy: 0.7489 - loss: 0.5108\n",
            "Epoch 37/300\n",
            "\u001b[1m774/774\u001b[0m \u001b[32m━━━━━━━━━━━━━━━━━━━━\u001b[0m\u001b[37m\u001b[0m \u001b[1m2s\u001b[0m 2ms/step - accuracy: 0.7479 - loss: 0.5111\n",
            "Epoch 38/300\n",
            "\u001b[1m774/774\u001b[0m \u001b[32m━━━━━━━━━━━━━━━━━━━━\u001b[0m\u001b[37m\u001b[0m \u001b[1m2s\u001b[0m 3ms/step - accuracy: 0.7454 - loss: 0.5113\n",
            "Epoch 39/300\n",
            "\u001b[1m774/774\u001b[0m \u001b[32m━━━━━━━━━━━━━━━━━━━━\u001b[0m\u001b[37m\u001b[0m \u001b[1m2s\u001b[0m 2ms/step - accuracy: 0.7422 - loss: 0.5141\n",
            "Epoch 40/300\n",
            "\u001b[1m774/774\u001b[0m \u001b[32m━━━━━━━━━━━━━━━━━━━━\u001b[0m\u001b[37m\u001b[0m \u001b[1m2s\u001b[0m 2ms/step - accuracy: 0.7433 - loss: 0.5131\n",
            "Epoch 41/300\n",
            "\u001b[1m774/774\u001b[0m \u001b[32m━━━━━━━━━━━━━━━━━━━━\u001b[0m\u001b[37m\u001b[0m \u001b[1m2s\u001b[0m 3ms/step - accuracy: 0.7490 - loss: 0.5109\n",
            "Epoch 42/300\n",
            "\u001b[1m774/774\u001b[0m \u001b[32m━━━━━━━━━━━━━━━━━━━━\u001b[0m\u001b[37m\u001b[0m \u001b[1m3s\u001b[0m 3ms/step - accuracy: 0.7472 - loss: 0.5126\n",
            "Epoch 43/300\n",
            "\u001b[1m774/774\u001b[0m \u001b[32m━━━━━━━━━━━━━━━━━━━━\u001b[0m\u001b[37m\u001b[0m \u001b[1m2s\u001b[0m 2ms/step - accuracy: 0.7459 - loss: 0.5101\n",
            "Epoch 44/300\n",
            "\u001b[1m774/774\u001b[0m \u001b[32m━━━━━━━━━━━━━━━━━━━━\u001b[0m\u001b[37m\u001b[0m \u001b[1m2s\u001b[0m 2ms/step - accuracy: 0.7484 - loss: 0.5091\n",
            "Epoch 45/300\n",
            "\u001b[1m774/774\u001b[0m \u001b[32m━━━━━━━━━━━━━━━━━━━━\u001b[0m\u001b[37m\u001b[0m \u001b[1m2s\u001b[0m 2ms/step - accuracy: 0.7466 - loss: 0.5104\n",
            "Epoch 46/300\n",
            "\u001b[1m774/774\u001b[0m \u001b[32m━━━━━━━━━━━━━━━━━━━━\u001b[0m\u001b[37m\u001b[0m \u001b[1m2s\u001b[0m 2ms/step - accuracy: 0.7430 - loss: 0.5153\n",
            "Epoch 47/300\n",
            "\u001b[1m774/774\u001b[0m \u001b[32m━━━━━━━━━━━━━━━━━━━━\u001b[0m\u001b[37m\u001b[0m \u001b[1m2s\u001b[0m 2ms/step - accuracy: 0.7452 - loss: 0.5108\n",
            "Epoch 48/300\n",
            "\u001b[1m774/774\u001b[0m \u001b[32m━━━━━━━━━━━━━━━━━━━━\u001b[0m\u001b[37m\u001b[0m \u001b[1m3s\u001b[0m 4ms/step - accuracy: 0.7479 - loss: 0.5079\n",
            "Epoch 49/300\n",
            "\u001b[1m774/774\u001b[0m \u001b[32m━━━━━━━━━━━━━━━━━━━━\u001b[0m\u001b[37m\u001b[0m \u001b[1m5s\u001b[0m 3ms/step - accuracy: 0.7472 - loss: 0.5085\n",
            "Epoch 50/300\n",
            "\u001b[1m774/774\u001b[0m \u001b[32m━━━━━━━━━━━━━━━━━━━━\u001b[0m\u001b[37m\u001b[0m \u001b[1m2s\u001b[0m 2ms/step - accuracy: 0.7459 - loss: 0.5103\n",
            "Epoch 51/300\n",
            "\u001b[1m774/774\u001b[0m \u001b[32m━━━━━━━━━━━━━━━━━━━━\u001b[0m\u001b[37m\u001b[0m \u001b[1m2s\u001b[0m 2ms/step - accuracy: 0.7492 - loss: 0.5084\n",
            "Epoch 52/300\n",
            "\u001b[1m774/774\u001b[0m \u001b[32m━━━━━━━━━━━━━━━━━━━━\u001b[0m\u001b[37m\u001b[0m \u001b[1m2s\u001b[0m 2ms/step - accuracy: 0.7481 - loss: 0.5075\n",
            "Epoch 53/300\n",
            "\u001b[1m774/774\u001b[0m \u001b[32m━━━━━━━━━━━━━━━━━━━━\u001b[0m\u001b[37m\u001b[0m \u001b[1m3s\u001b[0m 4ms/step - accuracy: 0.7504 - loss: 0.5072\n",
            "Epoch 54/300\n",
            "\u001b[1m774/774\u001b[0m \u001b[32m━━━━━━━━━━━━━━━━━━━━\u001b[0m\u001b[37m\u001b[0m \u001b[1m2s\u001b[0m 3ms/step - accuracy: 0.7517 - loss: 0.5064\n",
            "Epoch 55/300\n",
            "\u001b[1m774/774\u001b[0m \u001b[32m━━━━━━━━━━━━━━━━━━━━\u001b[0m\u001b[37m\u001b[0m \u001b[1m2s\u001b[0m 2ms/step - accuracy: 0.7460 - loss: 0.5087\n",
            "Epoch 56/300\n",
            "\u001b[1m774/774\u001b[0m \u001b[32m━━━━━━━━━━━━━━━━━━━━\u001b[0m\u001b[37m\u001b[0m \u001b[1m2s\u001b[0m 2ms/step - accuracy: 0.7453 - loss: 0.5120\n",
            "Epoch 57/300\n",
            "\u001b[1m774/774\u001b[0m \u001b[32m━━━━━━━━━━━━━━━━━━━━\u001b[0m\u001b[37m\u001b[0m \u001b[1m2s\u001b[0m 2ms/step - accuracy: 0.7489 - loss: 0.5124\n",
            "Epoch 58/300\n",
            "\u001b[1m774/774\u001b[0m \u001b[32m━━━━━━━━━━━━━━━━━━━━\u001b[0m\u001b[37m\u001b[0m \u001b[1m2s\u001b[0m 2ms/step - accuracy: 0.7446 - loss: 0.5111\n",
            "Epoch 59/300\n",
            "\u001b[1m774/774\u001b[0m \u001b[32m━━━━━━━━━━━━━━━━━━━━\u001b[0m\u001b[37m\u001b[0m \u001b[1m2s\u001b[0m 2ms/step - accuracy: 0.7507 - loss: 0.5050\n",
            "Epoch 60/300\n",
            "\u001b[1m774/774\u001b[0m \u001b[32m━━━━━━━━━━━━━━━━━━━━\u001b[0m\u001b[37m\u001b[0m \u001b[1m3s\u001b[0m 4ms/step - accuracy: 0.7521 - loss: 0.5057\n",
            "Epoch 61/300\n",
            "\u001b[1m774/774\u001b[0m \u001b[32m━━━━━━━━━━━━━━━━━━━━\u001b[0m\u001b[37m\u001b[0m \u001b[1m2s\u001b[0m 2ms/step - accuracy: 0.7480 - loss: 0.5109\n",
            "Epoch 62/300\n",
            "\u001b[1m774/774\u001b[0m \u001b[32m━━━━━━━━━━━━━━━━━━━━\u001b[0m\u001b[37m\u001b[0m \u001b[1m2s\u001b[0m 2ms/step - accuracy: 0.7485 - loss: 0.5072\n",
            "Epoch 63/300\n",
            "\u001b[1m774/774\u001b[0m \u001b[32m━━━━━━━━━━━━━━━━━━━━\u001b[0m\u001b[37m\u001b[0m \u001b[1m2s\u001b[0m 2ms/step - accuracy: 0.7479 - loss: 0.5083\n",
            "Epoch 64/300\n",
            "\u001b[1m774/774\u001b[0m \u001b[32m━━━━━━━━━━━━━━━━━━━━\u001b[0m\u001b[37m\u001b[0m \u001b[1m2s\u001b[0m 2ms/step - accuracy: 0.7489 - loss: 0.5061\n",
            "Epoch 65/300\n",
            "\u001b[1m774/774\u001b[0m \u001b[32m━━━━━━━━━━━━━━━━━━━━\u001b[0m\u001b[37m\u001b[0m \u001b[1m2s\u001b[0m 2ms/step - accuracy: 0.7475 - loss: 0.5083\n",
            "Epoch 66/300\n",
            "\u001b[1m774/774\u001b[0m \u001b[32m━━━━━━━━━━━━━━━━━━━━\u001b[0m\u001b[37m\u001b[0m \u001b[1m4s\u001b[0m 4ms/step - accuracy: 0.7499 - loss: 0.5069\n",
            "Epoch 67/300\n",
            "\u001b[1m774/774\u001b[0m \u001b[32m━━━━━━━━━━━━━━━━━━━━\u001b[0m\u001b[37m\u001b[0m \u001b[1m2s\u001b[0m 3ms/step - accuracy: 0.7495 - loss: 0.5073\n",
            "Epoch 68/300\n",
            "\u001b[1m774/774\u001b[0m \u001b[32m━━━━━━━━━━━━━━━━━━━━\u001b[0m\u001b[37m\u001b[0m \u001b[1m2s\u001b[0m 2ms/step - accuracy: 0.7498 - loss: 0.5065\n",
            "Epoch 69/300\n",
            "\u001b[1m774/774\u001b[0m \u001b[32m━━━━━━━━━━━━━━━━━━━━\u001b[0m\u001b[37m\u001b[0m \u001b[1m2s\u001b[0m 2ms/step - accuracy: 0.7472 - loss: 0.5069\n",
            "Epoch 70/300\n",
            "\u001b[1m774/774\u001b[0m \u001b[32m━━━━━━━━━━━━━━━━━━━━\u001b[0m\u001b[37m\u001b[0m \u001b[1m2s\u001b[0m 2ms/step - accuracy: 0.7432 - loss: 0.5137\n",
            "Epoch 71/300\n",
            "\u001b[1m774/774\u001b[0m \u001b[32m━━━━━━━━━━━━━━━━━━━━\u001b[0m\u001b[37m\u001b[0m \u001b[1m2s\u001b[0m 2ms/step - accuracy: 0.7492 - loss: 0.5054\n",
            "Epoch 72/300\n",
            "\u001b[1m774/774\u001b[0m \u001b[32m━━━━━━━━━━━━━━━━━━━━\u001b[0m\u001b[37m\u001b[0m \u001b[1m2s\u001b[0m 2ms/step - accuracy: 0.7510 - loss: 0.5059\n",
            "Epoch 73/300\n",
            "\u001b[1m774/774\u001b[0m \u001b[32m━━━━━━━━━━━━━━━━━━━━\u001b[0m\u001b[37m\u001b[0m \u001b[1m3s\u001b[0m 4ms/step - accuracy: 0.7465 - loss: 0.5107\n",
            "Epoch 74/300\n",
            "\u001b[1m774/774\u001b[0m \u001b[32m━━━━━━━━━━━━━━━━━━━━\u001b[0m\u001b[37m\u001b[0m \u001b[1m2s\u001b[0m 2ms/step - accuracy: 0.7479 - loss: 0.5083\n",
            "Epoch 75/300\n",
            "\u001b[1m774/774\u001b[0m \u001b[32m━━━━━━━━━━━━━━━━━━━━\u001b[0m\u001b[37m\u001b[0m \u001b[1m2s\u001b[0m 2ms/step - accuracy: 0.7471 - loss: 0.5088\n",
            "Epoch 76/300\n",
            "\u001b[1m774/774\u001b[0m \u001b[32m━━━━━━━━━━━━━━━━━━━━\u001b[0m\u001b[37m\u001b[0m \u001b[1m2s\u001b[0m 2ms/step - accuracy: 0.7486 - loss: 0.5084\n",
            "Epoch 77/300\n",
            "\u001b[1m774/774\u001b[0m \u001b[32m━━━━━━━━━━━━━━━━━━━━\u001b[0m\u001b[37m\u001b[0m \u001b[1m2s\u001b[0m 2ms/step - accuracy: 0.7445 - loss: 0.5091\n",
            "Epoch 78/300\n",
            "\u001b[1m774/774\u001b[0m \u001b[32m━━━━━━━━━━━━━━━━━━━━\u001b[0m\u001b[37m\u001b[0m \u001b[1m2s\u001b[0m 2ms/step - accuracy: 0.7487 - loss: 0.5080\n",
            "Epoch 79/300\n",
            "\u001b[1m774/774\u001b[0m \u001b[32m━━━━━━━━━━━━━━━━━━━━\u001b[0m\u001b[37m\u001b[0m \u001b[1m2s\u001b[0m 2ms/step - accuracy: 0.7494 - loss: 0.5063\n",
            "Epoch 80/300\n",
            "\u001b[1m774/774\u001b[0m \u001b[32m━━━━━━━━━━━━━━━━━━━━\u001b[0m\u001b[37m\u001b[0m \u001b[1m3s\u001b[0m 4ms/step - accuracy: 0.7490 - loss: 0.5087\n",
            "Epoch 81/300\n",
            "\u001b[1m774/774\u001b[0m \u001b[32m━━━━━━━━━━━━━━━━━━━━\u001b[0m\u001b[37m\u001b[0m \u001b[1m4s\u001b[0m 2ms/step - accuracy: 0.7473 - loss: 0.5062\n",
            "Epoch 82/300\n",
            "\u001b[1m774/774\u001b[0m \u001b[32m━━━━━━━━━━━━━━━━━━━━\u001b[0m\u001b[37m\u001b[0m \u001b[1m2s\u001b[0m 2ms/step - accuracy: 0.7500 - loss: 0.5061\n",
            "Epoch 83/300\n",
            "\u001b[1m774/774\u001b[0m \u001b[32m━━━━━━━━━━━━━━━━━━━━\u001b[0m\u001b[37m\u001b[0m \u001b[1m3s\u001b[0m 2ms/step - accuracy: 0.7494 - loss: 0.5090\n",
            "Epoch 84/300\n",
            "\u001b[1m774/774\u001b[0m \u001b[32m━━━━━━━━━━━━━━━━━━━━\u001b[0m\u001b[37m\u001b[0m \u001b[1m2s\u001b[0m 2ms/step - accuracy: 0.7492 - loss: 0.5061\n",
            "Epoch 85/300\n",
            "\u001b[1m774/774\u001b[0m \u001b[32m━━━━━━━━━━━━━━━━━━━━\u001b[0m\u001b[37m\u001b[0m \u001b[1m3s\u001b[0m 4ms/step - accuracy: 0.7538 - loss: 0.5015\n",
            "Epoch 86/300\n",
            "\u001b[1m774/774\u001b[0m \u001b[32m━━━━━━━━━━━━━━━━━━━━\u001b[0m\u001b[37m\u001b[0m \u001b[1m2s\u001b[0m 2ms/step - accuracy: 0.7516 - loss: 0.5044\n",
            "Epoch 87/300\n",
            "\u001b[1m774/774\u001b[0m \u001b[32m━━━━━━━━━━━━━━━━━━━━\u001b[0m\u001b[37m\u001b[0m \u001b[1m2s\u001b[0m 2ms/step - accuracy: 0.7484 - loss: 0.5064\n",
            "Epoch 88/300\n",
            "\u001b[1m774/774\u001b[0m \u001b[32m━━━━━━━━━━━━━━━━━━━━\u001b[0m\u001b[37m\u001b[0m \u001b[1m2s\u001b[0m 2ms/step - accuracy: 0.7521 - loss: 0.5042\n",
            "Epoch 89/300\n",
            "\u001b[1m774/774\u001b[0m \u001b[32m━━━━━━━━━━━━━━━━━━━━\u001b[0m\u001b[37m\u001b[0m \u001b[1m2s\u001b[0m 2ms/step - accuracy: 0.7488 - loss: 0.5064\n",
            "Epoch 90/300\n",
            "\u001b[1m774/774\u001b[0m \u001b[32m━━━━━━━━━━━━━━━━━━━━\u001b[0m\u001b[37m\u001b[0m \u001b[1m2s\u001b[0m 2ms/step - accuracy: 0.7514 - loss: 0.5042\n",
            "Epoch 91/300\n",
            "\u001b[1m774/774\u001b[0m \u001b[32m━━━━━━━━━━━━━━━━━━━━\u001b[0m\u001b[37m\u001b[0m \u001b[1m2s\u001b[0m 3ms/step - accuracy: 0.7462 - loss: 0.5076\n",
            "Epoch 92/300\n",
            "\u001b[1m774/774\u001b[0m \u001b[32m━━━━━━━━━━━━━━━━━━━━\u001b[0m\u001b[37m\u001b[0m \u001b[1m3s\u001b[0m 3ms/step - accuracy: 0.7499 - loss: 0.5034\n",
            "Epoch 93/300\n",
            "\u001b[1m774/774\u001b[0m \u001b[32m━━━━━━━━━━━━━━━━━━━━\u001b[0m\u001b[37m\u001b[0m \u001b[1m2s\u001b[0m 2ms/step - accuracy: 0.7479 - loss: 0.5071\n",
            "Epoch 94/300\n",
            "\u001b[1m774/774\u001b[0m \u001b[32m━━━━━━━━━━━━━━━━━━━━\u001b[0m\u001b[37m\u001b[0m \u001b[1m2s\u001b[0m 2ms/step - accuracy: 0.7515 - loss: 0.5036\n",
            "Epoch 95/300\n",
            "\u001b[1m774/774\u001b[0m \u001b[32m━━━━━━━━━━━━━━━━━━━━\u001b[0m\u001b[37m\u001b[0m \u001b[1m2s\u001b[0m 2ms/step - accuracy: 0.7515 - loss: 0.5058\n",
            "Epoch 96/300\n",
            "\u001b[1m774/774\u001b[0m \u001b[32m━━━━━━━━━━━━━━━━━━━━\u001b[0m\u001b[37m\u001b[0m \u001b[1m2s\u001b[0m 2ms/step - accuracy: 0.7480 - loss: 0.5055\n",
            "Epoch 97/300\n",
            "\u001b[1m774/774\u001b[0m \u001b[32m━━━━━━━━━━━━━━━━━━━━\u001b[0m\u001b[37m\u001b[0m \u001b[1m2s\u001b[0m 2ms/step - accuracy: 0.7492 - loss: 0.5057\n",
            "Epoch 98/300\n",
            "\u001b[1m774/774\u001b[0m \u001b[32m━━━━━━━━━━━━━━━━━━━━\u001b[0m\u001b[37m\u001b[0m \u001b[1m3s\u001b[0m 3ms/step - accuracy: 0.7451 - loss: 0.5111\n",
            "Epoch 99/300\n",
            "\u001b[1m774/774\u001b[0m \u001b[32m━━━━━━━━━━━━━━━━━━━━\u001b[0m\u001b[37m\u001b[0m \u001b[1m2s\u001b[0m 3ms/step - accuracy: 0.7520 - loss: 0.5056\n",
            "Epoch 100/300\n",
            "\u001b[1m774/774\u001b[0m \u001b[32m━━━━━━━━━━━━━━━━━━━━\u001b[0m\u001b[37m\u001b[0m \u001b[1m3s\u001b[0m 3ms/step - accuracy: 0.7512 - loss: 0.5064\n",
            "Epoch 101/300\n",
            "\u001b[1m774/774\u001b[0m \u001b[32m━━━━━━━━━━━━━━━━━━━━\u001b[0m\u001b[37m\u001b[0m \u001b[1m2s\u001b[0m 2ms/step - accuracy: 0.7490 - loss: 0.5067\n",
            "Epoch 102/300\n",
            "\u001b[1m774/774\u001b[0m \u001b[32m━━━━━━━━━━━━━━━━━━━━\u001b[0m\u001b[37m\u001b[0m \u001b[1m2s\u001b[0m 2ms/step - accuracy: 0.7498 - loss: 0.5073\n",
            "Epoch 103/300\n",
            "\u001b[1m774/774\u001b[0m \u001b[32m━━━━━━━━━━━━━━━━━━━━\u001b[0m\u001b[37m\u001b[0m \u001b[1m2s\u001b[0m 2ms/step - accuracy: 0.7510 - loss: 0.5018\n",
            "Epoch 104/300\n",
            "\u001b[1m774/774\u001b[0m \u001b[32m━━━━━━━━━━━━━━━━━━━━\u001b[0m\u001b[37m\u001b[0m \u001b[1m2s\u001b[0m 3ms/step - accuracy: 0.7496 - loss: 0.5056\n",
            "Epoch 105/300\n",
            "\u001b[1m774/774\u001b[0m \u001b[32m━━━━━━━━━━━━━━━━━━━━\u001b[0m\u001b[37m\u001b[0m \u001b[1m3s\u001b[0m 3ms/step - accuracy: 0.7505 - loss: 0.5009\n",
            "Epoch 106/300\n",
            "\u001b[1m774/774\u001b[0m \u001b[32m━━━━━━━━━━━━━━━━━━━━\u001b[0m\u001b[37m\u001b[0m \u001b[1m2s\u001b[0m 2ms/step - accuracy: 0.7465 - loss: 0.5091\n",
            "Epoch 107/300\n",
            "\u001b[1m774/774\u001b[0m \u001b[32m━━━━━━━━━━━━━━━━━━━━\u001b[0m\u001b[37m\u001b[0m \u001b[1m2s\u001b[0m 2ms/step - accuracy: 0.7528 - loss: 0.5046\n",
            "Epoch 108/300\n",
            "\u001b[1m774/774\u001b[0m \u001b[32m━━━━━━━━━━━━━━━━━━━━\u001b[0m\u001b[37m\u001b[0m \u001b[1m2s\u001b[0m 2ms/step - accuracy: 0.7530 - loss: 0.5023\n",
            "Epoch 109/300\n",
            "\u001b[1m774/774\u001b[0m \u001b[32m━━━━━━━━━━━━━━━━━━━━\u001b[0m\u001b[37m\u001b[0m \u001b[1m2s\u001b[0m 2ms/step - accuracy: 0.7484 - loss: 0.5092\n",
            "Epoch 110/300\n",
            "\u001b[1m774/774\u001b[0m \u001b[32m━━━━━━━━━━━━━━━━━━━━\u001b[0m\u001b[37m\u001b[0m \u001b[1m2s\u001b[0m 2ms/step - accuracy: 0.7513 - loss: 0.5035\n",
            "Epoch 111/300\n",
            "\u001b[1m774/774\u001b[0m \u001b[32m━━━━━━━━━━━━━━━━━━━━\u001b[0m\u001b[37m\u001b[0m \u001b[1m4s\u001b[0m 4ms/step - accuracy: 0.7491 - loss: 0.5052\n",
            "Epoch 112/300\n",
            "\u001b[1m774/774\u001b[0m \u001b[32m━━━━━━━━━━━━━━━━━━━━\u001b[0m\u001b[37m\u001b[0m \u001b[1m2s\u001b[0m 2ms/step - accuracy: 0.7501 - loss: 0.5069\n",
            "Epoch 113/300\n",
            "\u001b[1m774/774\u001b[0m \u001b[32m━━━━━━━━━━━━━━━━━━━━\u001b[0m\u001b[37m\u001b[0m \u001b[1m2s\u001b[0m 2ms/step - accuracy: 0.7519 - loss: 0.5041\n",
            "Epoch 114/300\n",
            "\u001b[1m774/774\u001b[0m \u001b[32m━━━━━━━━━━━━━━━━━━━━\u001b[0m\u001b[37m\u001b[0m \u001b[1m2s\u001b[0m 2ms/step - accuracy: 0.7519 - loss: 0.5048\n",
            "Epoch 115/300\n",
            "\u001b[1m774/774\u001b[0m \u001b[32m━━━━━━━━━━━━━━━━━━━━\u001b[0m\u001b[37m\u001b[0m \u001b[1m2s\u001b[0m 2ms/step - accuracy: 0.7502 - loss: 0.5052\n",
            "Epoch 116/300\n",
            "\u001b[1m774/774\u001b[0m \u001b[32m━━━━━━━━━━━━━━━━━━━━\u001b[0m\u001b[37m\u001b[0m \u001b[1m2s\u001b[0m 2ms/step - accuracy: 0.7511 - loss: 0.5061\n",
            "Epoch 117/300\n",
            "\u001b[1m774/774\u001b[0m \u001b[32m━━━━━━━━━━━━━━━━━━━━\u001b[0m\u001b[37m\u001b[0m \u001b[1m4s\u001b[0m 4ms/step - accuracy: 0.7489 - loss: 0.5060\n",
            "Epoch 118/300\n",
            "\u001b[1m774/774\u001b[0m \u001b[32m━━━━━━━━━━━━━━━━━━━━\u001b[0m\u001b[37m\u001b[0m \u001b[1m2s\u001b[0m 2ms/step - accuracy: 0.7511 - loss: 0.5035\n",
            "Epoch 119/300\n",
            "\u001b[1m774/774\u001b[0m \u001b[32m━━━━━━━━━━━━━━━━━━━━\u001b[0m\u001b[37m\u001b[0m \u001b[1m2s\u001b[0m 2ms/step - accuracy: 0.7521 - loss: 0.5029\n",
            "Epoch 120/300\n",
            "\u001b[1m774/774\u001b[0m \u001b[32m━━━━━━━━━━━━━━━━━━━━\u001b[0m\u001b[37m\u001b[0m \u001b[1m2s\u001b[0m 2ms/step - accuracy: 0.7489 - loss: 0.5067\n",
            "Epoch 121/300\n",
            "\u001b[1m774/774\u001b[0m \u001b[32m━━━━━━━━━━━━━━━━━━━━\u001b[0m\u001b[37m\u001b[0m \u001b[1m2s\u001b[0m 2ms/step - accuracy: 0.7502 - loss: 0.5049\n",
            "Epoch 122/300\n",
            "\u001b[1m774/774\u001b[0m \u001b[32m━━━━━━━━━━━━━━━━━━━━\u001b[0m\u001b[37m\u001b[0m \u001b[1m2s\u001b[0m 2ms/step - accuracy: 0.7474 - loss: 0.5065\n",
            "Epoch 123/300\n",
            "\u001b[1m774/774\u001b[0m \u001b[32m━━━━━━━━━━━━━━━━━━━━\u001b[0m\u001b[37m\u001b[0m \u001b[1m3s\u001b[0m 3ms/step - accuracy: 0.7496 - loss: 0.5092\n",
            "Epoch 124/300\n",
            "\u001b[1m774/774\u001b[0m \u001b[32m━━━━━━━━━━━━━━━━━━━━\u001b[0m\u001b[37m\u001b[0m \u001b[1m2s\u001b[0m 3ms/step - accuracy: 0.7476 - loss: 0.5093\n",
            "Epoch 125/300\n",
            "\u001b[1m774/774\u001b[0m \u001b[32m━━━━━━━━━━━━━━━━━━━━\u001b[0m\u001b[37m\u001b[0m \u001b[1m2s\u001b[0m 2ms/step - accuracy: 0.7504 - loss: 0.5047\n",
            "Epoch 126/300\n",
            "\u001b[1m774/774\u001b[0m \u001b[32m━━━━━━━━━━━━━━━━━━━━\u001b[0m\u001b[37m\u001b[0m \u001b[1m3s\u001b[0m 2ms/step - accuracy: 0.7535 - loss: 0.5015\n",
            "Epoch 127/300\n",
            "\u001b[1m774/774\u001b[0m \u001b[32m━━━━━━━━━━━━━━━━━━━━\u001b[0m\u001b[37m\u001b[0m \u001b[1m2s\u001b[0m 2ms/step - accuracy: 0.7475 - loss: 0.5070\n",
            "Epoch 128/300\n",
            "\u001b[1m774/774\u001b[0m \u001b[32m━━━━━━━━━━━━━━━━━━━━\u001b[0m\u001b[37m\u001b[0m \u001b[1m2s\u001b[0m 2ms/step - accuracy: 0.7498 - loss: 0.5071\n",
            "Epoch 129/300\n",
            "\u001b[1m774/774\u001b[0m \u001b[32m━━━━━━━━━━━━━━━━━━━━\u001b[0m\u001b[37m\u001b[0m \u001b[1m2s\u001b[0m 3ms/step - accuracy: 0.7528 - loss: 0.5032\n",
            "Epoch 130/300\n",
            "\u001b[1m774/774\u001b[0m \u001b[32m━━━━━━━━━━━━━━━━━━━━\u001b[0m\u001b[37m\u001b[0m \u001b[1m3s\u001b[0m 3ms/step - accuracy: 0.7485 - loss: 0.5076\n",
            "Epoch 131/300\n",
            "\u001b[1m774/774\u001b[0m \u001b[32m━━━━━━━━━━━━━━━━━━━━\u001b[0m\u001b[37m\u001b[0m \u001b[1m2s\u001b[0m 2ms/step - accuracy: 0.7488 - loss: 0.5078\n",
            "Epoch 132/300\n",
            "\u001b[1m774/774\u001b[0m \u001b[32m━━━━━━━━━━━━━━━━━━━━\u001b[0m\u001b[37m\u001b[0m \u001b[1m2s\u001b[0m 2ms/step - accuracy: 0.7514 - loss: 0.5058\n",
            "Epoch 133/300\n",
            "\u001b[1m774/774\u001b[0m \u001b[32m━━━━━━━━━━━━━━━━━━━━\u001b[0m\u001b[37m\u001b[0m \u001b[1m2s\u001b[0m 2ms/step - accuracy: 0.7498 - loss: 0.5042\n",
            "Epoch 134/300\n",
            "\u001b[1m774/774\u001b[0m \u001b[32m━━━━━━━━━━━━━━━━━━━━\u001b[0m\u001b[37m\u001b[0m \u001b[1m2s\u001b[0m 2ms/step - accuracy: 0.7511 - loss: 0.5045\n",
            "Epoch 135/300\n",
            "\u001b[1m774/774\u001b[0m \u001b[32m━━━━━━━━━━━━━━━━━━━━\u001b[0m\u001b[37m\u001b[0m \u001b[1m2s\u001b[0m 2ms/step - accuracy: 0.7519 - loss: 0.5051\n",
            "Epoch 136/300\n",
            "\u001b[1m774/774\u001b[0m \u001b[32m━━━━━━━━━━━━━━━━━━━━\u001b[0m\u001b[37m\u001b[0m \u001b[1m2s\u001b[0m 3ms/step - accuracy: 0.7513 - loss: 0.5022\n",
            "Epoch 137/300\n",
            "\u001b[1m774/774\u001b[0m \u001b[32m━━━━━━━━━━━━━━━━━━━━\u001b[0m\u001b[37m\u001b[0m \u001b[1m3s\u001b[0m 3ms/step - accuracy: 0.7464 - loss: 0.5104\n",
            "Epoch 138/300\n",
            "\u001b[1m774/774\u001b[0m \u001b[32m━━━━━━━━━━━━━━━━━━━━\u001b[0m\u001b[37m\u001b[0m \u001b[1m2s\u001b[0m 2ms/step - accuracy: 0.7485 - loss: 0.5067\n",
            "Epoch 139/300\n",
            "\u001b[1m774/774\u001b[0m \u001b[32m━━━━━━━━━━━━━━━━━━━━\u001b[0m\u001b[37m\u001b[0m \u001b[1m2s\u001b[0m 2ms/step - accuracy: 0.7493 - loss: 0.5044\n",
            "Epoch 140/300\n",
            "\u001b[1m774/774\u001b[0m \u001b[32m━━━━━━━━━━━━━━━━━━━━\u001b[0m\u001b[37m\u001b[0m \u001b[1m2s\u001b[0m 2ms/step - accuracy: 0.7510 - loss: 0.5066\n",
            "Epoch 141/300\n",
            "\u001b[1m774/774\u001b[0m \u001b[32m━━━━━━━━━━━━━━━━━━━━\u001b[0m\u001b[37m\u001b[0m \u001b[1m2s\u001b[0m 2ms/step - accuracy: 0.7499 - loss: 0.5069\n",
            "Epoch 142/300\n",
            "\u001b[1m774/774\u001b[0m \u001b[32m━━━━━━━━━━━━━━━━━━━━\u001b[0m\u001b[37m\u001b[0m \u001b[1m2s\u001b[0m 2ms/step - accuracy: 0.7497 - loss: 0.5037\n",
            "Epoch 143/300\n",
            "\u001b[1m774/774\u001b[0m \u001b[32m━━━━━━━━━━━━━━━━━━━━\u001b[0m\u001b[37m\u001b[0m \u001b[1m3s\u001b[0m 4ms/step - accuracy: 0.7540 - loss: 0.5003\n",
            "Epoch 144/300\n",
            "\u001b[1m774/774\u001b[0m \u001b[32m━━━━━━━━━━━━━━━━━━━━\u001b[0m\u001b[37m\u001b[0m \u001b[1m2s\u001b[0m 3ms/step - accuracy: 0.7509 - loss: 0.5044\n",
            "Epoch 145/300\n",
            "\u001b[1m774/774\u001b[0m \u001b[32m━━━━━━━━━━━━━━━━━━━━\u001b[0m\u001b[37m\u001b[0m \u001b[1m2s\u001b[0m 2ms/step - accuracy: 0.7476 - loss: 0.5060\n",
            "Epoch 146/300\n",
            "\u001b[1m774/774\u001b[0m \u001b[32m━━━━━━━━━━━━━━━━━━━━\u001b[0m\u001b[37m\u001b[0m \u001b[1m2s\u001b[0m 2ms/step - accuracy: 0.7538 - loss: 0.5032\n",
            "Epoch 147/300\n",
            "\u001b[1m774/774\u001b[0m \u001b[32m━━━━━━━━━━━━━━━━━━━━\u001b[0m\u001b[37m\u001b[0m \u001b[1m2s\u001b[0m 2ms/step - accuracy: 0.7513 - loss: 0.5024\n",
            "Epoch 148/300\n",
            "\u001b[1m774/774\u001b[0m \u001b[32m━━━━━━━━━━━━━━━━━━━━\u001b[0m\u001b[37m\u001b[0m \u001b[1m2s\u001b[0m 2ms/step - accuracy: 0.7497 - loss: 0.5065\n",
            "Epoch 149/300\n",
            "\u001b[1m774/774\u001b[0m \u001b[32m━━━━━━━━━━━━━━━━━━━━\u001b[0m\u001b[37m\u001b[0m \u001b[1m2s\u001b[0m 3ms/step - accuracy: 0.7515 - loss: 0.5034\n",
            "Epoch 150/300\n",
            "\u001b[1m774/774\u001b[0m \u001b[32m━━━━━━━━━━━━━━━━━━━━\u001b[0m\u001b[37m\u001b[0m \u001b[1m3s\u001b[0m 3ms/step - accuracy: 0.7482 - loss: 0.5074\n",
            "Epoch 151/300\n",
            "\u001b[1m774/774\u001b[0m \u001b[32m━━━━━━━━━━━━━━━━━━━━\u001b[0m\u001b[37m\u001b[0m \u001b[1m2s\u001b[0m 2ms/step - accuracy: 0.7514 - loss: 0.5032\n",
            "Epoch 152/300\n",
            "\u001b[1m774/774\u001b[0m \u001b[32m━━━━━━━━━━━━━━━━━━━━\u001b[0m\u001b[37m\u001b[0m \u001b[1m2s\u001b[0m 2ms/step - accuracy: 0.7502 - loss: 0.5061\n",
            "Epoch 153/300\n",
            "\u001b[1m774/774\u001b[0m \u001b[32m━━━━━━━━━━━━━━━━━━━━\u001b[0m\u001b[37m\u001b[0m \u001b[1m2s\u001b[0m 2ms/step - accuracy: 0.7519 - loss: 0.5029\n",
            "Epoch 154/300\n",
            "\u001b[1m774/774\u001b[0m \u001b[32m━━━━━━━━━━━━━━━━━━━━\u001b[0m\u001b[37m\u001b[0m \u001b[1m2s\u001b[0m 2ms/step - accuracy: 0.7464 - loss: 0.5094\n",
            "Epoch 155/300\n",
            "\u001b[1m774/774\u001b[0m \u001b[32m━━━━━━━━━━━━━━━━━━━━\u001b[0m\u001b[37m\u001b[0m \u001b[1m2s\u001b[0m 2ms/step - accuracy: 0.7520 - loss: 0.5041\n",
            "Epoch 156/300\n",
            "\u001b[1m774/774\u001b[0m \u001b[32m━━━━━━━━━━━━━━━━━━━━\u001b[0m\u001b[37m\u001b[0m \u001b[1m3s\u001b[0m 3ms/step - accuracy: 0.7508 - loss: 0.5051\n",
            "Epoch 157/300\n",
            "\u001b[1m774/774\u001b[0m \u001b[32m━━━━━━━━━━━━━━━━━━━━\u001b[0m\u001b[37m\u001b[0m \u001b[1m2s\u001b[0m 3ms/step - accuracy: 0.7505 - loss: 0.5056\n",
            "Epoch 158/300\n",
            "\u001b[1m774/774\u001b[0m \u001b[32m━━━━━━━━━━━━━━━━━━━━\u001b[0m\u001b[37m\u001b[0m \u001b[1m2s\u001b[0m 2ms/step - accuracy: 0.7517 - loss: 0.5068\n",
            "Epoch 159/300\n",
            "\u001b[1m774/774\u001b[0m \u001b[32m━━━━━━━━━━━━━━━━━━━━\u001b[0m\u001b[37m\u001b[0m \u001b[1m2s\u001b[0m 2ms/step - accuracy: 0.7509 - loss: 0.5036\n",
            "Epoch 160/300\n",
            "\u001b[1m774/774\u001b[0m \u001b[32m━━━━━━━━━━━━━━━━━━━━\u001b[0m\u001b[37m\u001b[0m \u001b[1m3s\u001b[0m 2ms/step - accuracy: 0.7526 - loss: 0.5050\n",
            "Epoch 161/300\n",
            "\u001b[1m774/774\u001b[0m \u001b[32m━━━━━━━━━━━━━━━━━━━━\u001b[0m\u001b[37m\u001b[0m \u001b[1m2s\u001b[0m 2ms/step - accuracy: 0.7537 - loss: 0.5007\n",
            "Epoch 162/300\n",
            "\u001b[1m774/774\u001b[0m \u001b[32m━━━━━━━━━━━━━━━━━━━━\u001b[0m\u001b[37m\u001b[0m \u001b[1m2s\u001b[0m 3ms/step - accuracy: 0.7507 - loss: 0.5040\n",
            "Epoch 163/300\n",
            "\u001b[1m774/774\u001b[0m \u001b[32m━━━━━━━━━━━━━━━━━━━━\u001b[0m\u001b[37m\u001b[0m \u001b[1m3s\u001b[0m 3ms/step - accuracy: 0.7501 - loss: 0.5052\n",
            "Epoch 164/300\n",
            "\u001b[1m774/774\u001b[0m \u001b[32m━━━━━━━━━━━━━━━━━━━━\u001b[0m\u001b[37m\u001b[0m \u001b[1m4s\u001b[0m 2ms/step - accuracy: 0.7490 - loss: 0.5071\n",
            "Epoch 165/300\n",
            "\u001b[1m774/774\u001b[0m \u001b[32m━━━━━━━━━━━━━━━━━━━━\u001b[0m\u001b[37m\u001b[0m \u001b[1m2s\u001b[0m 2ms/step - accuracy: 0.7503 - loss: 0.5032\n",
            "Epoch 166/300\n",
            "\u001b[1m774/774\u001b[0m \u001b[32m━━━━━━━━━━━━━━━━━━━━\u001b[0m\u001b[37m\u001b[0m \u001b[1m2s\u001b[0m 2ms/step - accuracy: 0.7514 - loss: 0.5043\n",
            "Epoch 167/300\n",
            "\u001b[1m774/774\u001b[0m \u001b[32m━━━━━━━━━━━━━━━━━━━━\u001b[0m\u001b[37m\u001b[0m \u001b[1m3s\u001b[0m 3ms/step - accuracy: 0.7540 - loss: 0.5025\n",
            "Epoch 168/300\n",
            "\u001b[1m774/774\u001b[0m \u001b[32m━━━━━━━━━━━━━━━━━━━━\u001b[0m\u001b[37m\u001b[0m \u001b[1m3s\u001b[0m 3ms/step - accuracy: 0.7512 - loss: 0.5048\n",
            "Epoch 169/300\n",
            "\u001b[1m774/774\u001b[0m \u001b[32m━━━━━━━━━━━━━━━━━━━━\u001b[0m\u001b[37m\u001b[0m \u001b[1m2s\u001b[0m 2ms/step - accuracy: 0.7510 - loss: 0.5028\n",
            "Epoch 170/300\n",
            "\u001b[1m774/774\u001b[0m \u001b[32m━━━━━━━━━━━━━━━━━━━━\u001b[0m\u001b[37m\u001b[0m \u001b[1m2s\u001b[0m 2ms/step - accuracy: 0.7516 - loss: 0.5037\n",
            "Epoch 171/300\n",
            "\u001b[1m774/774\u001b[0m \u001b[32m━━━━━━━━━━━━━━━━━━━━\u001b[0m\u001b[37m\u001b[0m \u001b[1m2s\u001b[0m 2ms/step - accuracy: 0.7495 - loss: 0.5068\n",
            "Epoch 172/300\n",
            "\u001b[1m774/774\u001b[0m \u001b[32m━━━━━━━━━━━━━━━━━━━━\u001b[0m\u001b[37m\u001b[0m \u001b[1m2s\u001b[0m 2ms/step - accuracy: 0.7531 - loss: 0.5031\n",
            "Epoch 173/300\n",
            "\u001b[1m774/774\u001b[0m \u001b[32m━━━━━━━━━━━━━━━━━━━━\u001b[0m\u001b[37m\u001b[0m \u001b[1m2s\u001b[0m 2ms/step - accuracy: 0.7528 - loss: 0.5036\n",
            "Epoch 174/300\n",
            "\u001b[1m774/774\u001b[0m \u001b[32m━━━━━━━━━━━━━━━━━━━━\u001b[0m\u001b[37m\u001b[0m \u001b[1m3s\u001b[0m 4ms/step - accuracy: 0.7531 - loss: 0.5016\n",
            "Epoch 175/300\n",
            "\u001b[1m774/774\u001b[0m \u001b[32m━━━━━━━━━━━━━━━━━━━━\u001b[0m\u001b[37m\u001b[0m \u001b[1m2s\u001b[0m 3ms/step - accuracy: 0.7488 - loss: 0.5069\n",
            "Epoch 176/300\n",
            "\u001b[1m774/774\u001b[0m \u001b[32m━━━━━━━━━━━━━━━━━━━━\u001b[0m\u001b[37m\u001b[0m \u001b[1m2s\u001b[0m 2ms/step - accuracy: 0.7541 - loss: 0.5009\n",
            "Epoch 177/300\n",
            "\u001b[1m774/774\u001b[0m \u001b[32m━━━━━━━━━━━━━━━━━━━━\u001b[0m\u001b[37m\u001b[0m \u001b[1m2s\u001b[0m 2ms/step - accuracy: 0.7510 - loss: 0.5046\n",
            "Epoch 178/300\n",
            "\u001b[1m774/774\u001b[0m \u001b[32m━━━━━━━━━━━━━━━━━━━━\u001b[0m\u001b[37m\u001b[0m \u001b[1m2s\u001b[0m 2ms/step - accuracy: 0.7536 - loss: 0.5017\n",
            "Epoch 179/300\n",
            "\u001b[1m774/774\u001b[0m \u001b[32m━━━━━━━━━━━━━━━━━━━━\u001b[0m\u001b[37m\u001b[0m \u001b[1m3s\u001b[0m 2ms/step - accuracy: 0.7502 - loss: 0.5052\n",
            "Epoch 180/300\n",
            "\u001b[1m774/774\u001b[0m \u001b[32m━━━━━━━━━━━━━━━━━━━━\u001b[0m\u001b[37m\u001b[0m \u001b[1m3s\u001b[0m 3ms/step - accuracy: 0.7485 - loss: 0.5054\n",
            "Epoch 181/300\n",
            "\u001b[1m774/774\u001b[0m \u001b[32m━━━━━━━━━━━━━━━━━━━━\u001b[0m\u001b[37m\u001b[0m \u001b[1m3s\u001b[0m 3ms/step - accuracy: 0.7553 - loss: 0.5017\n",
            "Epoch 182/300\n",
            "\u001b[1m774/774\u001b[0m \u001b[32m━━━━━━━━━━━━━━━━━━━━\u001b[0m\u001b[37m\u001b[0m \u001b[1m2s\u001b[0m 2ms/step - accuracy: 0.7534 - loss: 0.5011\n",
            "Epoch 183/300\n",
            "\u001b[1m774/774\u001b[0m \u001b[32m━━━━━━━━━━━━━━━━━━━━\u001b[0m\u001b[37m\u001b[0m \u001b[1m2s\u001b[0m 2ms/step - accuracy: 0.7508 - loss: 0.5041\n",
            "Epoch 184/300\n",
            "\u001b[1m774/774\u001b[0m \u001b[32m━━━━━━━━━━━━━━━━━━━━\u001b[0m\u001b[37m\u001b[0m \u001b[1m2s\u001b[0m 2ms/step - accuracy: 0.7527 - loss: 0.5023\n",
            "Epoch 185/300\n",
            "\u001b[1m774/774\u001b[0m \u001b[32m━━━━━━━━━━━━━━━━━━━━\u001b[0m\u001b[37m\u001b[0m \u001b[1m2s\u001b[0m 2ms/step - accuracy: 0.7483 - loss: 0.5076\n",
            "Epoch 186/300\n",
            "\u001b[1m774/774\u001b[0m \u001b[32m━━━━━━━━━━━━━━━━━━━━\u001b[0m\u001b[37m\u001b[0m \u001b[1m2s\u001b[0m 2ms/step - accuracy: 0.7529 - loss: 0.5016\n",
            "Epoch 187/300\n",
            "\u001b[1m774/774\u001b[0m \u001b[32m━━━━━━━━━━━━━━━━━━━━\u001b[0m\u001b[37m\u001b[0m \u001b[1m3s\u001b[0m 4ms/step - accuracy: 0.7511 - loss: 0.5025\n",
            "Epoch 188/300\n",
            "\u001b[1m774/774\u001b[0m \u001b[32m━━━━━━━━━━━━━━━━━━━━\u001b[0m\u001b[37m\u001b[0m \u001b[1m2s\u001b[0m 3ms/step - accuracy: 0.7505 - loss: 0.5044\n",
            "Epoch 189/300\n",
            "\u001b[1m774/774\u001b[0m \u001b[32m━━━━━━━━━━━━━━━━━━━━\u001b[0m\u001b[37m\u001b[0m \u001b[1m2s\u001b[0m 2ms/step - accuracy: 0.7531 - loss: 0.5017\n",
            "Epoch 190/300\n",
            "\u001b[1m774/774\u001b[0m \u001b[32m━━━━━━━━━━━━━━━━━━━━\u001b[0m\u001b[37m\u001b[0m \u001b[1m2s\u001b[0m 2ms/step - accuracy: 0.7533 - loss: 0.5031\n",
            "Epoch 191/300\n",
            "\u001b[1m774/774\u001b[0m \u001b[32m━━━━━━━━━━━━━━━━━━━━\u001b[0m\u001b[37m\u001b[0m \u001b[1m2s\u001b[0m 2ms/step - accuracy: 0.7501 - loss: 0.5029\n",
            "Epoch 192/300\n",
            "\u001b[1m774/774\u001b[0m \u001b[32m━━━━━━━━━━━━━━━━━━━━\u001b[0m\u001b[37m\u001b[0m \u001b[1m2s\u001b[0m 2ms/step - accuracy: 0.7543 - loss: 0.5019\n",
            "Epoch 193/300\n",
            "\u001b[1m774/774\u001b[0m \u001b[32m━━━━━━━━━━━━━━━━━━━━\u001b[0m\u001b[37m\u001b[0m \u001b[1m2s\u001b[0m 2ms/step - accuracy: 0.7497 - loss: 0.5086\n",
            "Epoch 194/300\n",
            "\u001b[1m774/774\u001b[0m \u001b[32m━━━━━━━━━━━━━━━━━━━━\u001b[0m\u001b[37m\u001b[0m \u001b[1m3s\u001b[0m 4ms/step - accuracy: 0.7465 - loss: 0.5083\n",
            "Epoch 195/300\n",
            "\u001b[1m774/774\u001b[0m \u001b[32m━━━━━━━━━━━━━━━━━━━━\u001b[0m\u001b[37m\u001b[0m \u001b[1m4s\u001b[0m 2ms/step - accuracy: 0.7540 - loss: 0.5010\n",
            "Epoch 196/300\n",
            "\u001b[1m774/774\u001b[0m \u001b[32m━━━━━━━━━━━━━━━━━━━━\u001b[0m\u001b[37m\u001b[0m \u001b[1m2s\u001b[0m 2ms/step - accuracy: 0.7524 - loss: 0.5039\n",
            "Epoch 197/300\n",
            "\u001b[1m774/774\u001b[0m \u001b[32m━━━━━━━━━━━━━━━━━━━━\u001b[0m\u001b[37m\u001b[0m \u001b[1m3s\u001b[0m 2ms/step - accuracy: 0.7527 - loss: 0.5013\n",
            "Epoch 198/300\n",
            "\u001b[1m774/774\u001b[0m \u001b[32m━━━━━━━━━━━━━━━━━━━━\u001b[0m\u001b[37m\u001b[0m \u001b[1m2s\u001b[0m 3ms/step - accuracy: 0.7521 - loss: 0.5017\n",
            "Epoch 199/300\n",
            "\u001b[1m774/774\u001b[0m \u001b[32m━━━━━━━━━━━━━━━━━━━━\u001b[0m\u001b[37m\u001b[0m \u001b[1m3s\u001b[0m 4ms/step - accuracy: 0.7494 - loss: 0.5076\n",
            "Epoch 200/300\n",
            "\u001b[1m774/774\u001b[0m \u001b[32m━━━━━━━━━━━━━━━━━━━━\u001b[0m\u001b[37m\u001b[0m \u001b[1m2s\u001b[0m 2ms/step - accuracy: 0.7506 - loss: 0.5056\n",
            "Epoch 201/300\n",
            "\u001b[1m774/774\u001b[0m \u001b[32m━━━━━━━━━━━━━━━━━━━━\u001b[0m\u001b[37m\u001b[0m \u001b[1m2s\u001b[0m 2ms/step - accuracy: 0.7495 - loss: 0.5052\n",
            "Epoch 202/300\n",
            "\u001b[1m774/774\u001b[0m \u001b[32m━━━━━━━━━━━━━━━━━━━━\u001b[0m\u001b[37m\u001b[0m \u001b[1m2s\u001b[0m 3ms/step - accuracy: 0.7517 - loss: 0.5032\n",
            "Epoch 203/300\n",
            "\u001b[1m774/774\u001b[0m \u001b[32m━━━━━━━━━━━━━━━━━━━━\u001b[0m\u001b[37m\u001b[0m \u001b[1m2s\u001b[0m 2ms/step - accuracy: 0.7480 - loss: 0.5058\n",
            "Epoch 204/300\n",
            "\u001b[1m774/774\u001b[0m \u001b[32m━━━━━━━━━━━━━━━━━━━━\u001b[0m\u001b[37m\u001b[0m \u001b[1m2s\u001b[0m 2ms/step - accuracy: 0.7533 - loss: 0.5037\n",
            "Epoch 205/300\n",
            "\u001b[1m774/774\u001b[0m \u001b[32m━━━━━━━━━━━━━━━━━━━━\u001b[0m\u001b[37m\u001b[0m \u001b[1m3s\u001b[0m 4ms/step - accuracy: 0.7546 - loss: 0.5025\n",
            "Epoch 206/300\n",
            "\u001b[1m774/774\u001b[0m \u001b[32m━━━━━━━━━━━━━━━━━━━━\u001b[0m\u001b[37m\u001b[0m \u001b[1m2s\u001b[0m 3ms/step - accuracy: 0.7533 - loss: 0.5027\n",
            "Epoch 207/300\n",
            "\u001b[1m774/774\u001b[0m \u001b[32m━━━━━━━━━━━━━━━━━━━━\u001b[0m\u001b[37m\u001b[0m \u001b[1m2s\u001b[0m 3ms/step - accuracy: 0.7508 - loss: 0.5061\n",
            "Epoch 208/300\n",
            "\u001b[1m774/774\u001b[0m \u001b[32m━━━━━━━━━━━━━━━━━━━━\u001b[0m\u001b[37m\u001b[0m \u001b[1m2s\u001b[0m 3ms/step - accuracy: 0.7495 - loss: 0.5079\n",
            "Epoch 209/300\n",
            "\u001b[1m774/774\u001b[0m \u001b[32m━━━━━━━━━━━━━━━━━━━━\u001b[0m\u001b[37m\u001b[0m \u001b[1m2s\u001b[0m 3ms/step - accuracy: 0.7510 - loss: 0.5064\n",
            "Epoch 210/300\n",
            "\u001b[1m774/774\u001b[0m \u001b[32m━━━━━━━━━━━━━━━━━━━━\u001b[0m\u001b[37m\u001b[0m \u001b[1m3s\u001b[0m 3ms/step - accuracy: 0.7503 - loss: 0.5049\n",
            "Epoch 211/300\n",
            "\u001b[1m774/774\u001b[0m \u001b[32m━━━━━━━━━━━━━━━━━━━━\u001b[0m\u001b[37m\u001b[0m \u001b[1m3s\u001b[0m 4ms/step - accuracy: 0.7522 - loss: 0.5016\n",
            "Epoch 212/300\n",
            "\u001b[1m774/774\u001b[0m \u001b[32m━━━━━━━━━━━━━━━━━━━━\u001b[0m\u001b[37m\u001b[0m \u001b[1m4s\u001b[0m 2ms/step - accuracy: 0.7537 - loss: 0.5013\n",
            "Epoch 213/300\n",
            "\u001b[1m774/774\u001b[0m \u001b[32m━━━━━━━━━━━━━━━━━━━━\u001b[0m\u001b[37m\u001b[0m \u001b[1m2s\u001b[0m 2ms/step - accuracy: 0.7506 - loss: 0.5047\n",
            "Epoch 214/300\n",
            "\u001b[1m774/774\u001b[0m \u001b[32m━━━━━━━━━━━━━━━━━━━━\u001b[0m\u001b[37m\u001b[0m \u001b[1m2s\u001b[0m 2ms/step - accuracy: 0.7485 - loss: 0.5078\n",
            "Epoch 215/300\n",
            "\u001b[1m774/774\u001b[0m \u001b[32m━━━━━━━━━━━━━━━━━━━━\u001b[0m\u001b[37m\u001b[0m \u001b[1m2s\u001b[0m 2ms/step - accuracy: 0.7504 - loss: 0.5052\n",
            "Epoch 216/300\n",
            "\u001b[1m774/774\u001b[0m \u001b[32m━━━━━━━━━━━━━━━━━━━━\u001b[0m\u001b[37m\u001b[0m \u001b[1m3s\u001b[0m 3ms/step - accuracy: 0.7544 - loss: 0.5039\n",
            "Epoch 217/300\n",
            "\u001b[1m774/774\u001b[0m \u001b[32m━━━━━━━━━━━━━━━━━━━━\u001b[0m\u001b[37m\u001b[0m \u001b[1m3s\u001b[0m 3ms/step - accuracy: 0.7523 - loss: 0.5025\n",
            "Epoch 218/300\n",
            "\u001b[1m774/774\u001b[0m \u001b[32m━━━━━━━━━━━━━━━━━━━━\u001b[0m\u001b[37m\u001b[0m \u001b[1m2s\u001b[0m 3ms/step - accuracy: 0.7527 - loss: 0.5038\n",
            "Epoch 219/300\n",
            "\u001b[1m774/774\u001b[0m \u001b[32m━━━━━━━━━━━━━━━━━━━━\u001b[0m\u001b[37m\u001b[0m \u001b[1m2s\u001b[0m 2ms/step - accuracy: 0.7516 - loss: 0.5030\n",
            "Epoch 220/300\n",
            "\u001b[1m774/774\u001b[0m \u001b[32m━━━━━━━━━━━━━━━━━━━━\u001b[0m\u001b[37m\u001b[0m \u001b[1m2s\u001b[0m 2ms/step - accuracy: 0.7495 - loss: 0.5050\n",
            "Epoch 221/300\n",
            "\u001b[1m774/774\u001b[0m \u001b[32m━━━━━━━━━━━━━━━━━━━━\u001b[0m\u001b[37m\u001b[0m \u001b[1m2s\u001b[0m 2ms/step - accuracy: 0.7501 - loss: 0.5050\n",
            "Epoch 222/300\n",
            "\u001b[1m774/774\u001b[0m \u001b[32m━━━━━━━━━━━━━━━━━━━━\u001b[0m\u001b[37m\u001b[0m \u001b[1m2s\u001b[0m 3ms/step - accuracy: 0.7509 - loss: 0.5030\n",
            "Epoch 223/300\n",
            "\u001b[1m774/774\u001b[0m \u001b[32m━━━━━━━━━━━━━━━━━━━━\u001b[0m\u001b[37m\u001b[0m \u001b[1m3s\u001b[0m 4ms/step - accuracy: 0.7536 - loss: 0.5002\n",
            "Epoch 224/300\n",
            "\u001b[1m774/774\u001b[0m \u001b[32m━━━━━━━━━━━━━━━━━━━━\u001b[0m\u001b[37m\u001b[0m \u001b[1m2s\u001b[0m 3ms/step - accuracy: 0.7537 - loss: 0.4998\n",
            "Epoch 225/300\n",
            "\u001b[1m774/774\u001b[0m \u001b[32m━━━━━━━━━━━━━━━━━━━━\u001b[0m\u001b[37m\u001b[0m \u001b[1m2s\u001b[0m 3ms/step - accuracy: 0.7536 - loss: 0.5000\n",
            "Epoch 226/300\n",
            "\u001b[1m774/774\u001b[0m \u001b[32m━━━━━━━━━━━━━━━━━━━━\u001b[0m\u001b[37m\u001b[0m \u001b[1m2s\u001b[0m 3ms/step - accuracy: 0.7537 - loss: 0.5020\n",
            "Epoch 227/300\n",
            "\u001b[1m774/774\u001b[0m \u001b[32m━━━━━━━━━━━━━━━━━━━━\u001b[0m\u001b[37m\u001b[0m \u001b[1m2s\u001b[0m 2ms/step - accuracy: 0.7521 - loss: 0.5025\n",
            "Epoch 228/300\n",
            "\u001b[1m774/774\u001b[0m \u001b[32m━━━━━━━━━━━━━━━━━━━━\u001b[0m\u001b[37m\u001b[0m \u001b[1m2s\u001b[0m 2ms/step - accuracy: 0.7520 - loss: 0.5030\n",
            "Epoch 229/300\n",
            "\u001b[1m774/774\u001b[0m \u001b[32m━━━━━━━━━━━━━━━━━━━━\u001b[0m\u001b[37m\u001b[0m \u001b[1m3s\u001b[0m 4ms/step - accuracy: 0.7487 - loss: 0.5060\n",
            "Epoch 230/300\n",
            "\u001b[1m774/774\u001b[0m \u001b[32m━━━━━━━━━━━━━━━━━━━━\u001b[0m\u001b[37m\u001b[0m \u001b[1m2s\u001b[0m 3ms/step - accuracy: 0.7538 - loss: 0.5008\n",
            "Epoch 231/300\n",
            "\u001b[1m774/774\u001b[0m \u001b[32m━━━━━━━━━━━━━━━━━━━━\u001b[0m\u001b[37m\u001b[0m \u001b[1m2s\u001b[0m 2ms/step - accuracy: 0.7514 - loss: 0.5050\n",
            "Epoch 232/300\n",
            "\u001b[1m774/774\u001b[0m \u001b[32m━━━━━━━━━━━━━━━━━━━━\u001b[0m\u001b[37m\u001b[0m \u001b[1m2s\u001b[0m 2ms/step - accuracy: 0.7520 - loss: 0.5046\n",
            "Epoch 233/300\n",
            "\u001b[1m774/774\u001b[0m \u001b[32m━━━━━━━━━━━━━━━━━━━━\u001b[0m\u001b[37m\u001b[0m \u001b[1m2s\u001b[0m 2ms/step - accuracy: 0.7484 - loss: 0.5072\n",
            "Epoch 234/300\n",
            "\u001b[1m774/774\u001b[0m \u001b[32m━━━━━━━━━━━━━━━━━━━━\u001b[0m\u001b[37m\u001b[0m \u001b[1m2s\u001b[0m 2ms/step - accuracy: 0.7549 - loss: 0.4995\n",
            "Epoch 235/300\n",
            "\u001b[1m774/774\u001b[0m \u001b[32m━━━━━━━━━━━━━━━━━━━━\u001b[0m\u001b[37m\u001b[0m \u001b[1m2s\u001b[0m 3ms/step - accuracy: 0.7548 - loss: 0.5000\n",
            "Epoch 236/300\n",
            "\u001b[1m774/774\u001b[0m \u001b[32m━━━━━━━━━━━━━━━━━━━━\u001b[0m\u001b[37m\u001b[0m \u001b[1m3s\u001b[0m 4ms/step - accuracy: 0.7483 - loss: 0.5060\n",
            "Epoch 237/300\n",
            "\u001b[1m774/774\u001b[0m \u001b[32m━━━━━━━━━━━━━━━━━━━━\u001b[0m\u001b[37m\u001b[0m \u001b[1m4s\u001b[0m 2ms/step - accuracy: 0.7522 - loss: 0.5044\n",
            "Epoch 238/300\n",
            "\u001b[1m774/774\u001b[0m \u001b[32m━━━━━━━━━━━━━━━━━━━━\u001b[0m\u001b[37m\u001b[0m \u001b[1m2s\u001b[0m 2ms/step - accuracy: 0.7505 - loss: 0.5057\n",
            "Epoch 239/300\n",
            "\u001b[1m774/774\u001b[0m \u001b[32m━━━━━━━━━━━━━━━━━━━━\u001b[0m\u001b[37m\u001b[0m \u001b[1m2s\u001b[0m 2ms/step - accuracy: 0.7470 - loss: 0.5057\n",
            "Epoch 240/300\n",
            "\u001b[1m774/774\u001b[0m \u001b[32m━━━━━━━━━━━━━━━━━━━━\u001b[0m\u001b[37m\u001b[0m \u001b[1m2s\u001b[0m 2ms/step - accuracy: 0.7462 - loss: 0.5112\n",
            "Epoch 241/300\n",
            "\u001b[1m774/774\u001b[0m \u001b[32m━━━━━━━━━━━━━━━━━━━━\u001b[0m\u001b[37m\u001b[0m \u001b[1m3s\u001b[0m 4ms/step - accuracy: 0.7525 - loss: 0.5033\n",
            "Epoch 242/300\n",
            "\u001b[1m774/774\u001b[0m \u001b[32m━━━━━━━━━━━━━━━━━━━━\u001b[0m\u001b[37m\u001b[0m \u001b[1m2s\u001b[0m 3ms/step - accuracy: 0.7482 - loss: 0.5076\n",
            "Epoch 243/300\n",
            "\u001b[1m774/774\u001b[0m \u001b[32m━━━━━━━━━━━━━━━━━━━━\u001b[0m\u001b[37m\u001b[0m \u001b[1m2s\u001b[0m 2ms/step - accuracy: 0.7507 - loss: 0.5041\n",
            "Epoch 244/300\n",
            "\u001b[1m774/774\u001b[0m \u001b[32m━━━━━━━━━━━━━━━━━━━━\u001b[0m\u001b[37m\u001b[0m \u001b[1m2s\u001b[0m 2ms/step - accuracy: 0.7522 - loss: 0.5029\n",
            "Epoch 245/300\n",
            "\u001b[1m774/774\u001b[0m \u001b[32m━━━━━━━━━━━━━━━━━━━━\u001b[0m\u001b[37m\u001b[0m \u001b[1m2s\u001b[0m 2ms/step - accuracy: 0.7525 - loss: 0.5023\n",
            "Epoch 246/300\n",
            "\u001b[1m774/774\u001b[0m \u001b[32m━━━━━━━━━━━━━━━━━━━━\u001b[0m\u001b[37m\u001b[0m \u001b[1m2s\u001b[0m 3ms/step - accuracy: 0.7490 - loss: 0.5044\n",
            "Epoch 247/300\n",
            "\u001b[1m774/774\u001b[0m \u001b[32m━━━━━━━━━━━━━━━━━━━━\u001b[0m\u001b[37m\u001b[0m \u001b[1m2s\u001b[0m 3ms/step - accuracy: 0.7478 - loss: 0.5094\n",
            "Epoch 248/300\n",
            "\u001b[1m774/774\u001b[0m \u001b[32m━━━━━━━━━━━━━━━━━━━━\u001b[0m\u001b[37m\u001b[0m \u001b[1m3s\u001b[0m 4ms/step - accuracy: 0.7546 - loss: 0.5004\n",
            "Epoch 249/300\n",
            "\u001b[1m774/774\u001b[0m \u001b[32m━━━━━━━━━━━━━━━━━━━━\u001b[0m\u001b[37m\u001b[0m \u001b[1m2s\u001b[0m 2ms/step - accuracy: 0.7530 - loss: 0.5019\n",
            "Epoch 250/300\n",
            "\u001b[1m774/774\u001b[0m \u001b[32m━━━━━━━━━━━━━━━━━━━━\u001b[0m\u001b[37m\u001b[0m \u001b[1m2s\u001b[0m 3ms/step - accuracy: 0.7508 - loss: 0.5032\n",
            "Epoch 251/300\n",
            "\u001b[1m774/774\u001b[0m \u001b[32m━━━━━━━━━━━━━━━━━━━━\u001b[0m\u001b[37m\u001b[0m \u001b[1m2s\u001b[0m 2ms/step - accuracy: 0.7536 - loss: 0.4992\n",
            "Epoch 252/300\n",
            "\u001b[1m774/774\u001b[0m \u001b[32m━━━━━━━━━━━━━━━━━━━━\u001b[0m\u001b[37m\u001b[0m \u001b[1m2s\u001b[0m 3ms/step - accuracy: 0.7561 - loss: 0.4982\n",
            "Epoch 253/300\n",
            "\u001b[1m774/774\u001b[0m \u001b[32m━━━━━━━━━━━━━━━━━━━━\u001b[0m\u001b[37m\u001b[0m \u001b[1m2s\u001b[0m 3ms/step - accuracy: 0.7540 - loss: 0.5006\n",
            "Epoch 254/300\n",
            "\u001b[1m774/774\u001b[0m \u001b[32m━━━━━━━━━━━━━━━━━━━━\u001b[0m\u001b[37m\u001b[0m \u001b[1m3s\u001b[0m 4ms/step - accuracy: 0.7536 - loss: 0.5010\n",
            "Epoch 255/300\n",
            "\u001b[1m774/774\u001b[0m \u001b[32m━━━━━━━━━━━━━━━━━━━━\u001b[0m\u001b[37m\u001b[0m \u001b[1m2s\u001b[0m 3ms/step - accuracy: 0.7552 - loss: 0.4997\n",
            "Epoch 256/300\n",
            "\u001b[1m774/774\u001b[0m \u001b[32m━━━━━━━━━━━━━━━━━━━━\u001b[0m\u001b[37m\u001b[0m \u001b[1m2s\u001b[0m 3ms/step - accuracy: 0.7547 - loss: 0.4992\n",
            "Epoch 257/300\n",
            "\u001b[1m774/774\u001b[0m \u001b[32m━━━━━━━━━━━━━━━━━━━━\u001b[0m\u001b[37m\u001b[0m \u001b[1m2s\u001b[0m 2ms/step - accuracy: 0.7542 - loss: 0.4996\n",
            "Epoch 258/300\n",
            "\u001b[1m774/774\u001b[0m \u001b[32m━━━━━━━━━━━━━━━━━━━━\u001b[0m\u001b[37m\u001b[0m \u001b[1m2s\u001b[0m 2ms/step - accuracy: 0.7513 - loss: 0.5033\n",
            "Epoch 259/300\n",
            "\u001b[1m774/774\u001b[0m \u001b[32m━━━━━━━━━━━━━━━━━━━━\u001b[0m\u001b[37m\u001b[0m \u001b[1m2s\u001b[0m 2ms/step - accuracy: 0.7531 - loss: 0.5018\n",
            "Epoch 260/300\n",
            "\u001b[1m774/774\u001b[0m \u001b[32m━━━━━━━━━━━━━━━━━━━━\u001b[0m\u001b[37m\u001b[0m \u001b[1m5s\u001b[0m 6ms/step - accuracy: 0.7477 - loss: 0.5099\n",
            "Epoch 261/300\n",
            "\u001b[1m774/774\u001b[0m \u001b[32m━━━━━━━━━━━━━━━━━━━━\u001b[0m\u001b[37m\u001b[0m \u001b[1m4s\u001b[0m 5ms/step - accuracy: 0.7530 - loss: 0.5028\n",
            "Epoch 262/300\n",
            "\u001b[1m774/774\u001b[0m \u001b[32m━━━━━━━━━━━━━━━━━━━━\u001b[0m\u001b[37m\u001b[0m \u001b[1m2s\u001b[0m 2ms/step - accuracy: 0.7512 - loss: 0.5043\n",
            "Epoch 263/300\n",
            "\u001b[1m774/774\u001b[0m \u001b[32m━━━━━━━━━━━━━━━━━━━━\u001b[0m\u001b[37m\u001b[0m \u001b[1m2s\u001b[0m 3ms/step - accuracy: 0.7512 - loss: 0.5029\n",
            "Epoch 264/300\n",
            "\u001b[1m774/774\u001b[0m \u001b[32m━━━━━━━━━━━━━━━━━━━━\u001b[0m\u001b[37m\u001b[0m \u001b[1m2s\u001b[0m 3ms/step - accuracy: 0.7515 - loss: 0.5045\n",
            "Epoch 265/300\n",
            "\u001b[1m774/774\u001b[0m \u001b[32m━━━━━━━━━━━━━━━━━━━━\u001b[0m\u001b[37m\u001b[0m \u001b[1m3s\u001b[0m 3ms/step - accuracy: 0.7505 - loss: 0.5054\n",
            "Epoch 266/300\n",
            "\u001b[1m774/774\u001b[0m \u001b[32m━━━━━━━━━━━━━━━━━━━━\u001b[0m\u001b[37m\u001b[0m \u001b[1m3s\u001b[0m 3ms/step - accuracy: 0.7494 - loss: 0.5074\n",
            "Epoch 267/300\n",
            "\u001b[1m774/774\u001b[0m \u001b[32m━━━━━━━━━━━━━━━━━━━━\u001b[0m\u001b[37m\u001b[0m \u001b[1m2s\u001b[0m 3ms/step - accuracy: 0.7503 - loss: 0.5059\n",
            "Epoch 268/300\n",
            "\u001b[1m774/774\u001b[0m \u001b[32m━━━━━━━━━━━━━━━━━━━━\u001b[0m\u001b[37m\u001b[0m \u001b[1m2s\u001b[0m 3ms/step - accuracy: 0.7538 - loss: 0.5027\n",
            "Epoch 269/300\n",
            "\u001b[1m774/774\u001b[0m \u001b[32m━━━━━━━━━━━━━━━━━━━━\u001b[0m\u001b[37m\u001b[0m \u001b[1m2s\u001b[0m 3ms/step - accuracy: 0.7547 - loss: 0.4969\n",
            "Epoch 270/300\n",
            "\u001b[1m774/774\u001b[0m \u001b[32m━━━━━━━━━━━━━━━━━━━━\u001b[0m\u001b[37m\u001b[0m \u001b[1m2s\u001b[0m 3ms/step - accuracy: 0.7504 - loss: 0.5051\n",
            "Epoch 271/300\n",
            "\u001b[1m774/774\u001b[0m \u001b[32m━━━━━━━━━━━━━━━━━━━━\u001b[0m\u001b[37m\u001b[0m \u001b[1m3s\u001b[0m 4ms/step - accuracy: 0.7511 - loss: 0.5021\n",
            "Epoch 272/300\n",
            "\u001b[1m774/774\u001b[0m \u001b[32m━━━━━━━━━━━━━━━━━━━━\u001b[0m\u001b[37m\u001b[0m \u001b[1m3s\u001b[0m 3ms/step - accuracy: 0.7504 - loss: 0.5041\n",
            "Epoch 273/300\n",
            "\u001b[1m774/774\u001b[0m \u001b[32m━━━━━━━━━━━━━━━━━━━━\u001b[0m\u001b[37m\u001b[0m \u001b[1m2s\u001b[0m 3ms/step - accuracy: 0.7503 - loss: 0.5064\n",
            "Epoch 274/300\n",
            "\u001b[1m774/774\u001b[0m \u001b[32m━━━━━━━━━━━━━━━━━━━━\u001b[0m\u001b[37m\u001b[0m \u001b[1m2s\u001b[0m 2ms/step - accuracy: 0.7536 - loss: 0.5010\n",
            "Epoch 275/300\n",
            "\u001b[1m774/774\u001b[0m \u001b[32m━━━━━━━━━━━━━━━━━━━━\u001b[0m\u001b[37m\u001b[0m \u001b[1m2s\u001b[0m 2ms/step - accuracy: 0.7549 - loss: 0.5025\n",
            "Epoch 276/300\n",
            "\u001b[1m774/774\u001b[0m \u001b[32m━━━━━━━━━━━━━━━━━━━━\u001b[0m\u001b[37m\u001b[0m \u001b[1m2s\u001b[0m 3ms/step - accuracy: 0.7522 - loss: 0.5014\n",
            "Epoch 277/300\n",
            "\u001b[1m774/774\u001b[0m \u001b[32m━━━━━━━━━━━━━━━━━━━━\u001b[0m\u001b[37m\u001b[0m \u001b[1m3s\u001b[0m 4ms/step - accuracy: 0.7514 - loss: 0.5047\n",
            "Epoch 278/300\n",
            "\u001b[1m774/774\u001b[0m \u001b[32m━━━━━━━━━━━━━━━━━━━━\u001b[0m\u001b[37m\u001b[0m \u001b[1m2s\u001b[0m 3ms/step - accuracy: 0.7516 - loss: 0.5047\n",
            "Epoch 279/300\n",
            "\u001b[1m774/774\u001b[0m \u001b[32m━━━━━━━━━━━━━━━━━━━━\u001b[0m\u001b[37m\u001b[0m \u001b[1m2s\u001b[0m 2ms/step - accuracy: 0.7510 - loss: 0.5042\n",
            "Epoch 280/300\n",
            "\u001b[1m774/774\u001b[0m \u001b[32m━━━━━━━━━━━━━━━━━━━━\u001b[0m\u001b[37m\u001b[0m \u001b[1m2s\u001b[0m 3ms/step - accuracy: 0.7545 - loss: 0.4963\n",
            "Epoch 281/300\n",
            "\u001b[1m774/774\u001b[0m \u001b[32m━━━━━━━━━━━━━━━━━━━━\u001b[0m\u001b[37m\u001b[0m \u001b[1m2s\u001b[0m 3ms/step - accuracy: 0.7536 - loss: 0.4982\n",
            "Epoch 282/300\n",
            "\u001b[1m774/774\u001b[0m \u001b[32m━━━━━━━━━━━━━━━━━━━━\u001b[0m\u001b[37m\u001b[0m \u001b[1m2s\u001b[0m 3ms/step - accuracy: 0.7513 - loss: 0.5039\n",
            "Epoch 283/300\n",
            "\u001b[1m774/774\u001b[0m \u001b[32m━━━━━━━━━━━━━━━━━━━━\u001b[0m\u001b[37m\u001b[0m \u001b[1m3s\u001b[0m 3ms/step - accuracy: 0.7511 - loss: 0.5066\n",
            "Epoch 284/300\n",
            "\u001b[1m774/774\u001b[0m \u001b[32m━━━━━━━━━━━━━━━━━━━━\u001b[0m\u001b[37m\u001b[0m \u001b[1m5s\u001b[0m 3ms/step - accuracy: 0.7502 - loss: 0.5048\n",
            "Epoch 285/300\n",
            "\u001b[1m774/774\u001b[0m \u001b[32m━━━━━━━━━━━━━━━━━━━━\u001b[0m\u001b[37m\u001b[0m \u001b[1m2s\u001b[0m 2ms/step - accuracy: 0.7548 - loss: 0.5019\n",
            "Epoch 286/300\n",
            "\u001b[1m774/774\u001b[0m \u001b[32m━━━━━━━━━━━━━━━━━━━━\u001b[0m\u001b[37m\u001b[0m \u001b[1m2s\u001b[0m 2ms/step - accuracy: 0.7497 - loss: 0.5050\n",
            "Epoch 287/300\n",
            "\u001b[1m774/774\u001b[0m \u001b[32m━━━━━━━━━━━━━━━━━━━━\u001b[0m\u001b[37m\u001b[0m \u001b[1m2s\u001b[0m 2ms/step - accuracy: 0.7510 - loss: 0.5032\n",
            "Epoch 288/300\n",
            "\u001b[1m774/774\u001b[0m \u001b[32m━━━━━━━━━━━━━━━━━━━━\u001b[0m\u001b[37m\u001b[0m \u001b[1m2s\u001b[0m 3ms/step - accuracy: 0.7546 - loss: 0.5006\n",
            "Epoch 289/300\n",
            "\u001b[1m774/774\u001b[0m \u001b[32m━━━━━━━━━━━━━━━━━━━━\u001b[0m\u001b[37m\u001b[0m \u001b[1m3s\u001b[0m 4ms/step - accuracy: 0.7553 - loss: 0.5025\n",
            "Epoch 290/300\n",
            "\u001b[1m774/774\u001b[0m \u001b[32m━━━━━━━━━━━━━━━━━━━━\u001b[0m\u001b[37m\u001b[0m \u001b[1m2s\u001b[0m 2ms/step - accuracy: 0.7518 - loss: 0.5055\n",
            "Epoch 291/300\n",
            "\u001b[1m774/774\u001b[0m \u001b[32m━━━━━━━━━━━━━━━━━━━━\u001b[0m\u001b[37m\u001b[0m \u001b[1m2s\u001b[0m 2ms/step - accuracy: 0.7502 - loss: 0.5026\n",
            "Epoch 292/300\n",
            "\u001b[1m774/774\u001b[0m \u001b[32m━━━━━━━━━━━━━━━━━━━━\u001b[0m\u001b[37m\u001b[0m \u001b[1m2s\u001b[0m 2ms/step - accuracy: 0.7541 - loss: 0.4991\n",
            "Epoch 293/300\n",
            "\u001b[1m774/774\u001b[0m \u001b[32m━━━━━━━━━━━━━━━━━━━━\u001b[0m\u001b[37m\u001b[0m \u001b[1m2s\u001b[0m 2ms/step - accuracy: 0.7532 - loss: 0.5008\n",
            "Epoch 294/300\n",
            "\u001b[1m774/774\u001b[0m \u001b[32m━━━━━━━━━━━━━━━━━━━━\u001b[0m\u001b[37m\u001b[0m \u001b[1m3s\u001b[0m 3ms/step - accuracy: 0.7505 - loss: 0.5058\n",
            "Epoch 295/300\n",
            "\u001b[1m774/774\u001b[0m \u001b[32m━━━━━━━━━━━━━━━━━━━━\u001b[0m\u001b[37m\u001b[0m \u001b[1m3s\u001b[0m 4ms/step - accuracy: 0.7521 - loss: 0.5038\n",
            "Epoch 296/300\n",
            "\u001b[1m774/774\u001b[0m \u001b[32m━━━━━━━━━━━━━━━━━━━━\u001b[0m\u001b[37m\u001b[0m \u001b[1m2s\u001b[0m 3ms/step - accuracy: 0.7501 - loss: 0.5047\n",
            "Epoch 297/300\n",
            "\u001b[1m774/774\u001b[0m \u001b[32m━━━━━━━━━━━━━━━━━━━━\u001b[0m\u001b[37m\u001b[0m \u001b[1m2s\u001b[0m 3ms/step - accuracy: 0.7537 - loss: 0.5015\n",
            "Epoch 298/300\n",
            "\u001b[1m774/774\u001b[0m \u001b[32m━━━━━━━━━━━━━━━━━━━━\u001b[0m\u001b[37m\u001b[0m \u001b[1m2s\u001b[0m 3ms/step - accuracy: 0.7518 - loss: 0.5055\n",
            "Epoch 299/300\n",
            "\u001b[1m774/774\u001b[0m \u001b[32m━━━━━━━━━━━━━━━━━━━━\u001b[0m\u001b[37m\u001b[0m \u001b[1m2s\u001b[0m 3ms/step - accuracy: 0.7489 - loss: 0.5056\n",
            "Epoch 300/300\n",
            "\u001b[1m774/774\u001b[0m \u001b[32m━━━━━━━━━━━━━━━━━━━━\u001b[0m\u001b[37m\u001b[0m \u001b[1m3s\u001b[0m 4ms/step - accuracy: 0.7522 - loss: 0.5042\n"
          ]
        },
        {
          "output_type": "execute_result",
          "data": {
            "text/plain": [
              "<keras.src.callbacks.history.History at 0x7b23f07a0950>"
            ]
          },
          "metadata": {},
          "execution_count": 99
        }
      ]
    },
    {
      "cell_type": "code",
      "source": [
        "nn_Y_pred = model.predict(X_test)"
      ],
      "metadata": {
        "colab": {
          "base_uri": "https://localhost:8080/"
        },
        "id": "c5Xx8GXI4ViV",
        "outputId": "8cdb24f9-37f0-4c0c-a838-8250a3d67ead"
      },
      "execution_count": 100,
      "outputs": [
        {
          "output_type": "stream",
          "name": "stdout",
          "text": [
            "\u001b[1m663/663\u001b[0m \u001b[32m━━━━━━━━━━━━━━━━━━━━\u001b[0m\u001b[37m\u001b[0m \u001b[1m2s\u001b[0m 2ms/step\n"
          ]
        }
      ]
    },
    {
      "cell_type": "code",
      "source": [
        "rounded = [round(x[0]) for x in nn_Y_pred]\n",
        "nn_Y_pred = rounded"
      ],
      "metadata": {
        "id": "FxJ-NnvB4bln"
      },
      "execution_count": 101,
      "outputs": []
    },
    {
      "cell_type": "code",
      "source": [
        "nn_acc = round(accuracy_score(nn_Y_pred,Y_test)*100,2)\n",
        "\n",
        "print(f\"The accuracy score achieved using Neural Network is: {nn_acc} %\")"
      ],
      "metadata": {
        "colab": {
          "base_uri": "https://localhost:8080/"
        },
        "id": "0U-j8Tzu4nSI",
        "outputId": "6fd8f6c6-fd7c-4034-fee9-0578a358fe84"
      },
      "execution_count": 102,
      "outputs": [
        {
          "output_type": "stream",
          "name": "stdout",
          "text": [
            "The accuracy score achieved using Neural Network is: 75.54 %\n"
          ]
        }
      ]
    },
    {
      "cell_type": "code",
      "source": [
        "# Slightly higher prediction rate than the other models"
      ],
      "metadata": {
        "id": "rapkBBKS4tac"
      },
      "execution_count": 103,
      "outputs": []
    },
    {
      "cell_type": "markdown",
      "source": [
        "#VI. Results"
      ],
      "metadata": {
        "id": "POWqWzVC9QRg"
      }
    },
    {
      "cell_type": "code",
      "source": [
        "#for display purposes\n",
        "model = ['Logistic Regression', 'K-Nearest Neighbors', 'XGBoost', 'Decision Tree',\n",
        "         'Random Forest', 'SVM', 'Naive Bayes', 'Stack ensemble', 'Neural Network']\n",
        "accs = [lr_acc, knn_acc, xgb_acc, dt_acc, rf_acc, svm_acc, nb_acc, stack_acc, nn_acc]\n",
        "\n",
        "#display bar graph\n",
        "plt.bar(model, accs)\n",
        "plt.xticks(rotation=45, ha='right')\n",
        "plt.ylabel('Accuracy')\n",
        "plt.xlabel('Models')\n",
        "plt.title('Comparison of Various Models in Predicting the presence of Heart Disease')\n",
        "plt.show()\n",
        "\n",
        "#outputting actual accuracies below graph\n",
        "for i in range(len(model)):\n",
        "    print(f\"The accuracy score achieved using {model[i]} is: {accs[i]} %\")"
      ],
      "metadata": {
        "colab": {
          "base_uri": "https://localhost:8080/",
          "height": 729
        },
        "id": "EVxCqeHO4wUq",
        "outputId": "3cb10d29-116a-4008-fdc3-28983e2e556e"
      },
      "execution_count": 118,
      "outputs": [
        {
          "output_type": "display_data",
          "data": {
            "text/plain": [
              "<Figure size 640x480 with 1 Axes>"
            ],
            "image/png": "[encoded data removed]"
          },
          "metadata": {}
        },
        {
          "output_type": "stream",
          "name": "stdout",
          "text": [
            "The accuracy score achieved using Logistic Regression is: 74.54 %\n",
            "The accuracy score achieved using K-Nearest Neighbors is: 72.91 %\n",
            "The accuracy score achieved using XGBoost is: 74.94 %\n",
            "The accuracy score achieved using Decision Tree is: 65.94 %\n",
            "The accuracy score achieved using Random Forest is: 72.85 %\n",
            "The accuracy score achieved using SVM is: 75.05 %\n",
            "The accuracy score achieved using Naive Bayes is: 72.64 %\n",
            "The accuracy score achieved using Stack ensemble is: 73.93 %\n",
            "The accuracy score achieved using Neural Network is: 75.54 %\n"
          ]
        }
      ]
    },
    {
      "cell_type": "markdown",
      "source": [
        "We see fairly similar results so might want to do more testing before choosing models."
      ],
      "metadata": {
        "id": "yyDYgbhHPEoA"
      }
    },
    {
      "cell_type": "markdown",
      "source": [
        "# XII. Saving models for external use"
      ],
      "metadata": {
        "id": "3Za7aeo-Gb45"
      }
    },
    {
      "cell_type": "markdown",
      "source": [
        "experimenting with models to improve the prediction rate"
      ],
      "metadata": {
        "id": "4sEd-fYHh6Gq"
      }
    },
    {
      "cell_type": "code",
      "source": [
        "#creating scaled data in case we want to test effects of scaling data on prediction rate\n",
        "scaler = MinMaxScaler(feature_range=(0, 1))\n",
        "scaler.fit(X_train)\n",
        "X_train_scaled = scaler.transform(X_train)\n",
        "X_test_scaled = scaler.transform(X_test)"
      ],
      "metadata": {
        "id": "3JhZ22KnhP6-"
      },
      "execution_count": 36,
      "outputs": []
    },
    {
      "cell_type": "code",
      "source": [
        "lr_2 = LogisticRegression()\n",
        "\n",
        "lr_2.fit(X_train_scaled,Y_train)\n",
        "\n",
        "lr_2_pred = lr_2.predict(X_test_scaled)"
      ],
      "metadata": {
        "id": "CV_08z-nl6BX"
      },
      "execution_count": 40,
      "outputs": []
    },
    {
      "cell_type": "code",
      "source": [
        "lr_2_acc = round(accuracy_score(lr_2_pred,Y_test)*100,2)\n",
        "\n",
        "print(f\"The accuracy score achieved using Logistic Regression is: {lr_2_acc} %\")"
      ],
      "metadata": {
        "id": "127gAKGok3e6",
        "outputId": "c9aac304-ca55-4867-f233-fe88884e935e",
        "colab": {
          "base_uri": "https://localhost:8080/"
        }
      },
      "execution_count": 41,
      "outputs": [
        {
          "output_type": "stream",
          "name": "stdout",
          "text": [
            "The accuracy score achieved using Logistic Regression is: 74.86 %\n"
          ]
        }
      ]
    },
    {
      "cell_type": "code",
      "source": [
        "#try to beat 74.54 unscaled, 74.86 scaled"
      ],
      "metadata": {
        "id": "hlv2XFb4noYC"
      },
      "execution_count": null,
      "outputs": []
    },
    {
      "cell_type": "code",
      "source": [
        "param_grid = {\n",
        "        'C': [0.001, 0.01, 0.1, 1, 10, 100],\n",
        "        'penalty': ['l1', 'l2'],\n",
        "        'solver': ['liblinear','lbfgs', 'saga']\n",
        "}\n",
        "log_reg = LogisticRegression(random_state=42) # Initialize Logistic Regression\n",
        "grid_search = GridSearchCV(estimator=log_reg, param_grid=param_grid, cv=5, scoring='accuracy')"
      ],
      "metadata": {
        "id": "x9ILjEvXrMfs"
      },
      "execution_count": 44,
      "outputs": []
    },
    {
      "cell_type": "code",
      "source": [
        "   grid_search.fit(X_train_scaled, Y_train)"
      ],
      "metadata": {
        "id": "WbNYev0jr6j_",
        "outputId": "1deb3f77-c0c3-413a-aa75-8c1702811399",
        "colab": {
          "base_uri": "https://localhost:8080/",
          "height": 166
        }
      },
      "execution_count": 46,
      "outputs": [
        {
          "output_type": "execute_result",
          "data": {
            "text/plain": [
              "GridSearchCV(cv=5, estimator=LogisticRegression(random_state=42),\n",
              "             param_grid={'C': [0.001, 0.01, 0.1, 1, 10, 100],\n",
              "                         'penalty': ['l1', 'l2'],\n",
              "                         'solver': ['liblinear', 'saga']},\n",
              "             scoring='accuracy')"
            ],
            "text/html": [
              "<style>#sk-container-id-2 {\n",
              "  /* Definition of color scheme common for light and dark mode */\n",
              "  --sklearn-color-text: #000;\n",
              "  --sklearn-color-text-muted: #666;\n",
              "  --sklearn-color-line: gray;\n",
              "  /* Definition of color scheme for unfitted estimators */\n",
              "  --sklearn-color-unfitted-level-0: #fff5e6;\n",
              "  --sklearn-color-unfitted-level-1: #f6e4d2;\n",
              "  --sklearn-color-unfitted-level-2: #ffe0b3;\n",
              "  --sklearn-color-unfitted-level-3: chocolate;\n",
              "  /* Definition of color scheme for fitted estimators */\n",
              "  --sklearn-color-fitted-level-0: #f0f8ff;\n",
              "  --sklearn-color-fitted-level-1: #d4ebff;\n",
              "  --sklearn-color-fitted-level-2: #b3dbfd;\n",
              "  --sklearn-color-fitted-level-3: cornflowerblue;\n",
              "\n",
              "  /* Specific color for light theme */\n",
              "  --sklearn-color-text-on-default-background: var(--sg-text-color, var(--theme-code-foreground, var(--jp-content-font-color1, black)));\n",
              "  --sklearn-color-background: var(--sg-background-color, var(--theme-background, var(--jp-layout-color0, white)));\n",
              "  --sklearn-color-border-box: var(--sg-text-color, var(--theme-code-foreground, var(--jp-content-font-color1, black)));\n",
              "  --sklearn-color-icon: #696969;\n",
              "\n",
              "  @media (prefers-color-scheme: dark) {\n",
              "    /* Redefinition of color scheme for dark theme */\n",
              "    --sklearn-color-text-on-default-background: var(--sg-text-color, var(--theme-code-foreground, var(--jp-content-font-color1, white)));\n",
              "    --sklearn-color-background: var(--sg-background-color, var(--theme-background, var(--jp-layout-color0, #111)));\n",
              "    --sklearn-color-border-box: var(--sg-text-color, var(--theme-code-foreground, var(--jp-content-font-color1, white)));\n",
              "    --sklearn-color-icon: #878787;\n",
              "  }\n",
              "}\n",
              "\n",
              "#sk-container-id-2 {\n",
              "  color: var(--sklearn-color-text);\n",
              "}\n",
              "\n",
              "#sk-container-id-2 pre {\n",
              "  padding: 0;\n",
              "}\n",
              "\n",
              "#sk-container-id-2 input.sk-hidden--visually {\n",
              "  border: 0;\n",
              "  clip: rect(1px 1px 1px 1px);\n",
              "  clip: rect(1px, 1px, 1px, 1px);\n",
              "  height: 1px;\n",
              "  margin: -1px;\n",
              "  overflow: hidden;\n",
              "  padding: 0;\n",
              "  position: absolute;\n",
              "  width: 1px;\n",
              "}\n",
              "\n",
              "#sk-container-id-2 div.sk-dashed-wrapped {\n",
              "  border: 1px dashed var(--sklearn-color-line);\n",
              "  margin: 0 0.4em 0.5em 0.4em;\n",
              "  box-sizing: border-box;\n",
              "  padding-bottom: 0.4em;\n",
              "  background-color: var(--sklearn-color-background);\n",
              "}\n",
              "\n",
              "#sk-container-id-2 div.sk-container {\n",
              "  /* jupyter's `normalize.less` sets `[hidden] { display: none; }`\n",
              "     but bootstrap.min.css set `[hidden] { display: none !important; }`\n",
              "     so we also need the `!important` here to be able to override the\n",
              "     default hidden behavior on the sphinx rendered scikit-learn.org.\n",
              "     See: https://github.com/scikit-learn/scikit-learn/issues/21755 */\n",
              "  display: inline-block !important;\n",
              "  position: relative;\n",
              "}\n",
              "\n",
              "#sk-container-id-2 div.sk-text-repr-fallback {\n",
              "  display: none;\n",
              "}\n",
              "\n",
              "div.sk-parallel-item,\n",
              "div.sk-serial,\n",
              "div.sk-item {\n",
              "  /* draw centered vertical line to link estimators */\n",
              "  background-image: linear-gradient(var(--sklearn-color-text-on-default-background), var(--sklearn-color-text-on-default-background));\n",
              "  background-size: 2px 100%;\n",
              "  background-repeat: no-repeat;\n",
              "  background-position: center center;\n",
              "}\n",
              "\n",
              "/* Parallel-specific style estimator block */\n",
              "\n",
              "#sk-container-id-2 div.sk-parallel-item::after {\n",
              "  content: \"\";\n",
              "  width: 100%;\n",
              "  border-bottom: 2px solid var(--sklearn-color-text-on-default-background);\n",
              "  flex-grow: 1;\n",
              "}\n",
              "\n",
              "#sk-container-id-2 div.sk-parallel {\n",
              "  display: flex;\n",
              "  align-items: stretch;\n",
              "  justify-content: center;\n",
              "  background-color: var(--sklearn-color-background);\n",
              "  position: relative;\n",
              "}\n",
              "\n",
              "#sk-container-id-2 div.sk-parallel-item {\n",
              "  display: flex;\n",
              "  flex-direction: column;\n",
              "}\n",
              "\n",
              "#sk-container-id-2 div.sk-parallel-item:first-child::after {\n",
              "  align-self: flex-end;\n",
              "  width: 50%;\n",
              "}\n",
              "\n",
              "#sk-container-id-2 div.sk-parallel-item:last-child::after {\n",
              "  align-self: flex-start;\n",
              "  width: 50%;\n",
              "}\n",
              "\n",
              "#sk-container-id-2 div.sk-parallel-item:only-child::after {\n",
              "  width: 0;\n",
              "}\n",
              "\n",
              "/* Serial-specific style estimator block */\n",
              "\n",
              "#sk-container-id-2 div.sk-serial {\n",
              "  display: flex;\n",
              "  flex-direction: column;\n",
              "  align-items: center;\n",
              "  background-color: var(--sklearn-color-background);\n",
              "  padding-right: 1em;\n",
              "  padding-left: 1em;\n",
              "}\n",
              "\n",
              "\n",
              "/* Toggleable style: style used for estimator/Pipeline/ColumnTransformer box that is\n",
              "clickable and can be expanded/collapsed.\n",
              "- Pipeline and ColumnTransformer use this feature and define the default style\n",
              "- Estimators will overwrite some part of the style using the `sk-estimator` class\n",
              "*/\n",
              "\n",
              "/* Pipeline and ColumnTransformer style (default) */\n",
              "\n",
              "#sk-container-id-2 div.sk-toggleable {\n",
              "  /* Default theme specific background. It is overwritten whether we have a\n",
              "  specific estimator or a Pipeline/ColumnTransformer */\n",
              "  background-color: var(--sklearn-color-background);\n",
              "}\n",
              "\n",
              "/* Toggleable label */\n",
              "#sk-container-id-2 label.sk-toggleable__label {\n",
              "  cursor: pointer;\n",
              "  display: flex;\n",
              "  width: 100%;\n",
              "  margin-bottom: 0;\n",
              "  padding: 0.5em;\n",
              "  box-sizing: border-box;\n",
              "  text-align: center;\n",
              "  align-items: start;\n",
              "  justify-content: space-between;\n",
              "  gap: 0.5em;\n",
              "}\n",
              "\n",
              "#sk-container-id-2 label.sk-toggleable__label .caption {\n",
              "  font-size: 0.6rem;\n",
              "  font-weight: lighter;\n",
              "  color: var(--sklearn-color-text-muted);\n",
              "}\n",
              "\n",
              "#sk-container-id-2 label.sk-toggleable__label-arrow:before {\n",
              "  /* Arrow on the left of the label */\n",
              "  content: \"▸\";\n",
              "  float: left;\n",
              "  margin-right: 0.25em;\n",
              "  color: var(--sklearn-color-icon);\n",
              "}\n",
              "\n",
              "#sk-container-id-2 label.sk-toggleable__label-arrow:hover:before {\n",
              "  color: var(--sklearn-color-text);\n",
              "}\n",
              "\n",
              "/* Toggleable content - dropdown */\n",
              "\n",
              "#sk-container-id-2 div.sk-toggleable__content {\n",
              "  max-height: 0;\n",
              "  max-width: 0;\n",
              "  overflow: hidden;\n",
              "  text-align: left;\n",
              "  /* unfitted */\n",
              "  background-color: var(--sklearn-color-unfitted-level-0);\n",
              "}\n",
              "\n",
              "#sk-container-id-2 div.sk-toggleable__content.fitted {\n",
              "  /* fitted */\n",
              "  background-color: var(--sklearn-color-fitted-level-0);\n",
              "}\n",
              "\n",
              "#sk-container-id-2 div.sk-toggleable__content pre {\n",
              "  margin: 0.2em;\n",
              "  border-radius: 0.25em;\n",
              "  color: var(--sklearn-color-text);\n",
              "  /* unfitted */\n",
              "  background-color: var(--sklearn-color-unfitted-level-0);\n",
              "}\n",
              "\n",
              "#sk-container-id-2 div.sk-toggleable__content.fitted pre {\n",
              "  /* unfitted */\n",
              "  background-color: var(--sklearn-color-fitted-level-0);\n",
              "}\n",
              "\n",
              "#sk-container-id-2 input.sk-toggleable__control:checked~div.sk-toggleable__content {\n",
              "  /* Expand drop-down */\n",
              "  max-height: 200px;\n",
              "  max-width: 100%;\n",
              "  overflow: auto;\n",
              "}\n",
              "\n",
              "#sk-container-id-2 input.sk-toggleable__control:checked~label.sk-toggleable__label-arrow:before {\n",
              "  content: \"▾\";\n",
              "}\n",
              "\n",
              "/* Pipeline/ColumnTransformer-specific style */\n",
              "\n",
              "#sk-container-id-2 div.sk-label input.sk-toggleable__control:checked~label.sk-toggleable__label {\n",
              "  color: var(--sklearn-color-text);\n",
              "  background-color: var(--sklearn-color-unfitted-level-2);\n",
              "}\n",
              "\n",
              "#sk-container-id-2 div.sk-label.fitted input.sk-toggleable__control:checked~label.sk-toggleable__label {\n",
              "  background-color: var(--sklearn-color-fitted-level-2);\n",
              "}\n",
              "\n",
              "/* Estimator-specific style */\n",
              "\n",
              "/* Colorize estimator box */\n",
              "#sk-container-id-2 div.sk-estimator input.sk-toggleable__control:checked~label.sk-toggleable__label {\n",
              "  /* unfitted */\n",
              "  background-color: var(--sklearn-color-unfitted-level-2);\n",
              "}\n",
              "\n",
              "#sk-container-id-2 div.sk-estimator.fitted input.sk-toggleable__control:checked~label.sk-toggleable__label {\n",
              "  /* fitted */\n",
              "  background-color: var(--sklearn-color-fitted-level-2);\n",
              "}\n",
              "\n",
              "#sk-container-id-2 div.sk-label label.sk-toggleable__label,\n",
              "#sk-container-id-2 div.sk-label label {\n",
              "  /* The background is the default theme color */\n",
              "  color: var(--sklearn-color-text-on-default-background);\n",
              "}\n",
              "\n",
              "/* On hover, darken the color of the background */\n",
              "#sk-container-id-2 div.sk-label:hover label.sk-toggleable__label {\n",
              "  color: var(--sklearn-color-text);\n",
              "  background-color: var(--sklearn-color-unfitted-level-2);\n",
              "}\n",
              "\n",
              "/* Label box, darken color on hover, fitted */\n",
              "#sk-container-id-2 div.sk-label.fitted:hover label.sk-toggleable__label.fitted {\n",
              "  color: var(--sklearn-color-text);\n",
              "  background-color: var(--sklearn-color-fitted-level-2);\n",
              "}\n",
              "\n",
              "/* Estimator label */\n",
              "\n",
              "#sk-container-id-2 div.sk-label label {\n",
              "  font-family: monospace;\n",
              "  font-weight: bold;\n",
              "  display: inline-block;\n",
              "  line-height: 1.2em;\n",
              "}\n",
              "\n",
              "#sk-container-id-2 div.sk-label-container {\n",
              "  text-align: center;\n",
              "}\n",
              "\n",
              "/* Estimator-specific */\n",
              "#sk-container-id-2 div.sk-estimator {\n",
              "  font-family: monospace;\n",
              "  border: 1px dotted var(--sklearn-color-border-box);\n",
              "  border-radius: 0.25em;\n",
              "  box-sizing: border-box;\n",
              "  margin-bottom: 0.5em;\n",
              "  /* unfitted */\n",
              "  background-color: var(--sklearn-color-unfitted-level-0);\n",
              "}\n",
              "\n",
              "#sk-container-id-2 div.sk-estimator.fitted {\n",
              "  /* fitted */\n",
              "  background-color: var(--sklearn-color-fitted-level-0);\n",
              "}\n",
              "\n",
              "/* on hover */\n",
              "#sk-container-id-2 div.sk-estimator:hover {\n",
              "  /* unfitted */\n",
              "  background-color: var(--sklearn-color-unfitted-level-2);\n",
              "}\n",
              "\n",
              "#sk-container-id-2 div.sk-estimator.fitted:hover {\n",
              "  /* fitted */\n",
              "  background-color: var(--sklearn-color-fitted-level-2);\n",
              "}\n",
              "\n",
              "/* Specification for estimator info (e.g. \"i\" and \"?\") */\n",
              "\n",
              "/* Common style for \"i\" and \"?\" */\n",
              "\n",
              ".sk-estimator-doc-link,\n",
              "a:link.sk-estimator-doc-link,\n",
              "a:visited.sk-estimator-doc-link {\n",
              "  float: right;\n",
              "  font-size: smaller;\n",
              "  line-height: 1em;\n",
              "  font-family: monospace;\n",
              "  background-color: var(--sklearn-color-background);\n",
              "  border-radius: 1em;\n",
              "  height: 1em;\n",
              "  width: 1em;\n",
              "  text-decoration: none !important;\n",
              "  margin-left: 0.5em;\n",
              "  text-align: center;\n",
              "  /* unfitted */\n",
              "  border: var(--sklearn-color-unfitted-level-1) 1pt solid;\n",
              "  color: var(--sklearn-color-unfitted-level-1);\n",
              "}\n",
              "\n",
              ".sk-estimator-doc-link.fitted,\n",
              "a:link.sk-estimator-doc-link.fitted,\n",
              "a:visited.sk-estimator-doc-link.fitted {\n",
              "  /* fitted */\n",
              "  border: var(--sklearn-color-fitted-level-1) 1pt solid;\n",
              "  color: var(--sklearn-color-fitted-level-1);\n",
              "}\n",
              "\n",
              "/* On hover */\n",
              "div.sk-estimator:hover .sk-estimator-doc-link:hover,\n",
              ".sk-estimator-doc-link:hover,\n",
              "div.sk-label-container:hover .sk-estimator-doc-link:hover,\n",
              ".sk-estimator-doc-link:hover {\n",
              "  /* unfitted */\n",
              "  background-color: var(--sklearn-color-unfitted-level-3);\n",
              "  color: var(--sklearn-color-background);\n",
              "  text-decoration: none;\n",
              "}\n",
              "\n",
              "div.sk-estimator.fitted:hover .sk-estimator-doc-link.fitted:hover,\n",
              ".sk-estimator-doc-link.fitted:hover,\n",
              "div.sk-label-container:hover .sk-estimator-doc-link.fitted:hover,\n",
              ".sk-estimator-doc-link.fitted:hover {\n",
              "  /* fitted */\n",
              "  background-color: var(--sklearn-color-fitted-level-3);\n",
              "  color: var(--sklearn-color-background);\n",
              "  text-decoration: none;\n",
              "}\n",
              "\n",
              "/* Span, style for the box shown on hovering the info icon */\n",
              ".sk-estimator-doc-link span {\n",
              "  display: none;\n",
              "  z-index: 9999;\n",
              "  position: relative;\n",
              "  font-weight: normal;\n",
              "  right: .2ex;\n",
              "  padding: .5ex;\n",
              "  margin: .5ex;\n",
              "  width: min-content;\n",
              "  min-width: 20ex;\n",
              "  max-width: 50ex;\n",
              "  color: var(--sklearn-color-text);\n",
              "  box-shadow: 2pt 2pt 4pt #999;\n",
              "  /* unfitted */\n",
              "  background: var(--sklearn-color-unfitted-level-0);\n",
              "  border: .5pt solid var(--sklearn-color-unfitted-level-3);\n",
              "}\n",
              "\n",
              ".sk-estimator-doc-link.fitted span {\n",
              "  /* fitted */\n",
              "  background: var(--sklearn-color-fitted-level-0);\n",
              "  border: var(--sklearn-color-fitted-level-3);\n",
              "}\n",
              "\n",
              ".sk-estimator-doc-link:hover span {\n",
              "  display: block;\n",
              "}\n",
              "\n",
              "/* \"?\"-specific style due to the `<a>` HTML tag */\n",
              "\n",
              "#sk-container-id-2 a.estimator_doc_link {\n",
              "  float: right;\n",
              "  font-size: 1rem;\n",
              "  line-height: 1em;\n",
              "  font-family: monospace;\n",
              "  background-color: var(--sklearn-color-background);\n",
              "  border-radius: 1rem;\n",
              "  height: 1rem;\n",
              "  width: 1rem;\n",
              "  text-decoration: none;\n",
              "  /* unfitted */\n",
              "  color: var(--sklearn-color-unfitted-level-1);\n",
              "  border: var(--sklearn-color-unfitted-level-1) 1pt solid;\n",
              "}\n",
              "\n",
              "#sk-container-id-2 a.estimator_doc_link.fitted {\n",
              "  /* fitted */\n",
              "  border: var(--sklearn-color-fitted-level-1) 1pt solid;\n",
              "  color: var(--sklearn-color-fitted-level-1);\n",
              "}\n",
              "\n",
              "/* On hover */\n",
              "#sk-container-id-2 a.estimator_doc_link:hover {\n",
              "  /* unfitted */\n",
              "  background-color: var(--sklearn-color-unfitted-level-3);\n",
              "  color: var(--sklearn-color-background);\n",
              "  text-decoration: none;\n",
              "}\n",
              "\n",
              "#sk-container-id-2 a.estimator_doc_link.fitted:hover {\n",
              "  /* fitted */\n",
              "  background-color: var(--sklearn-color-fitted-level-3);\n",
              "}\n",
              "</style><div id=\"sk-container-id-2\" class=\"sk-top-container\"><div class=\"sk-text-repr-fallback\"><pre>GridSearchCV(cv=5, estimator=LogisticRegression(random_state=42),\n",
              "             param_grid={&#x27;C&#x27;: [0.001, 0.01, 0.1, 1, 10, 100],\n",
              "                         &#x27;penalty&#x27;: [&#x27;l1&#x27;, &#x27;l2&#x27;],\n",
              "                         &#x27;solver&#x27;: [&#x27;liblinear&#x27;, &#x27;saga&#x27;]},\n",
              "             scoring=&#x27;accuracy&#x27;)</pre><b>In a Jupyter environment, please rerun this cell to show the HTML representation or trust the notebook. <br />On GitHub, the HTML representation is unable to render, please try loading this page with nbviewer.org.</b></div><div class=\"sk-container\" hidden><div class=\"sk-item sk-dashed-wrapped\"><div class=\"sk-label-container\"><div class=\"sk-label fitted sk-toggleable\"><input class=\"sk-toggleable__control sk-hidden--visually\" id=\"sk-estimator-id-6\" type=\"checkbox\" ><label for=\"sk-estimator-id-6\" class=\"sk-toggleable__label fitted sk-toggleable__label-arrow\"><div><div>GridSearchCV</div></div><div><a class=\"sk-estimator-doc-link fitted\" rel=\"noreferrer\" target=\"_blank\" href=\"https://scikit-learn.org/1.6/modules/generated/sklearn.model_selection.GridSearchCV.html\">?<span>Documentation for GridSearchCV</span></a><span class=\"sk-estimator-doc-link fitted\">i<span>Fitted</span></span></div></label><div class=\"sk-toggleable__content fitted\"><pre>GridSearchCV(cv=5, estimator=LogisticRegression(random_state=42),\n",
              "             param_grid={&#x27;C&#x27;: [0.001, 0.01, 0.1, 1, 10, 100],\n",
              "                         &#x27;penalty&#x27;: [&#x27;l1&#x27;, &#x27;l2&#x27;],\n",
              "                         &#x27;solver&#x27;: [&#x27;liblinear&#x27;, &#x27;saga&#x27;]},\n",
              "             scoring=&#x27;accuracy&#x27;)</pre></div> </div></div><div class=\"sk-parallel\"><div class=\"sk-parallel-item\"><div class=\"sk-item\"><div class=\"sk-label-container\"><div class=\"sk-label fitted sk-toggleable\"><input class=\"sk-toggleable__control sk-hidden--visually\" id=\"sk-estimator-id-7\" type=\"checkbox\" ><label for=\"sk-estimator-id-7\" class=\"sk-toggleable__label fitted sk-toggleable__label-arrow\"><div><div>best_estimator_: LogisticRegression</div></div></label><div class=\"sk-toggleable__content fitted\"><pre>LogisticRegression(C=100, random_state=42, solver=&#x27;saga&#x27;)</pre></div> </div></div><div class=\"sk-serial\"><div class=\"sk-item\"><div class=\"sk-estimator fitted sk-toggleable\"><input class=\"sk-toggleable__control sk-hidden--visually\" id=\"sk-estimator-id-8\" type=\"checkbox\" ><label for=\"sk-estimator-id-8\" class=\"sk-toggleable__label fitted sk-toggleable__label-arrow\"><div><div>LogisticRegression</div></div><div><a class=\"sk-estimator-doc-link fitted\" rel=\"noreferrer\" target=\"_blank\" href=\"https://scikit-learn.org/1.6/modules/generated/sklearn.linear_model.LogisticRegression.html\">?<span>Documentation for LogisticRegression</span></a></div></label><div class=\"sk-toggleable__content fitted\"><pre>LogisticRegression(C=100, random_state=42, solver=&#x27;saga&#x27;)</pre></div> </div></div></div></div></div></div></div></div></div>"
            ]
          },
          "metadata": {},
          "execution_count": 46
        }
      ]
    },
    {
      "cell_type": "code",
      "source": [
        "print(\"Best parameters:\", grid_search.best_params_)\n",
        "best_model = grid_search.best_estimator_"
      ],
      "metadata": {
        "id": "UWGMyMwtsDea",
        "outputId": "abc97031-1ef9-4dd2-e9f1-c9575efb020a",
        "colab": {
          "base_uri": "https://localhost:8080/"
        }
      },
      "execution_count": 47,
      "outputs": [
        {
          "output_type": "stream",
          "name": "stdout",
          "text": [
            "Best parameters: {'C': 100, 'penalty': 'l2', 'solver': 'saga'}\n"
          ]
        }
      ]
    },
    {
      "cell_type": "code",
      "source": [
        "best_model_pred = best_model.predict(X_test_scaled)\n",
        "best_model_acc = round(accuracy_score(best_model_pred,Y_test)*100,2)\n",
        "\n",
        "print(f\"The accuracy score achieved using Logistic Regression is: {best_model_acc} %\")"
      ],
      "metadata": {
        "id": "u5QhbyjNsJla",
        "outputId": "8841dbd1-c3bf-4cc9-e116-fde232ab55f3",
        "colab": {
          "base_uri": "https://localhost:8080/"
        }
      },
      "execution_count": 48,
      "outputs": [
        {
          "output_type": "stream",
          "name": "stdout",
          "text": [
            "The accuracy score achieved using Logistic Regression is: 74.83 %\n"
          ]
        }
      ]
    },
    {
      "cell_type": "code",
      "source": [
        "#choosing which model to use to predict chances of having heart disease based on patiient data\n",
        "import pickle\n",
        "# Assuming 'model' is your trained ML model\n",
        "with open('diabetes_model.pkl', 'wb') as f:\n",
        "  pickle.dump(xgb_model, f)"
      ],
      "metadata": {
        "id": "uLJa6gSmGbmM"
      },
      "execution_count": null,
      "outputs": []
    }
  ]
}